{
 "cells": [
  {
   "cell_type": "markdown",
   "metadata": {
    "id": "_jQ1tEQCxwRx"
   },
   "source": [
    "##### Copyright 2020 The TensorFlow Authors."
   ]
  },
  {
   "cell_type": "code",
   "execution_count": 1,
   "metadata": {
    "cellView": "form",
    "execution": {
     "iopub.execute_input": "2023-09-28T01:25:35.264413Z",
     "iopub.status.busy": "2023-09-28T01:25:35.264187Z",
     "iopub.status.idle": "2023-09-28T01:25:35.267956Z",
     "shell.execute_reply": "2023-09-28T01:25:35.267375Z"
    },
    "id": "V_sgB_5dx1f1"
   },
   "outputs": [],
   "source": [
    "#@title Licensed under the Apache License, Version 2.0 (the \"License\");\n",
    "# you may not use this file except in compliance with the License.\n",
    "# You may obtain a copy of the License at\n",
    "#\n",
    "# https://www.apache.org/licenses/LICENSE-2.0\n",
    "#\n",
    "# Unless required by applicable law or agreed to in writing, software\n",
    "# distributed under the License is distributed on an \"AS IS\" BASIS,\n",
    "# WITHOUT WARRANTIES OR CONDITIONS OF ANY KIND, either express or implied.\n",
    "# See the License for the specific language governing permissions and\n",
    "# limitations under the License."
   ]
  },
  {
   "cell_type": "markdown",
   "metadata": {
    "id": "p62G8M_viUJp"
   },
   "source": [
    "# Playing CartPole with the Actor-Critic method\n"
   ]
  },
  {
   "cell_type": "markdown",
   "metadata": {
    "id": "-mJ2i6jvZ3sK"
   },
   "source": [
    "<table class=\"tfo-notebook-buttons\" align=\"left\">\n",
    "  <td>\n",
    "    <a target=\"_blank\" href=\"https://www.tensorflow.org/tutorials/reinforcement_learning/actor_critic\">\n",
    "    <img src=\"https://www.tensorflow.org/images/tf_logo_32px.png\" />\n",
    "    View on TensorFlow.org</a>\n",
    "  </td>\n",
    "  <td>\n",
    "    <a target=\"_blank\" href=\"https://colab.research.google.com/github/tensorflow/docs/blob/master/site/en/tutorials/reinforcement_learning/actor_critic.ipynb\">\n",
    "    <img src=\"https://www.tensorflow.org/images/colab_logo_32px.png\" />\n",
    "    Run in Google Colab</a>\n",
    "  </td>\n",
    "  <td>\n",
    "    <a target=\"_blank\" href=\"https://github.com/tensorflow/docs/blob/master/site/en/tutorials/reinforcement_learning/actor_critic.ipynb\">\n",
    "    <img src=\"https://www.tensorflow.org/images/GitHub-Mark-32px.png\" />\n",
    "    View source on GitHub</a>\n",
    "  </td>\n",
    "  <td>\n",
    "    <a href=\"https://storage.googleapis.com/tensorflow_docs/docs/site/en/tutorials/reinforcement_learning/actor_critic.ipynb\"><img src=\"https://www.tensorflow.org/images/download_logo_32px.png\" />Download notebook</a>\n",
    "  </td>\n",
    "</table>"
   ]
  },
  {
   "cell_type": "markdown",
   "metadata": {
    "id": "kFgN7h_wiUJq"
   },
   "source": [
    "This tutorial demonstrates how to implement the [Actor-Critic](https://papers.nips.cc/paper/1786-actor-critic-algorithms.pdf) method using TensorFlow to train an agent on the [Open AI Gym](https://www.gymlibrary.dev/) [`CartPole-v0`](https://www.gymlibrary.dev/environments/classic_control/cart_pole/) environment.\n",
    "The reader is assumed to have some familiarity with [policy gradient methods](https://papers.nips.cc/paper/1713-policy-gradient-methods-for-reinforcement-learning-with-function-approximation.pdf) of [(deep) reinforcement learning](https://en.wikipedia.org/wiki/Deep_reinforcement_learning).\n"
   ]
  },
  {
   "cell_type": "markdown",
   "metadata": {
    "id": "_kA10ZKRR0hi"
   },
   "source": [
    "**Actor-Critic methods**\n",
    "\n",
    "Actor-Critic methods are [temporal difference (TD) learning](https://en.wikipedia.org/wiki/Temporal_difference_learning) methods that represent the policy function independent of the value function.\n",
    "\n",
    "A policy function (or policy) returns a probability distribution over actions that the agent can take based on the given state.\n",
    "A value function determines the expected return for an agent starting at a given state and acting according to a particular policy forever after.\n",
    "\n",
    "In the Actor-Critic method, the policy is referred to as the *actor* that proposes a set of possible actions given a state, and the estimated value function is referred to as the *critic*, which evaluates actions taken by the *actor* based on the given policy.\n",
    "\n",
    "In this tutorial, both the *Actor* and *Critic* will be represented using one neural network with two outputs.\n"
   ]
  },
  {
   "cell_type": "markdown",
   "metadata": {
    "id": "rBfiafKSRs2k"
   },
   "source": [
    "**`CartPole-v0`**\n",
    "\n",
    "In the [`CartPole-v0` environment](https://www.gymlibrary.dev/environments/classic_control/cart_pole/), a pole is attached to a cart moving along a frictionless track.\n",
    "The pole starts upright and the goal of the agent is to prevent it from falling over by applying a force of `-1` or `+1` to the cart.\n",
    "A reward of `+1` is given for every time step the pole remains upright.\n",
    "An episode ends when: 1) the pole is more than 15 degrees from vertical; or 2) the cart moves more than 2.4 units from the center.\n",
    "\n",
    "<center>\n",
    "  <figure>\n",
    "    <image src=\"https://tensorflow.org/tutorials/reinforcement_learning/images/cartpole-v0.gif\">\n",
    "    <figcaption>\n",
    "      Trained actor-critic model in Cartpole-v0 environment\n",
    "    </figcaption>\n",
    "  </figure>\n",
    "</center>\n"
   ]
  },
  {
   "cell_type": "markdown",
   "metadata": {
    "id": "XSNVK0AeRoJd"
   },
   "source": [
    "The problem is considered \"solved\" when the average total reward for the episode reaches 195 over 100 consecutive trials."
   ]
  },
  {
   "cell_type": "markdown",
   "metadata": {
    "id": "glLwIctHiUJq"
   },
   "source": [
    "## Setup\n",
    "\n",
    "Import necessary packages and configure global settings.\n"
   ]
  },
  {
   "cell_type": "code",
   "execution_count": 2,
   "metadata": {
    "execution": {
     "iopub.execute_input": "2023-09-28T01:25:35.271736Z",
     "iopub.status.busy": "2023-09-28T01:25:35.271315Z",
     "iopub.status.idle": "2023-09-28T01:25:45.517370Z",
     "shell.execute_reply": "2023-09-28T01:25:45.516290Z"
    },
    "id": "13l6BbxKhCKp"
   },
   "outputs": [
    {
     "name": "stdout",
     "output_type": "stream",
     "text": [
      "Collecting gym[classic_control]\r\n"
     ]
    },
    {
     "name": "stdout",
     "output_type": "stream",
     "text": [
      "  Downloading gym-0.26.2.tar.gz (721 kB)\r\n"
     ]
    },
    {
     "name": "stdout",
     "output_type": "stream",
     "text": [
      "  Installing build dependencies ... \u001b[?25l-"
     ]
    },
    {
     "name": "stdout",
     "output_type": "stream",
     "text": [
      "\b \b\\"
     ]
    },
    {
     "name": "stdout",
     "output_type": "stream",
     "text": [
      "\b \b|"
     ]
    },
    {
     "name": "stdout",
     "output_type": "stream",
     "text": [
      "\b \b/"
     ]
    },
    {
     "name": "stdout",
     "output_type": "stream",
     "text": [
      "\b \bdone\r\n"
     ]
    },
    {
     "name": "stdout",
     "output_type": "stream",
     "text": [
      "\u001b[?25h  Getting requirements to build wheel ... \u001b[?25l-\b \bdone\r\n"
     ]
    },
    {
     "name": "stdout",
     "output_type": "stream",
     "text": [
      "\u001b[?25h  Preparing metadata (pyproject.toml) ... \u001b[?25l-"
     ]
    },
    {
     "name": "stdout",
     "output_type": "stream",
     "text": [
      "\b \bdone\r\n"
     ]
    },
    {
     "name": "stdout",
     "output_type": "stream",
     "text": [
      "\u001b[?25hRequirement already satisfied: numpy>=1.18.0 in /tmpfs/src/tf_docs_env/lib/python3.9/site-packages (from gym[classic_control]) (1.26.0)\r\n"
     ]
    },
    {
     "name": "stdout",
     "output_type": "stream",
     "text": [
      "Collecting cloudpickle>=1.2.0 (from gym[classic_control])\r\n",
      "  Downloading cloudpickle-2.2.1-py3-none-any.whl (25 kB)\r\n"
     ]
    },
    {
     "name": "stdout",
     "output_type": "stream",
     "text": [
      "Collecting gym-notices>=0.0.4 (from gym[classic_control])\r\n"
     ]
    },
    {
     "name": "stdout",
     "output_type": "stream",
     "text": [
      "  Downloading gym_notices-0.0.8-py3-none-any.whl (3.0 kB)\r\n",
      "Requirement already satisfied: importlib-metadata>=4.8.0 in /tmpfs/src/tf_docs_env/lib/python3.9/site-packages (from gym[classic_control]) (6.8.0)\r\n"
     ]
    },
    {
     "name": "stdout",
     "output_type": "stream",
     "text": [
      "Collecting pygame==2.1.0 (from gym[classic_control])\r\n"
     ]
    },
    {
     "name": "stdout",
     "output_type": "stream",
     "text": [
      "  Downloading pygame-2.1.0-cp39-cp39-manylinux_2_17_x86_64.manylinux2014_x86_64.whl (18.3 MB)\r\n"
     ]
    },
    {
     "name": "stdout",
     "output_type": "stream",
     "text": [
      "Requirement already satisfied: zipp>=0.5 in /tmpfs/src/tf_docs_env/lib/python3.9/site-packages (from importlib-metadata>=4.8.0->gym[classic_control]) (3.17.0)\r\n",
      "Building wheels for collected packages: gym\r\n"
     ]
    },
    {
     "name": "stdout",
     "output_type": "stream",
     "text": [
      "  Building wheel for gym (pyproject.toml) ... \u001b[?25l-"
     ]
    },
    {
     "name": "stdout",
     "output_type": "stream",
     "text": [
      "\b \b\\"
     ]
    },
    {
     "name": "stdout",
     "output_type": "stream",
     "text": [
      "\b \bdone\r\n",
      "\u001b[?25h  Created wheel for gym: filename=gym-0.26.2-py3-none-any.whl size=827618 sha256=7f148821a83cdd8322a505658f0040dc23096821acfe62f022d1d7e0b9859d58\r\n",
      "  Stored in directory: /home/kbuilder/.cache/pip/wheels/af/2b/30/5e78b8b9599f2a2286a582b8da80594f654bf0e18d825a4405\r\n",
      "Successfully built gym\r\n"
     ]
    },
    {
     "name": "stdout",
     "output_type": "stream",
     "text": [
      "Installing collected packages: gym-notices, pygame, cloudpickle, gym\r\n"
     ]
    },
    {
     "name": "stdout",
     "output_type": "stream",
     "text": [
      "Successfully installed cloudpickle-2.2.1 gym-0.26.2 gym-notices-0.0.8 pygame-2.1.0\r\n"
     ]
    },
    {
     "name": "stdout",
     "output_type": "stream",
     "text": [
      "Collecting pyglet\r\n",
      "  Obtaining dependency information for pyglet from https://files.pythonhosted.org/packages/94/a1/475458ccf34d2996abdb6ef29fa8d3fed2e62f72df5f2a7f4b4b076915c7/pyglet-2.0.9-py3-none-any.whl.metadata\r\n"
     ]
    },
    {
     "name": "stdout",
     "output_type": "stream",
     "text": [
      "  Downloading pyglet-2.0.9-py3-none-any.whl.metadata (8.4 kB)\r\n",
      "Downloading pyglet-2.0.9-py3-none-any.whl (854 kB)\r\n"
     ]
    },
    {
     "name": "stdout",
     "output_type": "stream",
     "text": [
      "Installing collected packages: pyglet\r\n"
     ]
    },
    {
     "name": "stdout",
     "output_type": "stream",
     "text": [
      "Successfully installed pyglet-2.0.9\r\n"
     ]
    }
   ],
   "source": [
    "!pip install gym[classic_control]\n",
    "!pip install pyglet"
   ]
  },
  {
   "cell_type": "code",
   "execution_count": 3,
   "metadata": {
    "execution": {
     "iopub.execute_input": "2023-09-28T01:25:45.521618Z",
     "iopub.status.busy": "2023-09-28T01:25:45.521363Z",
     "iopub.status.idle": "2023-09-28T01:25:56.121769Z",
     "shell.execute_reply": "2023-09-28T01:25:56.120606Z"
    },
    "id": "WBeQhPi2S4m5"
   },
   "outputs": [],
   "source": [
    "%%bash\n",
    "# Install additional packages for visualization\n",
    "sudo apt-get install -y python-opengl > /dev/null 2>&1\n",
    "pip install git+https://github.com/tensorflow/docs > /dev/null 2>&1"
   ]
  },
  {
   "cell_type": "code",
   "execution_count": 4,
   "metadata": {
    "execution": {
     "iopub.execute_input": "2023-09-28T01:25:56.125886Z",
     "iopub.status.busy": "2023-09-28T01:25:56.125619Z",
     "iopub.status.idle": "2023-09-28T01:25:58.835287Z",
     "shell.execute_reply": "2023-09-28T01:25:58.834487Z"
    },
    "id": "tT4N3qYviUJr"
   },
   "outputs": [
    {
     "name": "stderr",
     "output_type": "stream",
     "text": [
      "2023-09-28 01:25:56.563112: E tensorflow/compiler/xla/stream_executor/cuda/cuda_dnn.cc:9342] Unable to register cuDNN factory: Attempting to register factory for plugin cuDNN when one has already been registered\n",
      "2023-09-28 01:25:56.563162: E tensorflow/compiler/xla/stream_executor/cuda/cuda_fft.cc:609] Unable to register cuFFT factory: Attempting to register factory for plugin cuFFT when one has already been registered\n",
      "2023-09-28 01:25:56.563196: E tensorflow/compiler/xla/stream_executor/cuda/cuda_blas.cc:1518] Unable to register cuBLAS factory: Attempting to register factory for plugin cuBLAS when one has already been registered\n"
     ]
    }
   ],
   "source": [
    "import collections\n",
    "import gym\n",
    "import numpy as np\n",
    "import statistics\n",
    "import tensorflow as tf\n",
    "import tqdm\n",
    "\n",
    "from matplotlib import pyplot as plt\n",
    "from tensorflow.keras import layers\n",
    "from typing import Any, List, Sequence, Tuple\n",
    "\n",
    "\n",
    "# Create the environment\n",
    "env = gym.make(\"CartPole-v1\")\n",
    "\n",
    "# Set seed for experiment reproducibility\n",
    "seed = 42\n",
    "tf.random.set_seed(seed)\n",
    "np.random.seed(seed)\n",
    "\n",
    "# Small epsilon value for stabilizing division operations\n",
    "eps = np.finfo(np.float32).eps.item()"
   ]
  },
  {
   "cell_type": "markdown",
   "metadata": {
    "id": "AOUCe2D0iUJu"
   },
   "source": [
    "## The model\n",
    "\n",
    "The *Actor* and *Critic* will be modeled using one neural network that generates the action probabilities and Critic value respectively. This tutorial uses model subclassing to define the model.\n",
    "\n",
    "During the forward pass, the model will take in the state as the input and will output both action probabilities and critic value $V$, which models the state-dependent [value function](https://spinningup.openai.com/en/latest/spinningup/rl_intro.html#value-functions). The goal is to train a model that chooses actions based on a policy $\\pi$ that maximizes expected [return](https://spinningup.openai.com/en/latest/spinningup/rl_intro.html#reward-and-return).\n",
    "\n",
    "For `CartPole-v0`, there are four values representing the state: cart position, cart-velocity, pole angle and pole velocity respectively. The agent can take two actions to push the cart left (`0`) and right (`1`), respectively.\n",
    "\n",
    "Refer to [Gym's Cart Pole documentation page](https://www.gymlibrary.dev/environments/classic_control/cart_pole/) and [_Neuronlike adaptive elements that can solve difficult learning control problems_](http://www.derongliu.org/adp/adp-cdrom/Barto1983.pdf) by Barto, Sutton and Anderson (1983) for more information.\n"
   ]
  },
  {
   "cell_type": "code",
   "execution_count": 5,
   "metadata": {
    "execution": {
     "iopub.execute_input": "2023-09-28T01:25:58.839424Z",
     "iopub.status.busy": "2023-09-28T01:25:58.839013Z",
     "iopub.status.idle": "2023-09-28T01:25:58.845204Z",
     "shell.execute_reply": "2023-09-28T01:25:58.844355Z"
    },
    "id": "aXKbbMC-kmuv"
   },
   "outputs": [],
   "source": [
    "class ActorCritic(tf.keras.Model):\n",
    "  \"\"\"Combined actor-critic network.\"\"\"\n",
    "\n",
    "  def __init__(\n",
    "      self,\n",
    "      num_actions: int,\n",
    "      num_hidden_units: int):\n",
    "    \"\"\"Initialize.\"\"\"\n",
    "    super().__init__()\n",
    "\n",
    "    self.common = layers.Dense(num_hidden_units, activation=\"relu\")\n",
    "    self.actor = layers.Dense(num_actions)\n",
    "    self.critic = layers.Dense(1)\n",
    "\n",
    "  def call(self, inputs: tf.Tensor) -> Tuple[tf.Tensor, tf.Tensor]:\n",
    "    x = self.common(inputs)\n",
    "    return self.actor(x), self.critic(x)"
   ]
  },
  {
   "cell_type": "code",
   "execution_count": 6,
   "metadata": {
    "execution": {
     "iopub.execute_input": "2023-09-28T01:25:58.848853Z",
     "iopub.status.busy": "2023-09-28T01:25:58.848324Z",
     "iopub.status.idle": "2023-09-28T01:25:59.447990Z",
     "shell.execute_reply": "2023-09-28T01:25:59.447049Z"
    },
    "id": "nWyxJgjLn68c"
   },
   "outputs": [
    {
     "name": "stderr",
     "output_type": "stream",
     "text": [
      "2023-09-28 01:25:59.415189: W tensorflow/core/common_runtime/gpu/gpu_device.cc:2211] Cannot dlopen some GPU libraries. Please make sure the missing libraries mentioned above are installed properly if you would like to use GPU. Follow the guide at https://www.tensorflow.org/install/gpu for how to download and setup the required libraries for your platform.\n",
      "Skipping registering GPU devices...\n"
     ]
    }
   ],
   "source": [
    "num_actions = env.action_space.n  # 2\n",
    "num_hidden_units = 128\n",
    "\n",
    "model = ActorCritic(num_actions, num_hidden_units)"
   ]
  },
  {
   "cell_type": "markdown",
   "metadata": {
    "id": "hk92njFziUJw"
   },
   "source": [
    "## Train the agent\n",
    "\n",
    "To train the agent, you will follow these steps:\n",
    "\n",
    "1. Run the agent on the environment to collect training data per episode.\n",
    "2. Compute expected return at each time step.\n",
    "3. Compute the loss for the combined Actor-Critic model.\n",
    "4. Compute gradients and update network parameters.\n",
    "5. Repeat 1-4 until either success criterion or max episodes has been reached.\n"
   ]
  },
  {
   "cell_type": "markdown",
   "metadata": {
    "id": "R2nde2XDs8Gh"
   },
   "source": [
    "### 1. Collect training data\n",
    "\n",
    "As in supervised learning, in order to train the actor-critic model, you need\n",
    "to have training data. However, in order to collect such data, the model would\n",
    "need to be \"run\" in the environment.\n",
    "\n",
    "Training data is collected for each episode. Then at each time step, the model's forward pass will be run on the environment's state in order to generate action probabilities and the critic value based on the current policy parameterized by the model's weights.\n",
    "\n",
    "The next action will be sampled from the action probabilities generated by the model, which would then be applied to the environment, causing the next state and reward to be generated.\n",
    "\n",
    "This process is implemented in the `run_episode` function, which uses TensorFlow operations so that it can later be compiled into a TensorFlow graph for faster training. Note that `tf.TensorArray`s were used to support Tensor iteration on variable length arrays."
   ]
  },
  {
   "cell_type": "code",
   "execution_count": 7,
   "metadata": {
    "execution": {
     "iopub.execute_input": "2023-09-28T01:25:59.452399Z",
     "iopub.status.busy": "2023-09-28T01:25:59.451726Z",
     "iopub.status.idle": "2023-09-28T01:25:59.456805Z",
     "shell.execute_reply": "2023-09-28T01:25:59.456041Z"
    },
    "id": "5URrbGlDSAGx"
   },
   "outputs": [],
   "source": [
    "# Wrap Gym's `env.step` call as an operation in a TensorFlow function.\n",
    "# This would allow it to be included in a callable TensorFlow graph.\n",
    "\n",
    "@tf.numpy_function(Tout=[tf.float32, tf.int32, tf.int32])\n",
    "def env_step(action: np.ndarray) -> Tuple[np.ndarray, np.ndarray, np.ndarray]:\n",
    "  \"\"\"Returns state, reward and done flag given an action.\"\"\"\n",
    "\n",
    "  state, reward, done, truncated, info = env.step(action)\n",
    "  return (state.astype(np.float32),\n",
    "          np.array(reward, np.int32),\n",
    "          np.array(done, np.int32))\n"
   ]
  },
  {
   "cell_type": "code",
   "execution_count": 8,
   "metadata": {
    "execution": {
     "iopub.execute_input": "2023-09-28T01:25:59.460272Z",
     "iopub.status.busy": "2023-09-28T01:25:59.459859Z",
     "iopub.status.idle": "2023-09-28T01:25:59.467299Z",
     "shell.execute_reply": "2023-09-28T01:25:59.466493Z"
    },
    "id": "a4qVRV063Cl9"
   },
   "outputs": [],
   "source": [
    "def run_episode(\n",
    "    initial_state: tf.Tensor,\n",
    "    model: tf.keras.Model,\n",
    "    max_steps: int) -> Tuple[tf.Tensor, tf.Tensor, tf.Tensor]:\n",
    "  \"\"\"Runs a single episode to collect training data.\"\"\"\n",
    "\n",
    "  action_probs = tf.TensorArray(dtype=tf.float32, size=0, dynamic_size=True)\n",
    "  values = tf.TensorArray(dtype=tf.float32, size=0, dynamic_size=True)\n",
    "  rewards = tf.TensorArray(dtype=tf.int32, size=0, dynamic_size=True)\n",
    "\n",
    "  initial_state_shape = initial_state.shape\n",
    "  state = initial_state\n",
    "\n",
    "  for t in tf.range(max_steps):\n",
    "    # Convert state into a batched tensor (batch size = 1)\n",
    "    state = tf.expand_dims(state, 0)\n",
    "\n",
    "    # Run the model and to get action probabilities and critic value\n",
    "    action_logits_t, value = model(state)\n",
    "\n",
    "    # Sample next action from the action probability distribution\n",
    "    action = tf.random.categorical(action_logits_t, 1)[0, 0]\n",
    "    action_probs_t = tf.nn.softmax(action_logits_t)\n",
    "\n",
    "    # Store critic values\n",
    "    values = values.write(t, tf.squeeze(value))\n",
    "\n",
    "    # Store log probability of the action chosen\n",
    "    action_probs = action_probs.write(t, action_probs_t[0, action])\n",
    "\n",
    "    # Apply action to the environment to get next state and reward\n",
    "    state, reward, done = env_step(action)\n",
    "    state.set_shape(initial_state_shape)\n",
    "\n",
    "    # Store reward\n",
    "    rewards = rewards.write(t, reward)\n",
    "\n",
    "    if tf.cast(done, tf.bool):\n",
    "      break\n",
    "\n",
    "  action_probs = action_probs.stack()\n",
    "  values = values.stack()\n",
    "  rewards = rewards.stack()\n",
    "\n",
    "  return action_probs, values, rewards"
   ]
  },
  {
   "cell_type": "markdown",
   "metadata": {
    "id": "lBnIHdz22dIx"
   },
   "source": [
    "### 2. Compute the expected returns\n",
    "\n",
    "The sequence of rewards for each timestep $t$, $\\{r_{t}\\}^{T}_{t=1}$ collected during one episode is converted into a sequence of expected returns $\\{G_{t}\\}^{T}_{t=1}$ in which the sum of rewards is taken from the current timestep $t$ to $T$ and each reward is multiplied with an exponentially decaying discount factor $\\gamma$:\n",
    "\n",
    "$$G_{t} = \\sum^{T}_{t'=t} \\gamma^{t'-t}r_{t'}$$\n",
    "\n",
    "Since $\\gamma\\in(0,1)$, rewards further out from the current timestep are given less weight.\n",
    "\n",
    "Intuitively, expected return simply implies that rewards now are better than rewards later. In a mathematical sense, it is to ensure that the sum of the rewards converges.\n",
    "\n",
    "To stabilize training, the resulting sequence of returns is also standardized (i.e. to have zero mean and unit standard deviation).\n"
   ]
  },
  {
   "cell_type": "code",
   "execution_count": 9,
   "metadata": {
    "execution": {
     "iopub.execute_input": "2023-09-28T01:25:59.470884Z",
     "iopub.status.busy": "2023-09-28T01:25:59.470301Z",
     "iopub.status.idle": "2023-09-28T01:25:59.476320Z",
     "shell.execute_reply": "2023-09-28T01:25:59.475294Z"
    },
    "id": "jpEwFyl315dl"
   },
   "outputs": [],
   "source": [
    "def get_expected_return(\n",
    "    rewards: tf.Tensor,\n",
    "    gamma: float,\n",
    "    standardize: bool = True) -> tf.Tensor:\n",
    "  \"\"\"Compute expected returns per timestep.\"\"\"\n",
    "\n",
    "  n = tf.shape(rewards)[0]\n",
    "  returns = tf.TensorArray(dtype=tf.float32, size=n)\n",
    "\n",
    "  # Start from the end of `rewards` and accumulate reward sums\n",
    "  # into the `returns` array\n",
    "  rewards = tf.cast(rewards[::-1], dtype=tf.float32)\n",
    "  discounted_sum = tf.constant(0.0)\n",
    "  discounted_sum_shape = discounted_sum.shape\n",
    "  for i in tf.range(n):\n",
    "    reward = rewards[i]\n",
    "    discounted_sum = reward + gamma * discounted_sum\n",
    "    discounted_sum.set_shape(discounted_sum_shape)\n",
    "    returns = returns.write(i, discounted_sum)\n",
    "  returns = returns.stack()[::-1]\n",
    "\n",
    "  if standardize:\n",
    "    returns = ((returns - tf.math.reduce_mean(returns)) /\n",
    "               (tf.math.reduce_std(returns) + eps))\n",
    "\n",
    "  return returns"
   ]
  },
  {
   "cell_type": "markdown",
   "metadata": {
    "id": "qhr50_Czxazw"
   },
   "source": [
    "### 3. The Actor-Critic loss\n",
    "\n",
    "Since you're using a hybrid Actor-Critic model, the chosen loss function is a combination of Actor and Critic losses for training, as shown below:\n",
    "\n",
    "$$L = L_{actor} + L_{critic}$$"
   ]
  },
  {
   "cell_type": "markdown",
   "metadata": {
    "id": "nOQIJuG1xdTH"
   },
   "source": [
    "#### The Actor loss\n",
    "\n",
    "The Actor loss is based on [policy gradients with the Critic as a state dependent baseline](https://www.youtube.com/watch?v=EKqxumCuAAY&t=62m23s) and computed with single-sample (per-episode) estimates.\n",
    "\n",
    "$$L_{actor} = -\\sum^{T}_{t=1} \\log\\pi_{\\theta}(a_{t} | s_{t})[G(s_{t}, a_{t})  - V^{\\pi}_{\\theta}(s_{t})]$$\n",
    "\n",
    "where:\n",
    "- $T$: the number of timesteps per episode, which can vary per episode\n",
    "- $s_{t}$: the state at timestep $t$\n",
    "- $a_{t}$: chosen action at timestep $t$ given state $s$\n",
    "- $\\pi_{\\theta}$: is the policy (Actor) parameterized by $\\theta$\n",
    "- $V^{\\pi}_{\\theta}$: is the value function (Critic) also parameterized by $\\theta$\n",
    "- $G = G_{t}$: the expected return for a given state, action pair at timestep $t$\n",
    "\n",
    "A negative term is added to the sum since the idea is to maximize the probabilities of actions yielding higher rewards by minimizing the combined loss.\n",
    "\n",
    "<br>"
   ]
  },
  {
   "cell_type": "markdown",
   "metadata": {
    "id": "Y304O4OAxiAv"
   },
   "source": [
    "##### The Advantage\n",
    "\n",
    "The $G - V$ term in our $L_{actor}$ formulation is called the [Advantage](https://spinningup.openai.com/en/latest/spinningup/rl_intro.html#advantage-functions), which indicates how much better an action is given a particular state over a random action selected according to the policy $\\pi$ for that state.\n",
    "\n",
    "While it's possible to exclude a baseline, this may result in high variance during training. And the nice thing about choosing the critic $V$ as a baseline is that it trained to be as close as possible to $G$, leading to a lower variance.\n",
    "\n",
    "In addition, without the Critic, the algorithm would try to increase probabilities for actions taken on a particular state based on expected return, which may not make much of a difference if the relative probabilities between actions remain the same.\n",
    "\n",
    "For instance, suppose that two actions for a given state would yield the same expected return. Without the Critic, the algorithm would try to raise the probability of these actions based on the objective $J$. With the Critic, it may turn out that there's no Advantage ($G - V = 0$), and thus no benefit gained in increasing the actions' probabilities and the algorithm would set the gradients to zero.\n",
    "\n",
    "<br>"
   ]
  },
  {
   "cell_type": "markdown",
   "metadata": {
    "id": "1hrPLrgGxlvb"
   },
   "source": [
    "#### The Critic loss\n",
    "\n",
    "Training $V$ to be as close possible to $G$ can be set up as a regression problem with the following loss function:\n",
    "\n",
    "$$L_{critic} = L_{\\delta}(G, V^{\\pi}_{\\theta})$$\n",
    "\n",
    "where $L_{\\delta}$ is the [Huber loss](https://en.wikipedia.org/wiki/Huber_loss), which is less sensitive to outliers in data than squared-error loss.\n"
   ]
  },
  {
   "cell_type": "code",
   "execution_count": 10,
   "metadata": {
    "execution": {
     "iopub.execute_input": "2023-09-28T01:25:59.480063Z",
     "iopub.status.busy": "2023-09-28T01:25:59.479506Z",
     "iopub.status.idle": "2023-09-28T01:25:59.484047Z",
     "shell.execute_reply": "2023-09-28T01:25:59.483267Z"
    },
    "id": "9EXwbEez6n9m"
   },
   "outputs": [],
   "source": [
    "huber_loss = tf.keras.losses.Huber(reduction=tf.keras.losses.Reduction.SUM)\n",
    "\n",
    "def compute_loss(\n",
    "    action_probs: tf.Tensor,\n",
    "    values: tf.Tensor,\n",
    "    returns: tf.Tensor) -> tf.Tensor:\n",
    "  \"\"\"Computes the combined Actor-Critic loss.\"\"\"\n",
    "\n",
    "  advantage = returns - values\n",
    "\n",
    "  action_log_probs = tf.math.log(action_probs)\n",
    "  actor_loss = -tf.math.reduce_sum(action_log_probs * advantage)\n",
    "\n",
    "  critic_loss = huber_loss(values, returns)\n",
    "\n",
    "  return actor_loss + critic_loss"
   ]
  },
  {
   "cell_type": "markdown",
   "metadata": {
    "id": "HSYkQOmRfV75"
   },
   "source": [
    "### 4. Define the training step to update parameters\n",
    "\n",
    "All of the steps above are combined into a training step that is run every episode. All steps leading up to the loss function are executed with the `tf.GradientTape` context to enable automatic differentiation.\n",
    "\n",
    "This tutorial uses the Adam optimizer to apply the gradients to the model parameters.\n",
    "\n",
    "The sum of the undiscounted rewards, `episode_reward`, is also computed in this step. This value will be used later on to evaluate if the success criterion is met.\n",
    "\n",
    "The `tf.function` context is applied to the `train_step` function so that it can be compiled into a callable TensorFlow graph, which can lead to 10x speedup in training.\n"
   ]
  },
  {
   "cell_type": "code",
   "execution_count": 11,
   "metadata": {
    "execution": {
     "iopub.execute_input": "2023-09-28T01:25:59.487636Z",
     "iopub.status.busy": "2023-09-28T01:25:59.487081Z",
     "iopub.status.idle": "2023-09-28T01:25:59.496795Z",
     "shell.execute_reply": "2023-09-28T01:25:59.496228Z"
    },
    "id": "QoccrkF3IFCg"
   },
   "outputs": [],
   "source": [
    "optimizer = tf.keras.optimizers.Adam(learning_rate=0.01)\n",
    "\n",
    "\n",
    "@tf.function\n",
    "def train_step(\n",
    "    initial_state: tf.Tensor,\n",
    "    model: tf.keras.Model,\n",
    "    optimizer: tf.keras.optimizers.Optimizer,\n",
    "    gamma: float,\n",
    "    max_steps_per_episode: int) -> tf.Tensor:\n",
    "  \"\"\"Runs a model training step.\"\"\"\n",
    "\n",
    "  with tf.GradientTape() as tape:\n",
    "\n",
    "    # Run the model for one episode to collect training data\n",
    "    action_probs, values, rewards = run_episode(\n",
    "        initial_state, model, max_steps_per_episode)\n",
    "\n",
    "    # Calculate the expected returns\n",
    "    returns = get_expected_return(rewards, gamma)\n",
    "\n",
    "    # Convert training data to appropriate TF tensor shapes\n",
    "    action_probs, values, returns = [\n",
    "        tf.expand_dims(x, 1) for x in [action_probs, values, returns]]\n",
    "\n",
    "    # Calculate the loss values to update our network\n",
    "    loss = compute_loss(action_probs, values, returns)\n",
    "\n",
    "  # Compute the gradients from the loss\n",
    "  grads = tape.gradient(loss, model.trainable_variables)\n",
    "\n",
    "  # Apply the gradients to the model's parameters\n",
    "  optimizer.apply_gradients(zip(grads, model.trainable_variables))\n",
    "\n",
    "  episode_reward = tf.math.reduce_sum(rewards)\n",
    "\n",
    "  return episode_reward"
   ]
  },
  {
   "cell_type": "markdown",
   "metadata": {
    "id": "HFvZiDoAflGK"
   },
   "source": [
    "### 5. Run the training loop\n",
    "\n",
    "Training is executed by running the training step until either the success criterion or maximum number of episodes is reached.  \n",
    "\n",
    "A running record of episode rewards is kept in a queue. Once 100 trials are reached, the oldest reward is removed at the left (tail) end of the queue and the newest one is added at the head (right). A running sum of the rewards is also maintained for computational efficiency.\n",
    "\n",
    "Depending on your runtime, training can finish in less than a minute."
   ]
  },
  {
   "cell_type": "code",
   "execution_count": 12,
   "metadata": {
    "execution": {
     "iopub.execute_input": "2023-09-28T01:25:59.499898Z",
     "iopub.status.busy": "2023-09-28T01:25:59.499656Z",
     "iopub.status.idle": "2023-09-28T01:26:18.244815Z",
     "shell.execute_reply": "2023-09-28T01:26:18.244059Z"
    },
    "id": "kbmBxnzLiUJx"
   },
   "outputs": [
    {
     "name": "stderr",
     "output_type": "stream",
     "text": [
      "\r",
      "  0%|          | 0/10000 [00:00<?, ?it/s]"
     ]
    },
    {
     "name": "stderr",
     "output_type": "stream",
     "text": [
      "/tmpfs/src/tf_docs_env/lib/python3.9/site-packages/gym/utils/passive_env_checker.py:233: DeprecationWarning: `np.bool8` is a deprecated alias for `np.bool_`.  (Deprecated NumPy 1.24)\n",
      "  if not isinstance(terminated, (bool, np.bool8)):\n",
      "\r",
      "  0%|          | 0/10000 [00:01<?, ?it/s, episode_reward=54, running_reward=54]"
     ]
    },
    {
     "name": "stderr",
     "output_type": "stream",
     "text": [
      "\r",
      "  0%|          | 1/10000 [00:01<4:38:46,  1.67s/it, episode_reward=54, running_reward=54]"
     ]
    },
    {
     "name": "stderr",
     "output_type": "stream",
     "text": [
      "\r",
      "  0%|          | 1/10000 [00:01<4:38:46,  1.67s/it, episode_reward=38, running_reward=46]"
     ]
    },
    {
     "name": "stderr",
     "output_type": "stream",
     "text": [
      "\r",
      "  0%|          | 1/10000 [00:01<4:38:46,  1.67s/it, episode_reward=26, running_reward=39.3]"
     ]
    },
    {
     "name": "stderr",
     "output_type": "stream",
     "text": [
      "\r",
      "  0%|          | 1/10000 [00:01<4:38:46,  1.67s/it, episode_reward=17, running_reward=33.8]"
     ]
    },
    {
     "name": "stderr",
     "output_type": "stream",
     "text": [
      "\r",
      "  0%|          | 1/10000 [00:01<4:38:46,  1.67s/it, episode_reward=9, running_reward=28.8] "
     ]
    },
    {
     "name": "stderr",
     "output_type": "stream",
     "text": [
      "\r",
      "  0%|          | 1/10000 [00:01<4:38:46,  1.67s/it, episode_reward=10, running_reward=25.7]"
     ]
    },
    {
     "name": "stderr",
     "output_type": "stream",
     "text": [
      "\r",
      "  0%|          | 1/10000 [00:01<4:38:46,  1.67s/it, episode_reward=9, running_reward=23.3] "
     ]
    },
    {
     "name": "stderr",
     "output_type": "stream",
     "text": [
      "\r",
      "  0%|          | 1/10000 [00:01<4:38:46,  1.67s/it, episode_reward=42, running_reward=25.6]"
     ]
    },
    {
     "name": "stderr",
     "output_type": "stream",
     "text": [
      "\r",
      "  0%|          | 1/10000 [00:01<4:38:46,  1.67s/it, episode_reward=23, running_reward=25.3]"
     ]
    },
    {
     "name": "stderr",
     "output_type": "stream",
     "text": [
      "\r",
      "  0%|          | 1/10000 [00:01<4:38:46,  1.67s/it, episode_reward=22, running_reward=25]  "
     ]
    },
    {
     "name": "stderr",
     "output_type": "stream",
     "text": [
      "\r",
      "  0%|          | 1/10000 [00:01<4:38:46,  1.67s/it, episode_reward=39, running_reward=26.3]"
     ]
    },
    {
     "name": "stderr",
     "output_type": "stream",
     "text": [
      "\r",
      "  0%|          | 1/10000 [00:01<4:38:46,  1.67s/it, episode_reward=23, running_reward=26]  "
     ]
    },
    {
     "name": "stderr",
     "output_type": "stream",
     "text": [
      "\r",
      "  0%|          | 12/10000 [00:01<18:08,  9.18it/s, episode_reward=23, running_reward=26] "
     ]
    },
    {
     "name": "stderr",
     "output_type": "stream",
     "text": [
      "\r",
      "  0%|          | 12/10000 [00:01<18:08,  9.18it/s, episode_reward=22, running_reward=25.7]"
     ]
    },
    {
     "name": "stderr",
     "output_type": "stream",
     "text": [
      "\r",
      "  0%|          | 12/10000 [00:01<18:08,  9.18it/s, episode_reward=30, running_reward=26]  "
     ]
    },
    {
     "name": "stderr",
     "output_type": "stream",
     "text": [
      "\r",
      "  0%|          | 12/10000 [00:01<18:08,  9.18it/s, episode_reward=21, running_reward=25.7]"
     ]
    },
    {
     "name": "stderr",
     "output_type": "stream",
     "text": [
      "\r",
      "  0%|          | 12/10000 [00:01<18:08,  9.18it/s, episode_reward=17, running_reward=25.1]"
     ]
    },
    {
     "name": "stderr",
     "output_type": "stream",
     "text": [
      "\r",
      "  0%|          | 12/10000 [00:01<18:08,  9.18it/s, episode_reward=24, running_reward=25.1]"
     ]
    },
    {
     "name": "stderr",
     "output_type": "stream",
     "text": [
      "\r",
      "  0%|          | 12/10000 [00:01<18:08,  9.18it/s, episode_reward=33, running_reward=25.5]"
     ]
    },
    {
     "name": "stderr",
     "output_type": "stream",
     "text": [
      "\r",
      "  0%|          | 12/10000 [00:01<18:08,  9.18it/s, episode_reward=19, running_reward=25.2]"
     ]
    },
    {
     "name": "stderr",
     "output_type": "stream",
     "text": [
      "\r",
      "  0%|          | 12/10000 [00:01<18:08,  9.18it/s, episode_reward=40, running_reward=25.9]"
     ]
    },
    {
     "name": "stderr",
     "output_type": "stream",
     "text": [
      "\r",
      "  0%|          | 12/10000 [00:01<18:08,  9.18it/s, episode_reward=25, running_reward=25.9]"
     ]
    },
    {
     "name": "stderr",
     "output_type": "stream",
     "text": [
      "\r",
      "  0%|          | 12/10000 [00:01<18:08,  9.18it/s, episode_reward=41, running_reward=26.5]"
     ]
    },
    {
     "name": "stderr",
     "output_type": "stream",
     "text": [
      "\r",
      "  0%|          | 22/10000 [00:01<09:04, 18.32it/s, episode_reward=41, running_reward=26.5]"
     ]
    },
    {
     "name": "stderr",
     "output_type": "stream",
     "text": [
      "\r",
      "  0%|          | 22/10000 [00:01<09:04, 18.32it/s, episode_reward=16, running_reward=26.1]"
     ]
    },
    {
     "name": "stderr",
     "output_type": "stream",
     "text": [
      "\r",
      "  0%|          | 22/10000 [00:01<09:04, 18.32it/s, episode_reward=12, running_reward=25.5]"
     ]
    },
    {
     "name": "stderr",
     "output_type": "stream",
     "text": [
      "\r",
      "  0%|          | 22/10000 [00:01<09:04, 18.32it/s, episode_reward=31, running_reward=25.7]"
     ]
    },
    {
     "name": "stderr",
     "output_type": "stream",
     "text": [
      "\r",
      "  0%|          | 22/10000 [00:01<09:04, 18.32it/s, episode_reward=32, running_reward=26]  "
     ]
    },
    {
     "name": "stderr",
     "output_type": "stream",
     "text": [
      "\r",
      "  0%|          | 22/10000 [00:01<09:04, 18.32it/s, episode_reward=13, running_reward=25.5]"
     ]
    },
    {
     "name": "stderr",
     "output_type": "stream",
     "text": [
      "\r",
      "  0%|          | 22/10000 [00:01<09:04, 18.32it/s, episode_reward=24, running_reward=25.4]"
     ]
    },
    {
     "name": "stderr",
     "output_type": "stream",
     "text": [
      "\r",
      "  0%|          | 22/10000 [00:01<09:04, 18.32it/s, episode_reward=11, running_reward=24.9]"
     ]
    },
    {
     "name": "stderr",
     "output_type": "stream",
     "text": [
      "\r",
      "  0%|          | 22/10000 [00:01<09:04, 18.32it/s, episode_reward=19, running_reward=24.7]"
     ]
    },
    {
     "name": "stderr",
     "output_type": "stream",
     "text": [
      "\r",
      "  0%|          | 22/10000 [00:01<09:04, 18.32it/s, episode_reward=11, running_reward=24.3]"
     ]
    },
    {
     "name": "stderr",
     "output_type": "stream",
     "text": [
      "\r",
      "  0%|          | 22/10000 [00:01<09:04, 18.32it/s, episode_reward=11, running_reward=23.9]"
     ]
    },
    {
     "name": "stderr",
     "output_type": "stream",
     "text": [
      "\r",
      "  0%|          | 22/10000 [00:01<09:04, 18.32it/s, episode_reward=38, running_reward=24.3]"
     ]
    },
    {
     "name": "stderr",
     "output_type": "stream",
     "text": [
      "\r",
      "  0%|          | 22/10000 [00:01<09:04, 18.32it/s, episode_reward=40, running_reward=24.8]"
     ]
    },
    {
     "name": "stderr",
     "output_type": "stream",
     "text": [
      "\r",
      "  0%|          | 34/10000 [00:01<05:20, 31.11it/s, episode_reward=40, running_reward=24.8]"
     ]
    },
    {
     "name": "stderr",
     "output_type": "stream",
     "text": [
      "\r",
      "  0%|          | 34/10000 [00:01<05:20, 31.11it/s, episode_reward=33, running_reward=25]  "
     ]
    },
    {
     "name": "stderr",
     "output_type": "stream",
     "text": [
      "\r",
      "  0%|          | 34/10000 [00:01<05:20, 31.11it/s, episode_reward=20, running_reward=24.9]"
     ]
    },
    {
     "name": "stderr",
     "output_type": "stream",
     "text": [
      "\r",
      "  0%|          | 34/10000 [00:02<05:20, 31.11it/s, episode_reward=16, running_reward=24.6]"
     ]
    },
    {
     "name": "stderr",
     "output_type": "stream",
     "text": [
      "\r",
      "  0%|          | 34/10000 [00:02<05:20, 31.11it/s, episode_reward=20, running_reward=24.5]"
     ]
    },
    {
     "name": "stderr",
     "output_type": "stream",
     "text": [
      "\r",
      "  0%|          | 34/10000 [00:02<05:20, 31.11it/s, episode_reward=37, running_reward=24.8]"
     ]
    },
    {
     "name": "stderr",
     "output_type": "stream",
     "text": [
      "\r",
      "  0%|          | 34/10000 [00:02<05:20, 31.11it/s, episode_reward=19, running_reward=24.7]"
     ]
    },
    {
     "name": "stderr",
     "output_type": "stream",
     "text": [
      "\r",
      "  0%|          | 34/10000 [00:02<05:20, 31.11it/s, episode_reward=26, running_reward=24.7]"
     ]
    },
    {
     "name": "stderr",
     "output_type": "stream",
     "text": [
      "\r",
      "  0%|          | 34/10000 [00:02<05:20, 31.11it/s, episode_reward=23, running_reward=24.7]"
     ]
    },
    {
     "name": "stderr",
     "output_type": "stream",
     "text": [
      "\r",
      "  0%|          | 34/10000 [00:02<05:20, 31.11it/s, episode_reward=35, running_reward=24.9]"
     ]
    },
    {
     "name": "stderr",
     "output_type": "stream",
     "text": [
      "\r",
      "  0%|          | 34/10000 [00:02<05:20, 31.11it/s, episode_reward=24, running_reward=24.9]"
     ]
    },
    {
     "name": "stderr",
     "output_type": "stream",
     "text": [
      "\r",
      "  0%|          | 34/10000 [00:02<05:20, 31.11it/s, episode_reward=26, running_reward=24.9]"
     ]
    },
    {
     "name": "stderr",
     "output_type": "stream",
     "text": [
      "\r",
      "  0%|          | 45/10000 [00:02<03:53, 42.68it/s, episode_reward=26, running_reward=24.9]"
     ]
    },
    {
     "name": "stderr",
     "output_type": "stream",
     "text": [
      "\r",
      "  0%|          | 45/10000 [00:02<03:53, 42.68it/s, episode_reward=27, running_reward=25]  "
     ]
    },
    {
     "name": "stderr",
     "output_type": "stream",
     "text": [
      "\r",
      "  0%|          | 45/10000 [00:02<03:53, 42.68it/s, episode_reward=35, running_reward=25.2]"
     ]
    },
    {
     "name": "stderr",
     "output_type": "stream",
     "text": [
      "\r",
      "  0%|          | 45/10000 [00:02<03:53, 42.68it/s, episode_reward=26, running_reward=25.2]"
     ]
    },
    {
     "name": "stderr",
     "output_type": "stream",
     "text": [
      "\r",
      "  0%|          | 45/10000 [00:02<03:53, 42.68it/s, episode_reward=38, running_reward=25.4]"
     ]
    },
    {
     "name": "stderr",
     "output_type": "stream",
     "text": [
      "\r",
      "  0%|          | 45/10000 [00:02<03:53, 42.68it/s, episode_reward=29, running_reward=25.5]"
     ]
    },
    {
     "name": "stderr",
     "output_type": "stream",
     "text": [
      "\r",
      "  0%|          | 45/10000 [00:02<03:53, 42.68it/s, episode_reward=49, running_reward=26]  "
     ]
    },
    {
     "name": "stderr",
     "output_type": "stream",
     "text": [
      "\r",
      "  0%|          | 45/10000 [00:02<03:53, 42.68it/s, episode_reward=25, running_reward=26]"
     ]
    },
    {
     "name": "stderr",
     "output_type": "stream",
     "text": [
      "\r",
      "  0%|          | 45/10000 [00:02<03:53, 42.68it/s, episode_reward=62, running_reward=26.6]"
     ]
    },
    {
     "name": "stderr",
     "output_type": "stream",
     "text": [
      "\r",
      "  0%|          | 45/10000 [00:02<03:53, 42.68it/s, episode_reward=24, running_reward=26.6]"
     ]
    },
    {
     "name": "stderr",
     "output_type": "stream",
     "text": [
      "\r",
      "  0%|          | 45/10000 [00:02<03:53, 42.68it/s, episode_reward=80, running_reward=27.6]"
     ]
    },
    {
     "name": "stderr",
     "output_type": "stream",
     "text": [
      "\r",
      "  1%|          | 55/10000 [00:02<03:19, 49.79it/s, episode_reward=80, running_reward=27.6]"
     ]
    },
    {
     "name": "stderr",
     "output_type": "stream",
     "text": [
      "\r",
      "  1%|          | 55/10000 [00:02<03:19, 49.79it/s, episode_reward=45, running_reward=27.9]"
     ]
    },
    {
     "name": "stderr",
     "output_type": "stream",
     "text": [
      "\r",
      "  1%|          | 55/10000 [00:02<03:19, 49.79it/s, episode_reward=59, running_reward=28.4]"
     ]
    },
    {
     "name": "stderr",
     "output_type": "stream",
     "text": [
      "\r",
      "  1%|          | 55/10000 [00:02<03:19, 49.79it/s, episode_reward=46, running_reward=28.7]"
     ]
    },
    {
     "name": "stderr",
     "output_type": "stream",
     "text": [
      "\r",
      "  1%|          | 55/10000 [00:02<03:19, 49.79it/s, episode_reward=32, running_reward=28.8]"
     ]
    },
    {
     "name": "stderr",
     "output_type": "stream",
     "text": [
      "\r",
      "  1%|          | 55/10000 [00:02<03:19, 49.79it/s, episode_reward=53, running_reward=29.2]"
     ]
    },
    {
     "name": "stderr",
     "output_type": "stream",
     "text": [
      "\r",
      "  1%|          | 55/10000 [00:02<03:19, 49.79it/s, episode_reward=53, running_reward=29.6]"
     ]
    },
    {
     "name": "stderr",
     "output_type": "stream",
     "text": [
      "\r",
      "  1%|          | 55/10000 [00:02<03:19, 49.79it/s, episode_reward=106, running_reward=30.8]"
     ]
    },
    {
     "name": "stderr",
     "output_type": "stream",
     "text": [
      "\r",
      "  1%|          | 55/10000 [00:02<03:19, 49.79it/s, episode_reward=48, running_reward=31.1] "
     ]
    },
    {
     "name": "stderr",
     "output_type": "stream",
     "text": [
      "\r",
      "  1%|          | 55/10000 [00:02<03:19, 49.79it/s, episode_reward=42, running_reward=31.2]"
     ]
    },
    {
     "name": "stderr",
     "output_type": "stream",
     "text": [
      "\r",
      "  1%|          | 55/10000 [00:02<03:19, 49.79it/s, episode_reward=105, running_reward=32.4]"
     ]
    },
    {
     "name": "stderr",
     "output_type": "stream",
     "text": [
      "\r",
      "  1%|          | 65/10000 [00:02<03:12, 51.49it/s, episode_reward=105, running_reward=32.4]"
     ]
    },
    {
     "name": "stderr",
     "output_type": "stream",
     "text": [
      "\r",
      "  1%|          | 65/10000 [00:02<03:12, 51.49it/s, episode_reward=90, running_reward=33.3] "
     ]
    },
    {
     "name": "stderr",
     "output_type": "stream",
     "text": [
      "\r",
      "  1%|          | 65/10000 [00:02<03:12, 51.49it/s, episode_reward=48, running_reward=33.5]"
     ]
    },
    {
     "name": "stderr",
     "output_type": "stream",
     "text": [
      "\r",
      "  1%|          | 65/10000 [00:02<03:12, 51.49it/s, episode_reward=83, running_reward=34.2]"
     ]
    },
    {
     "name": "stderr",
     "output_type": "stream",
     "text": [
      "\r",
      "  1%|          | 65/10000 [00:02<03:12, 51.49it/s, episode_reward=47, running_reward=34.4]"
     ]
    },
    {
     "name": "stderr",
     "output_type": "stream",
     "text": [
      "\r",
      "  1%|          | 65/10000 [00:02<03:12, 51.49it/s, episode_reward=70, running_reward=34.9]"
     ]
    },
    {
     "name": "stderr",
     "output_type": "stream",
     "text": [
      "\r",
      "  1%|          | 65/10000 [00:02<03:12, 51.49it/s, episode_reward=117, running_reward=36.1]"
     ]
    },
    {
     "name": "stderr",
     "output_type": "stream",
     "text": [
      "\r",
      "  1%|          | 65/10000 [00:02<03:12, 51.49it/s, episode_reward=103, running_reward=37]  "
     ]
    },
    {
     "name": "stderr",
     "output_type": "stream",
     "text": [
      "\r",
      "  1%|          | 65/10000 [00:02<03:12, 51.49it/s, episode_reward=119, running_reward=38.1]"
     ]
    },
    {
     "name": "stderr",
     "output_type": "stream",
     "text": [
      "\r",
      "  1%|          | 73/10000 [00:02<03:25, 48.36it/s, episode_reward=119, running_reward=38.1]"
     ]
    },
    {
     "name": "stderr",
     "output_type": "stream",
     "text": [
      "\r",
      "  1%|          | 73/10000 [00:02<03:25, 48.36it/s, episode_reward=79, running_reward=38.7] "
     ]
    },
    {
     "name": "stderr",
     "output_type": "stream",
     "text": [
      "\r",
      "  1%|          | 73/10000 [00:02<03:25, 48.36it/s, episode_reward=65, running_reward=39]  "
     ]
    },
    {
     "name": "stderr",
     "output_type": "stream",
     "text": [
      "\r",
      "  1%|          | 73/10000 [00:02<03:25, 48.36it/s, episode_reward=132, running_reward=40.2]"
     ]
    },
    {
     "name": "stderr",
     "output_type": "stream",
     "text": [
      "\r",
      "  1%|          | 73/10000 [00:02<03:25, 48.36it/s, episode_reward=78, running_reward=40.7] "
     ]
    },
    {
     "name": "stderr",
     "output_type": "stream",
     "text": [
      "\r",
      "  1%|          | 73/10000 [00:02<03:25, 48.36it/s, episode_reward=78, running_reward=41.2]"
     ]
    },
    {
     "name": "stderr",
     "output_type": "stream",
     "text": [
      "\r",
      "  1%|          | 73/10000 [00:02<03:25, 48.36it/s, episode_reward=246, running_reward=43.8]"
     ]
    },
    {
     "name": "stderr",
     "output_type": "stream",
     "text": [
      "\r",
      "  1%|          | 73/10000 [00:02<03:25, 48.36it/s, episode_reward=302, running_reward=47]  "
     ]
    },
    {
     "name": "stderr",
     "output_type": "stream",
     "text": [
      "\r",
      "  1%|          | 80/10000 [00:02<04:09, 39.73it/s, episode_reward=302, running_reward=47]"
     ]
    },
    {
     "name": "stderr",
     "output_type": "stream",
     "text": [
      "\r",
      "  1%|          | 80/10000 [00:02<04:09, 39.73it/s, episode_reward=239, running_reward=49.4]"
     ]
    },
    {
     "name": "stderr",
     "output_type": "stream",
     "text": [
      "\r",
      "  1%|          | 80/10000 [00:02<04:09, 39.73it/s, episode_reward=192, running_reward=51.1]"
     ]
    },
    {
     "name": "stderr",
     "output_type": "stream",
     "text": [
      "\r",
      "  1%|          | 80/10000 [00:02<04:09, 39.73it/s, episode_reward=35, running_reward=50.9] "
     ]
    },
    {
     "name": "stderr",
     "output_type": "stream",
     "text": [
      "\r",
      "  1%|          | 80/10000 [00:03<04:09, 39.73it/s, episode_reward=281, running_reward=53.7]"
     ]
    },
    {
     "name": "stderr",
     "output_type": "stream",
     "text": [
      "\r",
      "  1%|          | 80/10000 [00:03<04:09, 39.73it/s, episode_reward=92, running_reward=54.1] "
     ]
    },
    {
     "name": "stderr",
     "output_type": "stream",
     "text": [
      "\r",
      "  1%|          | 80/10000 [00:03<04:09, 39.73it/s, episode_reward=206, running_reward=55.9]"
     ]
    },
    {
     "name": "stderr",
     "output_type": "stream",
     "text": [
      "\r",
      "  1%|          | 86/10000 [00:03<04:55, 33.52it/s, episode_reward=206, running_reward=55.9]"
     ]
    },
    {
     "name": "stderr",
     "output_type": "stream",
     "text": [
      "\r",
      "  1%|          | 86/10000 [00:03<04:55, 33.52it/s, episode_reward=83, running_reward=56.2] "
     ]
    },
    {
     "name": "stderr",
     "output_type": "stream",
     "text": [
      "\r",
      "  1%|          | 86/10000 [00:03<04:55, 33.52it/s, episode_reward=228, running_reward=58.2]"
     ]
    },
    {
     "name": "stderr",
     "output_type": "stream",
     "text": [
      "\r",
      "  1%|          | 86/10000 [00:03<04:55, 33.52it/s, episode_reward=232, running_reward=60.1]"
     ]
    },
    {
     "name": "stderr",
     "output_type": "stream",
     "text": [
      "\r",
      "  1%|          | 86/10000 [00:03<04:55, 33.52it/s, episode_reward=217, running_reward=61.9]"
     ]
    },
    {
     "name": "stderr",
     "output_type": "stream",
     "text": [
      "\r",
      "  1%|          | 86/10000 [00:03<04:55, 33.52it/s, episode_reward=257, running_reward=64]  "
     ]
    },
    {
     "name": "stderr",
     "output_type": "stream",
     "text": [
      "\r",
      "  1%|          | 91/10000 [00:03<05:41, 28.98it/s, episode_reward=257, running_reward=64]"
     ]
    },
    {
     "name": "stderr",
     "output_type": "stream",
     "text": [
      "\r",
      "  1%|          | 91/10000 [00:03<05:41, 28.98it/s, episode_reward=345, running_reward=67.1]"
     ]
    },
    {
     "name": "stderr",
     "output_type": "stream",
     "text": [
      "\r",
      "  1%|          | 91/10000 [00:03<05:41, 28.98it/s, episode_reward=221, running_reward=68.7]"
     ]
    },
    {
     "name": "stderr",
     "output_type": "stream",
     "text": [
      "\r",
      "  1%|          | 91/10000 [00:03<05:41, 28.98it/s, episode_reward=407, running_reward=72.3]"
     ]
    },
    {
     "name": "stderr",
     "output_type": "stream",
     "text": [
      "\r",
      "  1%|          | 91/10000 [00:03<05:41, 28.98it/s, episode_reward=215, running_reward=73.8]"
     ]
    },
    {
     "name": "stderr",
     "output_type": "stream",
     "text": [
      "\r",
      "  1%|          | 95/10000 [00:03<06:56, 23.80it/s, episode_reward=215, running_reward=73.8]"
     ]
    },
    {
     "name": "stderr",
     "output_type": "stream",
     "text": [
      "\r",
      "  1%|          | 95/10000 [00:03<06:56, 23.80it/s, episode_reward=196, running_reward=75.1]"
     ]
    },
    {
     "name": "stderr",
     "output_type": "stream",
     "text": [
      "\r",
      "  1%|          | 95/10000 [00:03<06:56, 23.80it/s, episode_reward=291, running_reward=77.3]"
     ]
    },
    {
     "name": "stderr",
     "output_type": "stream",
     "text": [
      "\r",
      "  1%|          | 95/10000 [00:03<06:56, 23.80it/s, episode_reward=317, running_reward=79.8]"
     ]
    },
    {
     "name": "stderr",
     "output_type": "stream",
     "text": [
      "\r",
      "  1%|          | 98/10000 [00:03<07:42, 21.41it/s, episode_reward=317, running_reward=79.8]"
     ]
    },
    {
     "name": "stderr",
     "output_type": "stream",
     "text": [
      "\r",
      "  1%|          | 98/10000 [00:04<07:42, 21.41it/s, episode_reward=500, running_reward=84]  "
     ]
    },
    {
     "name": "stderr",
     "output_type": "stream",
     "text": [
      "\r",
      "  1%|          | 98/10000 [00:04<07:42, 21.41it/s, episode_reward=269, running_reward=85.8]"
     ]
    },
    {
     "name": "stderr",
     "output_type": "stream",
     "text": [
      "\r",
      "  1%|          | 98/10000 [00:04<07:42, 21.41it/s, episode_reward=190, running_reward=87.2]"
     ]
    },
    {
     "name": "stderr",
     "output_type": "stream",
     "text": [
      "\r",
      "  1%|          | 101/10000 [00:04<08:54, 18.51it/s, episode_reward=190, running_reward=87.2]"
     ]
    },
    {
     "name": "stderr",
     "output_type": "stream",
     "text": [
      "\r",
      "  1%|          | 101/10000 [00:04<08:54, 18.51it/s, episode_reward=176, running_reward=88.6]"
     ]
    },
    {
     "name": "stderr",
     "output_type": "stream",
     "text": [
      "\r",
      "  1%|          | 101/10000 [00:04<08:54, 18.51it/s, episode_reward=218, running_reward=90.5]"
     ]
    },
    {
     "name": "stderr",
     "output_type": "stream",
     "text": [
      "\r",
      "  1%|          | 101/10000 [00:04<08:54, 18.51it/s, episode_reward=174, running_reward=92.1]"
     ]
    },
    {
     "name": "stderr",
     "output_type": "stream",
     "text": [
      "\r",
      "  1%|          | 104/10000 [00:04<08:42, 18.94it/s, episode_reward=174, running_reward=92.1]"
     ]
    },
    {
     "name": "stderr",
     "output_type": "stream",
     "text": [
      "\r",
      "  1%|          | 104/10000 [00:04<08:42, 18.94it/s, episode_reward=204, running_reward=94]  "
     ]
    },
    {
     "name": "stderr",
     "output_type": "stream",
     "text": [
      "\r",
      "  1%|          | 104/10000 [00:04<08:42, 18.94it/s, episode_reward=193, running_reward=95.9]"
     ]
    },
    {
     "name": "stderr",
     "output_type": "stream",
     "text": [
      "\r",
      "  1%|          | 104/10000 [00:04<08:42, 18.94it/s, episode_reward=248, running_reward=98.2]"
     ]
    },
    {
     "name": "stderr",
     "output_type": "stream",
     "text": [
      "\r",
      "  1%|          | 107/10000 [00:04<08:38, 19.08it/s, episode_reward=248, running_reward=98.2]"
     ]
    },
    {
     "name": "stderr",
     "output_type": "stream",
     "text": [
      "\r",
      "  1%|          | 107/10000 [00:04<08:38, 19.08it/s, episode_reward=254, running_reward=100] "
     ]
    },
    {
     "name": "stderr",
     "output_type": "stream",
     "text": [
      "\r",
      "  1%|          | 107/10000 [00:04<08:38, 19.08it/s, episode_reward=272, running_reward=103]"
     ]
    },
    {
     "name": "stderr",
     "output_type": "stream",
     "text": [
      "\r",
      "  1%|          | 107/10000 [00:04<08:38, 19.08it/s, episode_reward=221, running_reward=105]"
     ]
    },
    {
     "name": "stderr",
     "output_type": "stream",
     "text": [
      "\r",
      "  1%|          | 110/10000 [00:04<09:12, 17.90it/s, episode_reward=221, running_reward=105]"
     ]
    },
    {
     "name": "stderr",
     "output_type": "stream",
     "text": [
      "\r",
      "  1%|          | 110/10000 [00:04<09:12, 17.90it/s, episode_reward=235, running_reward=107]"
     ]
    },
    {
     "name": "stderr",
     "output_type": "stream",
     "text": [
      "\r",
      "  1%|          | 110/10000 [00:04<09:12, 17.90it/s, episode_reward=205, running_reward=109]"
     ]
    },
    {
     "name": "stderr",
     "output_type": "stream",
     "text": [
      "\r",
      "  1%|          | 112/10000 [00:04<09:05, 18.12it/s, episode_reward=205, running_reward=109]"
     ]
    },
    {
     "name": "stderr",
     "output_type": "stream",
     "text": [
      "\r",
      "  1%|          | 112/10000 [00:04<09:05, 18.12it/s, episode_reward=247, running_reward=111]"
     ]
    },
    {
     "name": "stderr",
     "output_type": "stream",
     "text": [
      "\r",
      "  1%|          | 112/10000 [00:04<09:05, 18.12it/s, episode_reward=226, running_reward=113]"
     ]
    },
    {
     "name": "stderr",
     "output_type": "stream",
     "text": [
      "\r",
      "  1%|          | 114/10000 [00:04<09:18, 17.69it/s, episode_reward=226, running_reward=113]"
     ]
    },
    {
     "name": "stderr",
     "output_type": "stream",
     "text": [
      "\r",
      "  1%|          | 114/10000 [00:04<09:18, 17.69it/s, episode_reward=235, running_reward=115]"
     ]
    },
    {
     "name": "stderr",
     "output_type": "stream",
     "text": [
      "\r",
      "  1%|          | 114/10000 [00:04<09:18, 17.69it/s, episode_reward=280, running_reward=118]"
     ]
    },
    {
     "name": "stderr",
     "output_type": "stream",
     "text": [
      "\r",
      "  1%|          | 116/10000 [00:04<09:41, 16.99it/s, episode_reward=280, running_reward=118]"
     ]
    },
    {
     "name": "stderr",
     "output_type": "stream",
     "text": [
      "\r",
      "  1%|          | 116/10000 [00:05<09:41, 16.99it/s, episode_reward=240, running_reward=120]"
     ]
    },
    {
     "name": "stderr",
     "output_type": "stream",
     "text": [
      "\r",
      "  1%|          | 116/10000 [00:05<09:41, 16.99it/s, episode_reward=118, running_reward=121]"
     ]
    },
    {
     "name": "stderr",
     "output_type": "stream",
     "text": [
      "\r",
      "  1%|          | 116/10000 [00:05<09:41, 16.99it/s, episode_reward=291, running_reward=123]"
     ]
    },
    {
     "name": "stderr",
     "output_type": "stream",
     "text": [
      "\r",
      "  1%|          | 119/10000 [00:05<09:16, 17.75it/s, episode_reward=291, running_reward=123]"
     ]
    },
    {
     "name": "stderr",
     "output_type": "stream",
     "text": [
      "\r",
      "  1%|          | 119/10000 [00:05<09:16, 17.75it/s, episode_reward=210, running_reward=125]"
     ]
    },
    {
     "name": "stderr",
     "output_type": "stream",
     "text": [
      "\r",
      "  1%|          | 119/10000 [00:05<09:16, 17.75it/s, episode_reward=240, running_reward=127]"
     ]
    },
    {
     "name": "stderr",
     "output_type": "stream",
     "text": [
      "\r",
      "  1%|          | 121/10000 [00:05<09:11, 17.93it/s, episode_reward=240, running_reward=127]"
     ]
    },
    {
     "name": "stderr",
     "output_type": "stream",
     "text": [
      "\r",
      "  1%|          | 121/10000 [00:05<09:11, 17.93it/s, episode_reward=235, running_reward=129]"
     ]
    },
    {
     "name": "stderr",
     "output_type": "stream",
     "text": [
      "\r",
      "  1%|          | 121/10000 [00:05<09:11, 17.93it/s, episode_reward=143, running_reward=130]"
     ]
    },
    {
     "name": "stderr",
     "output_type": "stream",
     "text": [
      "\r",
      "  1%|          | 121/10000 [00:05<09:11, 17.93it/s, episode_reward=278, running_reward=133]"
     ]
    },
    {
     "name": "stderr",
     "output_type": "stream",
     "text": [
      "\r",
      "  1%|          | 124/10000 [00:05<09:00, 18.28it/s, episode_reward=278, running_reward=133]"
     ]
    },
    {
     "name": "stderr",
     "output_type": "stream",
     "text": [
      "\r",
      "  1%|          | 124/10000 [00:05<09:00, 18.28it/s, episode_reward=432, running_reward=137]"
     ]
    },
    {
     "name": "stderr",
     "output_type": "stream",
     "text": [
      "\r",
      "  1%|          | 124/10000 [00:05<09:00, 18.28it/s, episode_reward=349, running_reward=140]"
     ]
    },
    {
     "name": "stderr",
     "output_type": "stream",
     "text": [
      "\r",
      "  1%|▏         | 126/10000 [00:05<10:29, 15.69it/s, episode_reward=349, running_reward=140]"
     ]
    },
    {
     "name": "stderr",
     "output_type": "stream",
     "text": [
      "\r",
      "  1%|▏         | 126/10000 [00:05<10:29, 15.69it/s, episode_reward=182, running_reward=142]"
     ]
    },
    {
     "name": "stderr",
     "output_type": "stream",
     "text": [
      "\r",
      "  1%|▏         | 126/10000 [00:05<10:29, 15.69it/s, episode_reward=500, running_reward=147]"
     ]
    },
    {
     "name": "stderr",
     "output_type": "stream",
     "text": [
      "\r",
      "  1%|▏         | 128/10000 [00:05<11:21, 14.48it/s, episode_reward=500, running_reward=147]"
     ]
    },
    {
     "name": "stderr",
     "output_type": "stream",
     "text": [
      "\r",
      "  1%|▏         | 128/10000 [00:05<11:21, 14.48it/s, episode_reward=224, running_reward=149]"
     ]
    },
    {
     "name": "stderr",
     "output_type": "stream",
     "text": [
      "\r",
      "  1%|▏         | 128/10000 [00:05<11:21, 14.48it/s, episode_reward=408, running_reward=153]"
     ]
    },
    {
     "name": "stderr",
     "output_type": "stream",
     "text": [
      "\r",
      "  1%|▏         | 130/10000 [00:05<11:39, 14.10it/s, episode_reward=408, running_reward=153]"
     ]
    },
    {
     "name": "stderr",
     "output_type": "stream",
     "text": [
      "\r",
      "  1%|▏         | 130/10000 [00:06<11:39, 14.10it/s, episode_reward=500, running_reward=158]"
     ]
    },
    {
     "name": "stderr",
     "output_type": "stream",
     "text": [
      "\r",
      "  1%|▏         | 130/10000 [00:06<11:39, 14.10it/s, episode_reward=500, running_reward=162]"
     ]
    },
    {
     "name": "stderr",
     "output_type": "stream",
     "text": [
      "\r",
      "  1%|▏         | 132/10000 [00:06<14:18, 11.49it/s, episode_reward=500, running_reward=162]"
     ]
    },
    {
     "name": "stderr",
     "output_type": "stream",
     "text": [
      "\r",
      "  1%|▏         | 132/10000 [00:06<14:18, 11.49it/s, episode_reward=341, running_reward=166]"
     ]
    },
    {
     "name": "stderr",
     "output_type": "stream",
     "text": [
      "\r",
      "  1%|▏         | 132/10000 [00:06<14:18, 11.49it/s, episode_reward=339, running_reward=169]"
     ]
    },
    {
     "name": "stderr",
     "output_type": "stream",
     "text": [
      "\r",
      "  1%|▏         | 134/10000 [00:06<13:59, 11.75it/s, episode_reward=339, running_reward=169]"
     ]
    },
    {
     "name": "stderr",
     "output_type": "stream",
     "text": [
      "\r",
      "  1%|▏         | 134/10000 [00:06<13:59, 11.75it/s, episode_reward=242, running_reward=171]"
     ]
    },
    {
     "name": "stderr",
     "output_type": "stream",
     "text": [
      "\r",
      "  1%|▏         | 134/10000 [00:06<13:59, 11.75it/s, episode_reward=311, running_reward=174]"
     ]
    },
    {
     "name": "stderr",
     "output_type": "stream",
     "text": [
      "\r",
      "  1%|▏         | 136/10000 [00:06<13:06, 12.55it/s, episode_reward=311, running_reward=174]"
     ]
    },
    {
     "name": "stderr",
     "output_type": "stream",
     "text": [
      "\r",
      "  1%|▏         | 136/10000 [00:06<13:06, 12.55it/s, episode_reward=459, running_reward=178]"
     ]
    },
    {
     "name": "stderr",
     "output_type": "stream",
     "text": [
      "\r",
      "  1%|▏         | 136/10000 [00:06<13:06, 12.55it/s, episode_reward=286, running_reward=181]"
     ]
    },
    {
     "name": "stderr",
     "output_type": "stream",
     "text": [
      "\r",
      "  1%|▏         | 138/10000 [00:06<13:34, 12.11it/s, episode_reward=286, running_reward=181]"
     ]
    },
    {
     "name": "stderr",
     "output_type": "stream",
     "text": [
      "\r",
      "  1%|▏         | 138/10000 [00:06<13:34, 12.11it/s, episode_reward=276, running_reward=183]"
     ]
    },
    {
     "name": "stderr",
     "output_type": "stream",
     "text": [
      "\r",
      "  1%|▏         | 138/10000 [00:06<13:34, 12.11it/s, episode_reward=345, running_reward=186]"
     ]
    },
    {
     "name": "stderr",
     "output_type": "stream",
     "text": [
      "\r",
      "  1%|▏         | 140/10000 [00:06<13:05, 12.55it/s, episode_reward=345, running_reward=186]"
     ]
    },
    {
     "name": "stderr",
     "output_type": "stream",
     "text": [
      "\r",
      "  1%|▏         | 140/10000 [00:06<13:05, 12.55it/s, episode_reward=445, running_reward=190]"
     ]
    },
    {
     "name": "stderr",
     "output_type": "stream",
     "text": [
      "\r",
      "  1%|▏         | 140/10000 [00:07<13:05, 12.55it/s, episode_reward=485, running_reward=195]"
     ]
    },
    {
     "name": "stderr",
     "output_type": "stream",
     "text": [
      "\r",
      "  1%|▏         | 142/10000 [00:07<14:55, 11.01it/s, episode_reward=485, running_reward=195]"
     ]
    },
    {
     "name": "stderr",
     "output_type": "stream",
     "text": [
      "\r",
      "  1%|▏         | 142/10000 [00:07<14:55, 11.01it/s, episode_reward=500, running_reward=200]"
     ]
    },
    {
     "name": "stderr",
     "output_type": "stream",
     "text": [
      "\r",
      "  1%|▏         | 142/10000 [00:07<14:55, 11.01it/s, episode_reward=500, running_reward=204]"
     ]
    },
    {
     "name": "stderr",
     "output_type": "stream",
     "text": [
      "\r",
      "  1%|▏         | 144/10000 [00:07<16:40,  9.85it/s, episode_reward=500, running_reward=204]"
     ]
    },
    {
     "name": "stderr",
     "output_type": "stream",
     "text": [
      "\r",
      "  1%|▏         | 144/10000 [00:07<16:40,  9.85it/s, episode_reward=500, running_reward=209]"
     ]
    },
    {
     "name": "stderr",
     "output_type": "stream",
     "text": [
      "\r",
      "  1%|▏         | 144/10000 [00:07<16:40,  9.85it/s, episode_reward=500, running_reward=214]"
     ]
    },
    {
     "name": "stderr",
     "output_type": "stream",
     "text": [
      "\r",
      "  1%|▏         | 146/10000 [00:07<17:53,  9.18it/s, episode_reward=500, running_reward=214]"
     ]
    },
    {
     "name": "stderr",
     "output_type": "stream",
     "text": [
      "\r",
      "  1%|▏         | 146/10000 [00:07<17:53,  9.18it/s, episode_reward=500, running_reward=219]"
     ]
    },
    {
     "name": "stderr",
     "output_type": "stream",
     "text": [
      "\r",
      "  1%|▏         | 147/10000 [00:07<18:12,  9.02it/s, episode_reward=500, running_reward=219]"
     ]
    },
    {
     "name": "stderr",
     "output_type": "stream",
     "text": [
      "\r",
      "  1%|▏         | 147/10000 [00:07<18:12,  9.02it/s, episode_reward=500, running_reward=223]"
     ]
    },
    {
     "name": "stderr",
     "output_type": "stream",
     "text": [
      "\r",
      "  1%|▏         | 148/10000 [00:07<18:29,  8.88it/s, episode_reward=500, running_reward=223]"
     ]
    },
    {
     "name": "stderr",
     "output_type": "stream",
     "text": [
      "\r",
      "  1%|▏         | 148/10000 [00:07<18:29,  8.88it/s, episode_reward=500, running_reward=228]"
     ]
    },
    {
     "name": "stderr",
     "output_type": "stream",
     "text": [
      "\r",
      "  1%|▏         | 149/10000 [00:07<18:59,  8.64it/s, episode_reward=500, running_reward=228]"
     ]
    },
    {
     "name": "stderr",
     "output_type": "stream",
     "text": [
      "\r",
      "  1%|▏         | 149/10000 [00:08<18:59,  8.64it/s, episode_reward=467, running_reward=232]"
     ]
    },
    {
     "name": "stderr",
     "output_type": "stream",
     "text": [
      "\r",
      "  2%|▏         | 150/10000 [00:08<19:53,  8.25it/s, episode_reward=467, running_reward=232]"
     ]
    },
    {
     "name": "stderr",
     "output_type": "stream",
     "text": [
      "\r",
      "  2%|▏         | 150/10000 [00:08<19:53,  8.25it/s, episode_reward=500, running_reward=237]"
     ]
    },
    {
     "name": "stderr",
     "output_type": "stream",
     "text": [
      "\r",
      "  2%|▏         | 151/10000 [00:08<20:13,  8.12it/s, episode_reward=500, running_reward=237]"
     ]
    },
    {
     "name": "stderr",
     "output_type": "stream",
     "text": [
      "\r",
      "  2%|▏         | 151/10000 [00:08<20:13,  8.12it/s, episode_reward=500, running_reward=242]"
     ]
    },
    {
     "name": "stderr",
     "output_type": "stream",
     "text": [
      "\r",
      "  2%|▏         | 152/10000 [00:08<20:12,  8.12it/s, episode_reward=500, running_reward=242]"
     ]
    },
    {
     "name": "stderr",
     "output_type": "stream",
     "text": [
      "\r",
      "  2%|▏         | 152/10000 [00:08<20:12,  8.12it/s, episode_reward=500, running_reward=246]"
     ]
    },
    {
     "name": "stderr",
     "output_type": "stream",
     "text": [
      "\r",
      "  2%|▏         | 153/10000 [00:08<20:09,  8.14it/s, episode_reward=500, running_reward=246]"
     ]
    },
    {
     "name": "stderr",
     "output_type": "stream",
     "text": [
      "\r",
      "  2%|▏         | 153/10000 [00:08<20:09,  8.14it/s, episode_reward=500, running_reward=251]"
     ]
    },
    {
     "name": "stderr",
     "output_type": "stream",
     "text": [
      "\r",
      "  2%|▏         | 154/10000 [00:08<20:24,  8.04it/s, episode_reward=500, running_reward=251]"
     ]
    },
    {
     "name": "stderr",
     "output_type": "stream",
     "text": [
      "\r",
      "  2%|▏         | 154/10000 [00:08<20:24,  8.04it/s, episode_reward=500, running_reward=255]"
     ]
    },
    {
     "name": "stderr",
     "output_type": "stream",
     "text": [
      "\r",
      "  2%|▏         | 155/10000 [00:08<21:24,  7.66it/s, episode_reward=500, running_reward=255]"
     ]
    },
    {
     "name": "stderr",
     "output_type": "stream",
     "text": [
      "\r",
      "  2%|▏         | 155/10000 [00:08<21:24,  7.66it/s, episode_reward=500, running_reward=259]"
     ]
    },
    {
     "name": "stderr",
     "output_type": "stream",
     "text": [
      "\r",
      "  2%|▏         | 156/10000 [00:08<21:04,  7.79it/s, episode_reward=500, running_reward=259]"
     ]
    },
    {
     "name": "stderr",
     "output_type": "stream",
     "text": [
      "\r",
      "  2%|▏         | 156/10000 [00:08<21:04,  7.79it/s, episode_reward=500, running_reward=264]"
     ]
    },
    {
     "name": "stderr",
     "output_type": "stream",
     "text": [
      "\r",
      "  2%|▏         | 157/10000 [00:08<20:59,  7.81it/s, episode_reward=500, running_reward=264]"
     ]
    },
    {
     "name": "stderr",
     "output_type": "stream",
     "text": [
      "\r",
      "  2%|▏         | 157/10000 [00:09<20:59,  7.81it/s, episode_reward=500, running_reward=268]"
     ]
    },
    {
     "name": "stderr",
     "output_type": "stream",
     "text": [
      "\r",
      "  2%|▏         | 158/10000 [00:09<21:00,  7.81it/s, episode_reward=500, running_reward=268]"
     ]
    },
    {
     "name": "stderr",
     "output_type": "stream",
     "text": [
      "\r",
      "  2%|▏         | 158/10000 [00:09<21:00,  7.81it/s, episode_reward=456, running_reward=273]"
     ]
    },
    {
     "name": "stderr",
     "output_type": "stream",
     "text": [
      "\r",
      "  2%|▏         | 159/10000 [00:09<20:09,  8.13it/s, episode_reward=456, running_reward=273]"
     ]
    },
    {
     "name": "stderr",
     "output_type": "stream",
     "text": [
      "\r",
      "  2%|▏         | 159/10000 [00:09<20:09,  8.13it/s, episode_reward=463, running_reward=277]"
     ]
    },
    {
     "name": "stderr",
     "output_type": "stream",
     "text": [
      "\r",
      "  2%|▏         | 160/10000 [00:09<19:42,  8.32it/s, episode_reward=463, running_reward=277]"
     ]
    },
    {
     "name": "stderr",
     "output_type": "stream",
     "text": [
      "\r",
      "  2%|▏         | 160/10000 [00:09<19:42,  8.32it/s, episode_reward=354, running_reward=280]"
     ]
    },
    {
     "name": "stderr",
     "output_type": "stream",
     "text": [
      "\r",
      "  2%|▏         | 160/10000 [00:09<19:42,  8.32it/s, episode_reward=500, running_reward=284]"
     ]
    },
    {
     "name": "stderr",
     "output_type": "stream",
     "text": [
      "\r",
      "  2%|▏         | 162/10000 [00:09<18:20,  8.94it/s, episode_reward=500, running_reward=284]"
     ]
    },
    {
     "name": "stderr",
     "output_type": "stream",
     "text": [
      "\r",
      "  2%|▏         | 162/10000 [00:09<18:20,  8.94it/s, episode_reward=500, running_reward=288]"
     ]
    },
    {
     "name": "stderr",
     "output_type": "stream",
     "text": [
      "\r",
      "  2%|▏         | 163/10000 [00:09<18:43,  8.76it/s, episode_reward=500, running_reward=288]"
     ]
    },
    {
     "name": "stderr",
     "output_type": "stream",
     "text": [
      "\r",
      "  2%|▏         | 163/10000 [00:09<18:43,  8.76it/s, episode_reward=500, running_reward=293]"
     ]
    },
    {
     "name": "stderr",
     "output_type": "stream",
     "text": [
      "\r",
      "  2%|▏         | 164/10000 [00:09<20:05,  8.16it/s, episode_reward=500, running_reward=293]"
     ]
    },
    {
     "name": "stderr",
     "output_type": "stream",
     "text": [
      "\r",
      "  2%|▏         | 164/10000 [00:09<20:05,  8.16it/s, episode_reward=500, running_reward=297]"
     ]
    },
    {
     "name": "stderr",
     "output_type": "stream",
     "text": [
      "\r",
      "  2%|▏         | 165/10000 [00:09<21:03,  7.78it/s, episode_reward=500, running_reward=297]"
     ]
    },
    {
     "name": "stderr",
     "output_type": "stream",
     "text": [
      "\r",
      "  2%|▏         | 165/10000 [00:10<21:03,  7.78it/s, episode_reward=500, running_reward=301]"
     ]
    },
    {
     "name": "stderr",
     "output_type": "stream",
     "text": [
      "\r",
      "  2%|▏         | 166/10000 [00:10<21:37,  7.58it/s, episode_reward=500, running_reward=301]"
     ]
    },
    {
     "name": "stderr",
     "output_type": "stream",
     "text": [
      "\r",
      "  2%|▏         | 166/10000 [00:10<21:37,  7.58it/s, episode_reward=500, running_reward=305]"
     ]
    },
    {
     "name": "stderr",
     "output_type": "stream",
     "text": [
      "\r",
      "  2%|▏         | 167/10000 [00:10<21:26,  7.64it/s, episode_reward=500, running_reward=305]"
     ]
    },
    {
     "name": "stderr",
     "output_type": "stream",
     "text": [
      "\r",
      "  2%|▏         | 167/10000 [00:10<21:26,  7.64it/s, episode_reward=500, running_reward=310]"
     ]
    },
    {
     "name": "stderr",
     "output_type": "stream",
     "text": [
      "\r",
      "  2%|▏         | 168/10000 [00:10<21:08,  7.75it/s, episode_reward=500, running_reward=310]"
     ]
    },
    {
     "name": "stderr",
     "output_type": "stream",
     "text": [
      "\r",
      "  2%|▏         | 168/10000 [00:10<21:08,  7.75it/s, episode_reward=500, running_reward=314]"
     ]
    },
    {
     "name": "stderr",
     "output_type": "stream",
     "text": [
      "\r",
      "  2%|▏         | 169/10000 [00:10<21:46,  7.53it/s, episode_reward=500, running_reward=314]"
     ]
    },
    {
     "name": "stderr",
     "output_type": "stream",
     "text": [
      "\r",
      "  2%|▏         | 169/10000 [00:10<21:46,  7.53it/s, episode_reward=137, running_reward=315]"
     ]
    },
    {
     "name": "stderr",
     "output_type": "stream",
     "text": [
      "\r",
      "  2%|▏         | 169/10000 [00:10<21:46,  7.53it/s, episode_reward=500, running_reward=319]"
     ]
    },
    {
     "name": "stderr",
     "output_type": "stream",
     "text": [
      "\r",
      "  2%|▏         | 171/10000 [00:10<17:46,  9.21it/s, episode_reward=500, running_reward=319]"
     ]
    },
    {
     "name": "stderr",
     "output_type": "stream",
     "text": [
      "\r",
      "  2%|▏         | 171/10000 [00:10<17:46,  9.21it/s, episode_reward=500, running_reward=323]"
     ]
    },
    {
     "name": "stderr",
     "output_type": "stream",
     "text": [
      "\r",
      "  2%|▏         | 172/10000 [00:10<18:26,  8.88it/s, episode_reward=500, running_reward=323]"
     ]
    },
    {
     "name": "stderr",
     "output_type": "stream",
     "text": [
      "\r",
      "  2%|▏         | 172/10000 [00:10<18:26,  8.88it/s, episode_reward=500, running_reward=326]"
     ]
    },
    {
     "name": "stderr",
     "output_type": "stream",
     "text": [
      "\r",
      "  2%|▏         | 173/10000 [00:10<18:58,  8.63it/s, episode_reward=500, running_reward=326]"
     ]
    },
    {
     "name": "stderr",
     "output_type": "stream",
     "text": [
      "\r",
      "  2%|▏         | 173/10000 [00:10<18:58,  8.63it/s, episode_reward=500, running_reward=331]"
     ]
    },
    {
     "name": "stderr",
     "output_type": "stream",
     "text": [
      "\r",
      "  2%|▏         | 174/10000 [00:10<19:23,  8.45it/s, episode_reward=500, running_reward=331]"
     ]
    },
    {
     "name": "stderr",
     "output_type": "stream",
     "text": [
      "\r",
      "  2%|▏         | 174/10000 [00:11<19:23,  8.45it/s, episode_reward=500, running_reward=335]"
     ]
    },
    {
     "name": "stderr",
     "output_type": "stream",
     "text": [
      "\r",
      "  2%|▏         | 175/10000 [00:11<19:47,  8.27it/s, episode_reward=500, running_reward=335]"
     ]
    },
    {
     "name": "stderr",
     "output_type": "stream",
     "text": [
      "\r",
      "  2%|▏         | 175/10000 [00:11<19:47,  8.27it/s, episode_reward=138, running_reward=335]"
     ]
    },
    {
     "name": "stderr",
     "output_type": "stream",
     "text": [
      "\r",
      "  2%|▏         | 175/10000 [00:11<19:47,  8.27it/s, episode_reward=500, running_reward=339]"
     ]
    },
    {
     "name": "stderr",
     "output_type": "stream",
     "text": [
      "\r",
      "  2%|▏         | 177/10000 [00:11<17:26,  9.38it/s, episode_reward=500, running_reward=339]"
     ]
    },
    {
     "name": "stderr",
     "output_type": "stream",
     "text": [
      "\r",
      "  2%|▏         | 177/10000 [00:11<17:26,  9.38it/s, episode_reward=500, running_reward=343]"
     ]
    },
    {
     "name": "stderr",
     "output_type": "stream",
     "text": [
      "\r",
      "  2%|▏         | 178/10000 [00:11<17:58,  9.11it/s, episode_reward=500, running_reward=343]"
     ]
    },
    {
     "name": "stderr",
     "output_type": "stream",
     "text": [
      "\r",
      "  2%|▏         | 178/10000 [00:11<17:58,  9.11it/s, episode_reward=500, running_reward=346]"
     ]
    },
    {
     "name": "stderr",
     "output_type": "stream",
     "text": [
      "\r",
      "  2%|▏         | 179/10000 [00:11<18:28,  8.86it/s, episode_reward=500, running_reward=346]"
     ]
    },
    {
     "name": "stderr",
     "output_type": "stream",
     "text": [
      "\r",
      "  2%|▏         | 179/10000 [00:11<18:28,  8.86it/s, episode_reward=500, running_reward=348]"
     ]
    },
    {
     "name": "stderr",
     "output_type": "stream",
     "text": [
      "\r",
      "  2%|▏         | 180/10000 [00:11<18:54,  8.66it/s, episode_reward=500, running_reward=348]"
     ]
    },
    {
     "name": "stderr",
     "output_type": "stream",
     "text": [
      "\r",
      "  2%|▏         | 180/10000 [00:11<18:54,  8.66it/s, episode_reward=500, running_reward=351]"
     ]
    },
    {
     "name": "stderr",
     "output_type": "stream",
     "text": [
      "\r",
      "  2%|▏         | 181/10000 [00:11<19:21,  8.45it/s, episode_reward=500, running_reward=351]"
     ]
    },
    {
     "name": "stderr",
     "output_type": "stream",
     "text": [
      "\r",
      "  2%|▏         | 181/10000 [00:11<19:21,  8.45it/s, episode_reward=129, running_reward=350]"
     ]
    },
    {
     "name": "stderr",
     "output_type": "stream",
     "text": [
      "\r",
      "  2%|▏         | 181/10000 [00:11<19:21,  8.45it/s, episode_reward=500, running_reward=355]"
     ]
    },
    {
     "name": "stderr",
     "output_type": "stream",
     "text": [
      "\r",
      "  2%|▏         | 183/10000 [00:11<16:37,  9.85it/s, episode_reward=500, running_reward=355]"
     ]
    },
    {
     "name": "stderr",
     "output_type": "stream",
     "text": [
      "\r",
      "  2%|▏         | 183/10000 [00:11<16:37,  9.85it/s, episode_reward=135, running_reward=353]"
     ]
    },
    {
     "name": "stderr",
     "output_type": "stream",
     "text": [
      "\r",
      "  2%|▏         | 183/10000 [00:12<16:37,  9.85it/s, episode_reward=500, running_reward=357]"
     ]
    },
    {
     "name": "stderr",
     "output_type": "stream",
     "text": [
      "\r",
      "  2%|▏         | 185/10000 [00:12<16:48,  9.73it/s, episode_reward=500, running_reward=357]"
     ]
    },
    {
     "name": "stderr",
     "output_type": "stream",
     "text": [
      "\r",
      "  2%|▏         | 185/10000 [00:12<16:48,  9.73it/s, episode_reward=500, running_reward=360]"
     ]
    },
    {
     "name": "stderr",
     "output_type": "stream",
     "text": [
      "\r",
      "  2%|▏         | 186/10000 [00:12<18:39,  8.77it/s, episode_reward=500, running_reward=360]"
     ]
    },
    {
     "name": "stderr",
     "output_type": "stream",
     "text": [
      "\r",
      "  2%|▏         | 186/10000 [00:12<18:39,  8.77it/s, episode_reward=500, running_reward=364]"
     ]
    },
    {
     "name": "stderr",
     "output_type": "stream",
     "text": [
      "\r",
      "  2%|▏         | 187/10000 [00:12<20:01,  8.17it/s, episode_reward=500, running_reward=364]"
     ]
    },
    {
     "name": "stderr",
     "output_type": "stream",
     "text": [
      "\r",
      "  2%|▏         | 187/10000 [00:12<20:01,  8.17it/s, episode_reward=500, running_reward=367]"
     ]
    },
    {
     "name": "stderr",
     "output_type": "stream",
     "text": [
      "\r",
      "  2%|▏         | 188/10000 [00:12<20:25,  8.01it/s, episode_reward=500, running_reward=367]"
     ]
    },
    {
     "name": "stderr",
     "output_type": "stream",
     "text": [
      "\r",
      "  2%|▏         | 188/10000 [00:12<20:25,  8.01it/s, episode_reward=500, running_reward=370]"
     ]
    },
    {
     "name": "stderr",
     "output_type": "stream",
     "text": [
      "\r",
      "  2%|▏         | 189/10000 [00:12<20:18,  8.05it/s, episode_reward=500, running_reward=370]"
     ]
    },
    {
     "name": "stderr",
     "output_type": "stream",
     "text": [
      "\r",
      "  2%|▏         | 189/10000 [00:12<20:18,  8.05it/s, episode_reward=500, running_reward=373]"
     ]
    },
    {
     "name": "stderr",
     "output_type": "stream",
     "text": [
      "\r",
      "  2%|▏         | 190/10000 [00:12<20:23,  8.02it/s, episode_reward=500, running_reward=373]"
     ]
    },
    {
     "name": "stderr",
     "output_type": "stream",
     "text": [
      "\r",
      "  2%|▏         | 190/10000 [00:12<20:23,  8.02it/s, episode_reward=311, running_reward=373]"
     ]
    },
    {
     "name": "stderr",
     "output_type": "stream",
     "text": [
      "\r",
      "  2%|▏         | 190/10000 [00:13<20:23,  8.02it/s, episode_reward=500, running_reward=375]"
     ]
    },
    {
     "name": "stderr",
     "output_type": "stream",
     "text": [
      "\r",
      "  2%|▏         | 192/10000 [00:13<18:38,  8.77it/s, episode_reward=500, running_reward=375]"
     ]
    },
    {
     "name": "stderr",
     "output_type": "stream",
     "text": [
      "\r",
      "  2%|▏         | 192/10000 [00:13<18:38,  8.77it/s, episode_reward=500, running_reward=377]"
     ]
    },
    {
     "name": "stderr",
     "output_type": "stream",
     "text": [
      "\r",
      "  2%|▏         | 193/10000 [00:13<18:51,  8.67it/s, episode_reward=500, running_reward=377]"
     ]
    },
    {
     "name": "stderr",
     "output_type": "stream",
     "text": [
      "\r",
      "  2%|▏         | 193/10000 [00:13<18:51,  8.67it/s, episode_reward=500, running_reward=378]"
     ]
    },
    {
     "name": "stderr",
     "output_type": "stream",
     "text": [
      "\r",
      "  2%|▏         | 194/10000 [00:13<19:00,  8.60it/s, episode_reward=500, running_reward=378]"
     ]
    },
    {
     "name": "stderr",
     "output_type": "stream",
     "text": [
      "\r",
      "  2%|▏         | 194/10000 [00:13<19:00,  8.60it/s, episode_reward=500, running_reward=381]"
     ]
    },
    {
     "name": "stderr",
     "output_type": "stream",
     "text": [
      "\r",
      "  2%|▏         | 195/10000 [00:13<19:25,  8.42it/s, episode_reward=500, running_reward=381]"
     ]
    },
    {
     "name": "stderr",
     "output_type": "stream",
     "text": [
      "\r",
      "  2%|▏         | 195/10000 [00:13<19:25,  8.42it/s, episode_reward=500, running_reward=384]"
     ]
    },
    {
     "name": "stderr",
     "output_type": "stream",
     "text": [
      "\r",
      "  2%|▏         | 196/10000 [00:13<19:23,  8.43it/s, episode_reward=500, running_reward=384]"
     ]
    },
    {
     "name": "stderr",
     "output_type": "stream",
     "text": [
      "\r",
      "  2%|▏         | 196/10000 [00:13<19:23,  8.43it/s, episode_reward=500, running_reward=386]"
     ]
    },
    {
     "name": "stderr",
     "output_type": "stream",
     "text": [
      "\r",
      "  2%|▏         | 197/10000 [00:13<20:10,  8.10it/s, episode_reward=500, running_reward=386]"
     ]
    },
    {
     "name": "stderr",
     "output_type": "stream",
     "text": [
      "\r",
      "  2%|▏         | 197/10000 [00:13<20:10,  8.10it/s, episode_reward=500, running_reward=388]"
     ]
    },
    {
     "name": "stderr",
     "output_type": "stream",
     "text": [
      "\r",
      "  2%|▏         | 198/10000 [00:13<20:07,  8.12it/s, episode_reward=500, running_reward=388]"
     ]
    },
    {
     "name": "stderr",
     "output_type": "stream",
     "text": [
      "\r",
      "  2%|▏         | 198/10000 [00:13<20:07,  8.12it/s, episode_reward=500, running_reward=388]"
     ]
    },
    {
     "name": "stderr",
     "output_type": "stream",
     "text": [
      "\r",
      "  2%|▏         | 199/10000 [00:13<20:10,  8.10it/s, episode_reward=500, running_reward=388]"
     ]
    },
    {
     "name": "stderr",
     "output_type": "stream",
     "text": [
      "\r",
      "  2%|▏         | 199/10000 [00:14<20:10,  8.10it/s, episode_reward=500, running_reward=390]"
     ]
    },
    {
     "name": "stderr",
     "output_type": "stream",
     "text": [
      "\r",
      "  2%|▏         | 200/10000 [00:14<22:03,  7.40it/s, episode_reward=500, running_reward=390]"
     ]
    },
    {
     "name": "stderr",
     "output_type": "stream",
     "text": [
      "\r",
      "  2%|▏         | 200/10000 [00:14<22:03,  7.40it/s, episode_reward=500, running_reward=394]"
     ]
    },
    {
     "name": "stderr",
     "output_type": "stream",
     "text": [
      "\r",
      "  2%|▏         | 201/10000 [00:14<21:21,  7.65it/s, episode_reward=500, running_reward=394]"
     ]
    },
    {
     "name": "stderr",
     "output_type": "stream",
     "text": [
      "\r",
      "  2%|▏         | 201/10000 [00:14<21:21,  7.65it/s, episode_reward=500, running_reward=397]"
     ]
    },
    {
     "name": "stderr",
     "output_type": "stream",
     "text": [
      "\r",
      "  2%|▏         | 202/10000 [00:14<22:13,  7.35it/s, episode_reward=500, running_reward=397]"
     ]
    },
    {
     "name": "stderr",
     "output_type": "stream",
     "text": [
      "\r",
      "  2%|▏         | 202/10000 [00:14<22:13,  7.35it/s, episode_reward=500, running_reward=400]"
     ]
    },
    {
     "name": "stderr",
     "output_type": "stream",
     "text": [
      "\r",
      "  2%|▏         | 203/10000 [00:14<21:43,  7.52it/s, episode_reward=500, running_reward=400]"
     ]
    },
    {
     "name": "stderr",
     "output_type": "stream",
     "text": [
      "\r",
      "  2%|▏         | 203/10000 [00:14<21:43,  7.52it/s, episode_reward=500, running_reward=403]"
     ]
    },
    {
     "name": "stderr",
     "output_type": "stream",
     "text": [
      "\r",
      "  2%|▏         | 204/10000 [00:14<21:07,  7.73it/s, episode_reward=500, running_reward=403]"
     ]
    },
    {
     "name": "stderr",
     "output_type": "stream",
     "text": [
      "\r",
      "  2%|▏         | 204/10000 [00:14<21:07,  7.73it/s, episode_reward=500, running_reward=406]"
     ]
    },
    {
     "name": "stderr",
     "output_type": "stream",
     "text": [
      "\r",
      "  2%|▏         | 205/10000 [00:14<20:55,  7.80it/s, episode_reward=500, running_reward=406]"
     ]
    },
    {
     "name": "stderr",
     "output_type": "stream",
     "text": [
      "\r",
      "  2%|▏         | 205/10000 [00:14<20:55,  7.80it/s, episode_reward=500, running_reward=409]"
     ]
    },
    {
     "name": "stderr",
     "output_type": "stream",
     "text": [
      "\r",
      "  2%|▏         | 206/10000 [00:14<20:38,  7.91it/s, episode_reward=500, running_reward=409]"
     ]
    },
    {
     "name": "stderr",
     "output_type": "stream",
     "text": [
      "\r",
      "  2%|▏         | 206/10000 [00:14<20:38,  7.91it/s, episode_reward=500, running_reward=411]"
     ]
    },
    {
     "name": "stderr",
     "output_type": "stream",
     "text": [
      "\r",
      "  2%|▏         | 207/10000 [00:14<20:34,  7.93it/s, episode_reward=500, running_reward=411]"
     ]
    },
    {
     "name": "stderr",
     "output_type": "stream",
     "text": [
      "\r",
      "  2%|▏         | 207/10000 [00:15<20:34,  7.93it/s, episode_reward=500, running_reward=414]"
     ]
    },
    {
     "name": "stderr",
     "output_type": "stream",
     "text": [
      "\r",
      "  2%|▏         | 208/10000 [00:15<20:34,  7.93it/s, episode_reward=500, running_reward=414]"
     ]
    },
    {
     "name": "stderr",
     "output_type": "stream",
     "text": [
      "\r",
      "  2%|▏         | 208/10000 [00:15<20:34,  7.93it/s, episode_reward=500, running_reward=416]"
     ]
    },
    {
     "name": "stderr",
     "output_type": "stream",
     "text": [
      "\r",
      "  2%|▏         | 209/10000 [00:15<20:27,  7.97it/s, episode_reward=500, running_reward=416]"
     ]
    },
    {
     "name": "stderr",
     "output_type": "stream",
     "text": [
      "\r",
      "  2%|▏         | 209/10000 [00:15<20:27,  7.97it/s, episode_reward=500, running_reward=419]"
     ]
    },
    {
     "name": "stderr",
     "output_type": "stream",
     "text": [
      "\r",
      "  2%|▏         | 210/10000 [00:15<20:15,  8.05it/s, episode_reward=500, running_reward=419]"
     ]
    },
    {
     "name": "stderr",
     "output_type": "stream",
     "text": [
      "\r",
      "  2%|▏         | 210/10000 [00:15<20:15,  8.05it/s, episode_reward=500, running_reward=422]"
     ]
    },
    {
     "name": "stderr",
     "output_type": "stream",
     "text": [
      "\r",
      "  2%|▏         | 211/10000 [00:15<19:50,  8.22it/s, episode_reward=500, running_reward=422]"
     ]
    },
    {
     "name": "stderr",
     "output_type": "stream",
     "text": [
      "\r",
      "  2%|▏         | 211/10000 [00:15<19:50,  8.22it/s, episode_reward=500, running_reward=425]"
     ]
    },
    {
     "name": "stderr",
     "output_type": "stream",
     "text": [
      "\r",
      "  2%|▏         | 212/10000 [00:15<19:45,  8.25it/s, episode_reward=500, running_reward=425]"
     ]
    },
    {
     "name": "stderr",
     "output_type": "stream",
     "text": [
      "\r",
      "  2%|▏         | 212/10000 [00:15<19:45,  8.25it/s, episode_reward=500, running_reward=427]"
     ]
    },
    {
     "name": "stderr",
     "output_type": "stream",
     "text": [
      "\r",
      "  2%|▏         | 213/10000 [00:15<19:54,  8.19it/s, episode_reward=500, running_reward=427]"
     ]
    },
    {
     "name": "stderr",
     "output_type": "stream",
     "text": [
      "\r",
      "  2%|▏         | 213/10000 [00:15<19:54,  8.19it/s, episode_reward=500, running_reward=430]"
     ]
    },
    {
     "name": "stderr",
     "output_type": "stream",
     "text": [
      "\r",
      "  2%|▏         | 214/10000 [00:15<20:15,  8.05it/s, episode_reward=500, running_reward=430]"
     ]
    },
    {
     "name": "stderr",
     "output_type": "stream",
     "text": [
      "\r",
      "  2%|▏         | 214/10000 [00:15<20:15,  8.05it/s, episode_reward=500, running_reward=432]"
     ]
    },
    {
     "name": "stderr",
     "output_type": "stream",
     "text": [
      "\r",
      "  2%|▏         | 215/10000 [00:15<20:09,  8.09it/s, episode_reward=500, running_reward=432]"
     ]
    },
    {
     "name": "stderr",
     "output_type": "stream",
     "text": [
      "\r",
      "  2%|▏         | 215/10000 [00:16<20:09,  8.09it/s, episode_reward=500, running_reward=435]"
     ]
    },
    {
     "name": "stderr",
     "output_type": "stream",
     "text": [
      "\r",
      "  2%|▏         | 216/10000 [00:16<20:06,  8.11it/s, episode_reward=500, running_reward=435]"
     ]
    },
    {
     "name": "stderr",
     "output_type": "stream",
     "text": [
      "\r",
      "  2%|▏         | 216/10000 [00:16<20:06,  8.11it/s, episode_reward=500, running_reward=437]"
     ]
    },
    {
     "name": "stderr",
     "output_type": "stream",
     "text": [
      "\r",
      "  2%|▏         | 217/10000 [00:16<20:00,  8.15it/s, episode_reward=500, running_reward=437]"
     ]
    },
    {
     "name": "stderr",
     "output_type": "stream",
     "text": [
      "\r",
      "  2%|▏         | 217/10000 [00:16<20:00,  8.15it/s, episode_reward=500, running_reward=441]"
     ]
    },
    {
     "name": "stderr",
     "output_type": "stream",
     "text": [
      "\r",
      "  2%|▏         | 218/10000 [00:16<19:57,  8.17it/s, episode_reward=500, running_reward=441]"
     ]
    },
    {
     "name": "stderr",
     "output_type": "stream",
     "text": [
      "\r",
      "  2%|▏         | 218/10000 [00:16<19:57,  8.17it/s, episode_reward=500, running_reward=443]"
     ]
    },
    {
     "name": "stderr",
     "output_type": "stream",
     "text": [
      "\r",
      "  2%|▏         | 219/10000 [00:16<19:37,  8.30it/s, episode_reward=500, running_reward=443]"
     ]
    },
    {
     "name": "stderr",
     "output_type": "stream",
     "text": [
      "\r",
      "  2%|▏         | 219/10000 [00:16<19:37,  8.30it/s, episode_reward=500, running_reward=446]"
     ]
    },
    {
     "name": "stderr",
     "output_type": "stream",
     "text": [
      "\r",
      "  2%|▏         | 220/10000 [00:16<19:38,  8.30it/s, episode_reward=500, running_reward=446]"
     ]
    },
    {
     "name": "stderr",
     "output_type": "stream",
     "text": [
      "\r",
      "  2%|▏         | 220/10000 [00:16<19:38,  8.30it/s, episode_reward=500, running_reward=449]"
     ]
    },
    {
     "name": "stderr",
     "output_type": "stream",
     "text": [
      "\r",
      "  2%|▏         | 221/10000 [00:16<19:53,  8.20it/s, episode_reward=500, running_reward=449]"
     ]
    },
    {
     "name": "stderr",
     "output_type": "stream",
     "text": [
      "\r",
      "  2%|▏         | 221/10000 [00:16<19:53,  8.20it/s, episode_reward=500, running_reward=451]"
     ]
    },
    {
     "name": "stderr",
     "output_type": "stream",
     "text": [
      "\r",
      "  2%|▏         | 222/10000 [00:16<19:55,  8.18it/s, episode_reward=500, running_reward=451]"
     ]
    },
    {
     "name": "stderr",
     "output_type": "stream",
     "text": [
      "\r",
      "  2%|▏         | 222/10000 [00:16<19:55,  8.18it/s, episode_reward=500, running_reward=455]"
     ]
    },
    {
     "name": "stderr",
     "output_type": "stream",
     "text": [
      "\r",
      "  2%|▏         | 223/10000 [00:16<19:58,  8.16it/s, episode_reward=500, running_reward=455]"
     ]
    },
    {
     "name": "stderr",
     "output_type": "stream",
     "text": [
      "\r",
      "  2%|▏         | 223/10000 [00:17<19:58,  8.16it/s, episode_reward=500, running_reward=457]"
     ]
    },
    {
     "name": "stderr",
     "output_type": "stream",
     "text": [
      "\r",
      "  2%|▏         | 224/10000 [00:17<19:50,  8.21it/s, episode_reward=500, running_reward=457]"
     ]
    },
    {
     "name": "stderr",
     "output_type": "stream",
     "text": [
      "\r",
      "  2%|▏         | 224/10000 [00:17<19:50,  8.21it/s, episode_reward=500, running_reward=458]"
     ]
    },
    {
     "name": "stderr",
     "output_type": "stream",
     "text": [
      "\r",
      "  2%|▏         | 225/10000 [00:17<19:49,  8.22it/s, episode_reward=500, running_reward=458]"
     ]
    },
    {
     "name": "stderr",
     "output_type": "stream",
     "text": [
      "\r",
      "  2%|▏         | 225/10000 [00:17<19:49,  8.22it/s, episode_reward=500, running_reward=459]"
     ]
    },
    {
     "name": "stderr",
     "output_type": "stream",
     "text": [
      "\r",
      "  2%|▏         | 226/10000 [00:17<19:53,  8.19it/s, episode_reward=500, running_reward=459]"
     ]
    },
    {
     "name": "stderr",
     "output_type": "stream",
     "text": [
      "\r",
      "  2%|▏         | 226/10000 [00:17<19:53,  8.19it/s, episode_reward=500, running_reward=463]"
     ]
    },
    {
     "name": "stderr",
     "output_type": "stream",
     "text": [
      "\r",
      "  2%|▏         | 227/10000 [00:17<19:51,  8.20it/s, episode_reward=500, running_reward=463]"
     ]
    },
    {
     "name": "stderr",
     "output_type": "stream",
     "text": [
      "\r",
      "  2%|▏         | 227/10000 [00:17<19:51,  8.20it/s, episode_reward=500, running_reward=463]"
     ]
    },
    {
     "name": "stderr",
     "output_type": "stream",
     "text": [
      "\r",
      "  2%|▏         | 228/10000 [00:17<19:59,  8.15it/s, episode_reward=500, running_reward=463]"
     ]
    },
    {
     "name": "stderr",
     "output_type": "stream",
     "text": [
      "\r",
      "  2%|▏         | 228/10000 [00:17<19:59,  8.15it/s, episode_reward=500, running_reward=465]"
     ]
    },
    {
     "name": "stderr",
     "output_type": "stream",
     "text": [
      "\r",
      "  2%|▏         | 229/10000 [00:17<19:54,  8.18it/s, episode_reward=500, running_reward=465]"
     ]
    },
    {
     "name": "stderr",
     "output_type": "stream",
     "text": [
      "\r",
      "  2%|▏         | 229/10000 [00:17<19:54,  8.18it/s, episode_reward=500, running_reward=466]"
     ]
    },
    {
     "name": "stderr",
     "output_type": "stream",
     "text": [
      "\r",
      "  2%|▏         | 230/10000 [00:17<19:44,  8.24it/s, episode_reward=500, running_reward=466]"
     ]
    },
    {
     "name": "stderr",
     "output_type": "stream",
     "text": [
      "\r",
      "  2%|▏         | 230/10000 [00:17<19:44,  8.24it/s, episode_reward=500, running_reward=466]"
     ]
    },
    {
     "name": "stderr",
     "output_type": "stream",
     "text": [
      "\r",
      "  2%|▏         | 231/10000 [00:17<19:57,  8.16it/s, episode_reward=500, running_reward=466]"
     ]
    },
    {
     "name": "stderr",
     "output_type": "stream",
     "text": [
      "\r",
      "  2%|▏         | 231/10000 [00:17<19:57,  8.16it/s, episode_reward=500, running_reward=466]"
     ]
    },
    {
     "name": "stderr",
     "output_type": "stream",
     "text": [
      "\r",
      "  2%|▏         | 232/10000 [00:17<20:02,  8.12it/s, episode_reward=500, running_reward=466]"
     ]
    },
    {
     "name": "stderr",
     "output_type": "stream",
     "text": [
      "\r",
      "  2%|▏         | 232/10000 [00:18<20:02,  8.12it/s, episode_reward=500, running_reward=468]"
     ]
    },
    {
     "name": "stderr",
     "output_type": "stream",
     "text": [
      "\r",
      "  2%|▏         | 233/10000 [00:18<20:01,  8.13it/s, episode_reward=500, running_reward=468]"
     ]
    },
    {
     "name": "stderr",
     "output_type": "stream",
     "text": [
      "\r",
      "  2%|▏         | 233/10000 [00:18<20:01,  8.13it/s, episode_reward=500, running_reward=469]"
     ]
    },
    {
     "name": "stderr",
     "output_type": "stream",
     "text": [
      "\r",
      "  2%|▏         | 234/10000 [00:18<20:37,  7.89it/s, episode_reward=500, running_reward=469]"
     ]
    },
    {
     "name": "stderr",
     "output_type": "stream",
     "text": [
      "\r",
      "  2%|▏         | 234/10000 [00:18<20:37,  7.89it/s, episode_reward=500, running_reward=472]"
     ]
    },
    {
     "name": "stderr",
     "output_type": "stream",
     "text": [
      "\r",
      "  2%|▏         | 235/10000 [00:18<20:44,  7.85it/s, episode_reward=500, running_reward=472]"
     ]
    },
    {
     "name": "stderr",
     "output_type": "stream",
     "text": [
      "\r",
      "  2%|▏         | 235/10000 [00:18<20:44,  7.85it/s, episode_reward=500, running_reward=474]"
     ]
    },
    {
     "name": "stderr",
     "output_type": "stream",
     "text": [
      "\r",
      "  2%|▏         | 236/10000 [00:18<20:33,  7.91it/s, episode_reward=500, running_reward=474]"
     ]
    },
    {
     "name": "stderr",
     "output_type": "stream",
     "text": [
      "\r",
      "  2%|▏         | 236/10000 [00:18<20:33,  7.91it/s, episode_reward=500, running_reward=474]"
     ]
    },
    {
     "name": "stderr",
     "output_type": "stream",
     "text": [
      "\r",
      "  2%|▏         | 237/10000 [00:18<20:34,  7.91it/s, episode_reward=500, running_reward=474]"
     ]
    },
    {
     "name": "stderr",
     "output_type": "stream",
     "text": [
      "\r",
      "  2%|▏         | 237/10000 [00:18<20:34,  7.91it/s, episode_reward=410, running_reward=476]"
     ]
    },
    {
     "name": "stderr",
     "output_type": "stream",
     "text": [
      "\r",
      "  2%|▏         | 237/10000 [00:18<12:51, 12.65it/s, episode_reward=410, running_reward=476]"
     ]
    },
    {
     "name": "stdout",
     "output_type": "stream",
     "text": [
      "\n",
      "Solved at episode 237: average reward: 475.51!\n",
      "CPU times: user 22.8 s, sys: 1.64 s, total: 24.4 s\n",
      "Wall time: 18.7 s\n"
     ]
    },
    {
     "name": "stderr",
     "output_type": "stream",
     "text": [
      "\n"
     ]
    }
   ],
   "source": [
    "%%time\n",
    "\n",
    "min_episodes_criterion = 100\n",
    "max_episodes = 10000\n",
    "max_steps_per_episode = 500\n",
    "\n",
    "# `CartPole-v1` is considered solved if average reward is >= 475 over 500\n",
    "# consecutive trials\n",
    "reward_threshold = 475\n",
    "running_reward = 0\n",
    "\n",
    "# The discount factor for future rewards\n",
    "gamma = 0.99\n",
    "\n",
    "# Keep the last episodes reward\n",
    "episodes_reward: collections.deque = collections.deque(maxlen=min_episodes_criterion)\n",
    "\n",
    "t = tqdm.trange(max_episodes)\n",
    "for i in t:\n",
    "    initial_state, info = env.reset()\n",
    "    initial_state = tf.constant(initial_state, dtype=tf.float32)\n",
    "    episode_reward = int(train_step(\n",
    "        initial_state, model, optimizer, gamma, max_steps_per_episode))\n",
    "\n",
    "    episodes_reward.append(episode_reward)\n",
    "    running_reward = statistics.mean(episodes_reward)\n",
    "\n",
    "\n",
    "    t.set_postfix(\n",
    "        episode_reward=episode_reward, running_reward=running_reward)\n",
    "\n",
    "    # Show the average episode reward every 10 episodes\n",
    "    if i % 10 == 0:\n",
    "      pass # print(f'Episode {i}: average reward: {avg_reward}')\n",
    "\n",
    "    if running_reward > reward_threshold and i >= min_episodes_criterion:\n",
    "        break\n",
    "\n",
    "print(f'\\nSolved at episode {i}: average reward: {running_reward:.2f}!')"
   ]
  },
  {
   "cell_type": "markdown",
   "metadata": {
    "id": "ru8BEwS1EmAv"
   },
   "source": [
    "## Visualization\n",
    "\n",
    "After training, it would be good to visualize how the model performs in the environment. You can run the cells below to generate a GIF animation of one episode run of the model. Note that additional packages need to be installed for Gym to render the environment's images correctly in Colab."
   ]
  },
  {
   "cell_type": "code",
   "execution_count": 13,
   "metadata": {
    "execution": {
     "iopub.execute_input": "2023-09-28T01:26:18.248353Z",
     "iopub.status.busy": "2023-09-28T01:26:18.248056Z",
     "iopub.status.idle": "2023-09-28T01:26:20.698427Z",
     "shell.execute_reply": "2023-09-28T01:26:20.697663Z"
    },
    "id": "qbIMMkfmRHyC"
   },
   "outputs": [],
   "source": [
    "# Render an episode and save as a GIF file\n",
    "\n",
    "from IPython import display as ipythondisplay\n",
    "from PIL import Image\n",
    "\n",
    "render_env = gym.make(\"CartPole-v1\", render_mode='rgb_array')\n",
    "\n",
    "def render_episode(env: gym.Env, model: tf.keras.Model, max_steps: int):\n",
    "  state, info = env.reset()\n",
    "  state = tf.constant(state, dtype=tf.float32)\n",
    "  screen = env.render()\n",
    "  images = [Image.fromarray(screen)]\n",
    "\n",
    "  for i in range(1, max_steps + 1):\n",
    "    state = tf.expand_dims(state, 0)\n",
    "    action_probs, _ = model(state)\n",
    "    action = np.argmax(np.squeeze(action_probs))\n",
    "\n",
    "    state, reward, done, truncated, info = env.step(action)\n",
    "    state = tf.constant(state, dtype=tf.float32)\n",
    "\n",
    "    # Render screen every 10 steps\n",
    "    if i % 10 == 0:\n",
    "      screen = env.render()\n",
    "      images.append(Image.fromarray(screen))\n",
    "\n",
    "    if done:\n",
    "      break\n",
    "\n",
    "  return images\n",
    "\n",
    "\n",
    "# Save GIF image\n",
    "images = render_episode(render_env, model, max_steps_per_episode)\n",
    "image_file = 'cartpole-v1.gif'\n",
    "# loop=0: loop forever, duration=1: play each frame for 1ms\n",
    "images[0].save(\n",
    "    image_file, save_all=True, append_images=images[1:], loop=0, duration=1)"
   ]
  },
  {
   "cell_type": "code",
   "execution_count": 14,
   "metadata": {
    "execution": {
     "iopub.execute_input": "2023-09-28T01:26:20.702401Z",
     "iopub.status.busy": "2023-09-28T01:26:20.702153Z",
     "iopub.status.idle": "2023-09-28T01:26:20.712460Z",
     "shell.execute_reply": "2023-09-28T01:26:20.711872Z"
    },
    "id": "TLd720SejKmf"
   },
   "outputs": [
    {
     "data": {
      "text/html": [
       "<img src=\"data:image/gif;base64,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\"/>"
      ],
      "text/plain": [
       "<IPython.core.display.HTML object>"
      ]
     },
     "execution_count": 14,
     "metadata": {},
     "output_type": "execute_result"
    }
   ],
   "source": [
    "import tensorflow_docs.vis.embed as embed\n",
    "embed.embed_file(image_file)"
   ]
  },
  {
   "cell_type": "markdown",
   "metadata": {
    "id": "lnq9Hzo1Po6X"
   },
   "source": [
    "## Next steps\n",
    "\n",
    "This tutorial demonstrated how to implement the Actor-Critic method using Tensorflow.\n",
    "\n",
    "As a next step, you could try training a model on a different environment in Gym.\n",
    "\n",
    "For additional information regarding Actor-Critic methods and the Cartpole-v0 problem, you may refer to the following resources:\n",
    "\n",
    "- [The Actor-Critic method](https://hal.inria.fr/hal-00840470/document)\n",
    "- [The Actor-Critic lecture (CAL)](https://www.youtube.com/watch?v=EKqxumCuAAY&list=PLkFD6_40KJIwhWJpGazJ9VSj9CFMkb79A&index=7&t=0s)\n",
    "- [Cart Pole learning control problem \\[Barto, et al. 1983\\]](http://www.derongliu.org/adp/adp-cdrom/Barto1983.pdf)\n",
    "\n",
    "For more reinforcement learning examples in TensorFlow, you can check the following resources:\n",
    "- [Reinforcement learning code examples (keras.io)](https://keras.io/examples/rl/)\n",
    "- [TF-Agents reinforcement learning library](https://www.tensorflow.org/agents)\n"
   ]
  }
 ],
 "metadata": {
  "colab": {
   "collapsed_sections": [
    "_jQ1tEQCxwRx"
   ],
   "name": "actor_critic.ipynb",
   "provenance": [],
   "toc_visible": true
  },
  "kernelspec": {
   "display_name": "Python 3",
   "name": "python3"
  },
  "language_info": {
   "codemirror_mode": {
    "name": "ipython",
    "version": 3
   },
   "file_extension": ".py",
   "mimetype": "text/x-python",
   "name": "python",
   "nbconvert_exporter": "python",
   "pygments_lexer": "ipython3",
   "version": "3.9.18"
  }
 },
 "nbformat": 4,
 "nbformat_minor": 0
}
