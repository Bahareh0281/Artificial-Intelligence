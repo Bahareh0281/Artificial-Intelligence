{
 "cells": [
  {
   "cell_type": "code",
   "execution_count": null,
   "metadata": {},
   "outputs": [],
   "source": [
    "import numpy as np\n",
    "import pandas as pd"
   ]
  },
  {
   "cell_type": "code",
   "execution_count": null,
   "metadata": {},
   "outputs": [],
   "source": [
    "train = pd.read_csv('Airplane.csv')\n",
    "\n",
    "train = train.drop(train.columns[0], axis=1)\n",
    "train = train.drop(\"id\", axis='columns')\n",
    "\n",
    "# print (train.info())\n",
    "# print(train.head(10))\n",
    "# nptest = np.array(train[\"satisfaction\"])\n",
    "# nptest"
   ]
  },
  {
   "cell_type": "code",
   "execution_count": null,
   "metadata": {},
   "outputs": [],
   "source": [
    "CustomerType_Mapping = {\n",
    "    \"Loyal Customer\": 1,\n",
    "    \"disloyal Customer\": 0,\n",
    "}\n",
    "train[\"Customer Type\"] = train[\"Customer Type\"].replace(CustomerType_Mapping)\n",
    "\n",
    "\n",
    "TypeofTravel_Mapping = {\n",
    "    \"Business travel\" : 0,\n",
    "    \"Personal Travel\" : 1,\n",
    "}\n",
    "train[\"Type of Travel\"] = train[\"Type of Travel\"].replace(TypeofTravel_Mapping)\n",
    "\n",
    "Class_Mapping = {\n",
    "    \"Business\": 0,\n",
    "    \"Eco\": 1,\n",
    "    \"Eco Plus\": 2,\n",
    "}\n",
    "train[\"Class\"] = train[\"Class\"].replace(Class_Mapping)\n",
    "\n",
    "Gender_Mapping = {\n",
    "    \"Male\": 0,\n",
    "    \"Female\": 1,\n",
    "}\n",
    "train[\"Gender\"] = train[\"Gender\"].replace(Gender_Mapping)\n",
    "\n",
    "conditions = [\n",
    "    train['Age'] <= 16,\n",
    "    (train['Age'] > 16) & (train['Age'] <= 32),\n",
    "    (train['Age'] > 32) & (train['Age'] <= 48),\n",
    "    (train['Age'] > 48) & (train['Age'] <= 64),\n",
    "    (train['Age'] > 64) & (train['Age'] <= 80),\n",
    "    train['Age'] > 80\n",
    "]\n",
    "choices = [0, 1, 2, 3, 4, 5]\n",
    "train['Age'] = np.select(conditions, choices, default=train['Age'])\n",
    "\n",
    "bins = [0, 60, 120, 180, 240, 300, 360, 420, 480, 540, 600, 660, 720, 780, 840, 900, 960, 1020, 1080, 1140, 1200, float('inf')]\n",
    "labels = list(range(len(bins) - 1))\n",
    "train['Arrival Delay in Minutes'] = pd.cut(train['Arrival Delay in Minutes'], bins=bins, labels=labels, include_lowest=True, right=False).fillna(0).astype(int)\n",
    "\n",
    "bins = [0, 60, 120, 180, 240, 300, 360, 420, 480, 540, 600, 660, 720, 780, 840, 900, 960, 1020, 1080, 1140, 1200, 1260, float('inf')]\n",
    "labels = list(range(len(bins) - 1))\n",
    "train['Departure Delay in Minutes'] = pd.cut(train['Departure Delay in Minutes'], bins=bins, labels=labels, include_lowest=True, right=False).fillna(0).astype(int)\n",
    "\n",
    "bins = [0, 1000, 2000, 3000, 4000, float('inf')]\n",
    "labels = list(range(len(bins) - 1))\n",
    "train['Flight Distance'] = pd.cut(train['Flight Distance'], bins=bins, labels=labels, include_lowest=True, right=False).fillna(0).astype(int)"
   ]
  }
 ],
 "metadata": {
  "kernelspec": {
   "display_name": "Python 3",
   "language": "python",
   "name": "python3"
  },
  "language_info": {
   "codemirror_mode": {
    "name": "ipython",
    "version": 3
   },
   "file_extension": ".py",
   "mimetype": "text/x-python",
   "name": "python",
   "nbconvert_exporter": "python",
   "pygments_lexer": "ipython3",
   "version": "3.11.0"
  }
 },
 "nbformat": 4,
 "nbformat_minor": 2
}
