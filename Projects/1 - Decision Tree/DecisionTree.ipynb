{
 "cells": [
  {
   "cell_type": "code",
   "execution_count": 551,
   "metadata": {},
   "outputs": [],
   "source": [
    "import numpy as np\n",
    "import pandas as pd"
   ]
  },
  {
   "cell_type": "code",
   "execution_count": 552,
   "metadata": {},
   "outputs": [
    {
     "name": "stdout",
     "output_type": "stream",
     "text": [
      "<class 'pandas.core.frame.DataFrame'>\n",
      "RangeIndex: 12 entries, 0 to 11\n",
      "Data columns (total 12 columns):\n",
      " #   Column    Non-Null Count  Dtype \n",
      "---  ------    --------------  ----- \n",
      " 0   id        12 non-null     int64 \n",
      " 1   Alt       12 non-null     object\n",
      " 2   Bar       12 non-null     object\n",
      " 3   Fri       12 non-null     object\n",
      " 4   Hun       12 non-null     object\n",
      " 5   Pat       10 non-null     object\n",
      " 6   Price     12 non-null     object\n",
      " 7   Rain      12 non-null     object\n",
      " 8   Res       12 non-null     object\n",
      " 9   Type      12 non-null     object\n",
      " 10  Est       12 non-null     object\n",
      " 11  WillWait  12 non-null     object\n",
      "dtypes: int64(1), object(11)\n",
      "memory usage: 1.2+ KB\n",
      "None\n"
     ]
    }
   ],
   "source": [
    "train = pd.read_csv('Restaurant.csv')\n",
    "\n",
    "print (train.info())"
   ]
  },
  {
   "cell_type": "code",
   "execution_count": 553,
   "metadata": {},
   "outputs": [
    {
     "name": "stdout",
     "output_type": "stream",
     "text": [
      "   id  Alt  Bar  Fri  Hun   Pat Price Rain  Res     Type     Est WillWait\n",
      "0   1  Yes   No   No  Yes  Some   $$$   No  Yes   French    0-10      Yes\n",
      "1   2  Yes   No   No  Yes  Full     $   No   No     Thai   30-60       No\n",
      "2   3   No  Yes   No   No  Some     $   No   No   Burger    0-10      Yes\n",
      "3   4  Yes   No  Yes  Yes  Full     $  Yes   No     Thai   10-30      Yes\n",
      "4   5  Yes   No  Yes   No  Full   $$$   No  Yes   French     >60       No\n",
      "5   6   No  Yes   No  Yes  Some    $$  Yes  Yes  Italian    0-10      Yes\n",
      "6   7   No  Yes   No   No   NaN     $  Yes   No   Burger    0-10       No\n",
      "7   8   No   No   No  Yes  Some    $$  Yes  Yes     Thai    0-10      Yes\n",
      "8   9   No  Yes  Yes   No  Full     $  Yes   No   Burger     >60       No\n",
      "9  10  Yes  Yes  Yes  Yes  Full   $$$   No  Yes  Italian   10-30       No\n"
     ]
    }
   ],
   "source": [
    "print(train.head(10))"
   ]
  },
  {
   "cell_type": "code",
   "execution_count": 554,
   "metadata": {},
   "outputs": [
    {
     "data": {
      "text/plain": [
       "array(['No', 'No', 'No', 'No', 'No', 'No', 'Yes', 'Yes', 'Yes', 'Yes',\n",
       "       'Yes', 'Yes'], dtype=object)"
      ]
     },
     "execution_count": 554,
     "metadata": {},
     "output_type": "execute_result"
    }
   ],
   "source": [
    "nptest = np.array(train[\"WillWait\"])\n",
    "nptest.sort()\n",
    "nptest"
   ]
  },
  {
   "cell_type": "code",
   "execution_count": 555,
   "metadata": {},
   "outputs": [],
   "source": [
    "YesNo_Mapping = {\n",
    "    \"Yes\": 1,\n",
    "    \"No\": 0,\n",
    "}\n",
    "\n",
    "train[\"Alt\"] = train[\"Alt\"].replace(YesNo_Mapping)\n",
    "train[\"Bar\"] = train[\"Bar\"].replace(YesNo_Mapping)\n",
    "train[\"Fri\"] = train[\"Fri\"].replace(YesNo_Mapping)\n",
    "train[\"Hun\"] = train[\"Hun\"].replace(YesNo_Mapping)\n",
    "train[\"Rain\"] = train[\"Rain\"].replace(YesNo_Mapping)\n",
    "train[\"Res\"] = train[\"Res\"].replace(YesNo_Mapping)\n",
    "train[\"WillWait\"] = train[\"WillWait\"].replace(YesNo_Mapping)\n",
    "\n",
    "Pat_Mapping = {\n",
    "    \"None\": 0,\n",
    "    \"Some\": 0.5,\n",
    "    \"Full\": 1,\n",
    "}\n",
    "\n",
    "train[\"Pat\"] = train[\"Pat\"].replace(Pat_Mapping)\n",
    "\n",
    "Price_Mapping = {\n",
    "    \"$\": 1,\n",
    "    \"$$\": 2,\n",
    "    \"$$$\": 3,\n",
    "}\n",
    "train[\"Price\"] = train[\"Price\"].replace(Price_Mapping)\n",
    "\n",
    "Type_Mapping = {\n",
    "    \"French\": 1,\n",
    "    \"Thai\": 2,\n",
    "    \"Burger\": 3,\n",
    "    \"Italian\": 4,\n",
    "}\n",
    "train[\"Type\"] = train[\"Type\"].replace(Type_Mapping)"
   ]
  },
  {
   "cell_type": "code",
   "execution_count": 556,
   "metadata": {},
   "outputs": [
    {
     "name": "stdout",
     "output_type": "stream",
     "text": [
      "   Type  WillWait\n",
      "0     1       0.5\n",
      "1     2       0.5\n",
      "2     3       0.5\n",
      "3     4       0.5\n"
     ]
    }
   ],
   "source": [
    "# print(train[[\"Type\", \"WillWait\"]].groupby([\"Type\"], as_index=False).mean())\n",
    "GroupedByType = train[[\"Type\", \"WillWait\"]].groupby([\"Type\"], as_index=False).mean()\n",
    "\n",
    "print(GroupedByType)"
   ]
  },
  {
   "cell_type": "code",
   "execution_count": 557,
   "metadata": {},
   "outputs": [
    {
     "name": "stdout",
     "output_type": "stream",
     "text": [
      "   Pat  WillWait\n",
      "0  0.5  1.000000\n",
      "1  1.0  0.333333\n"
     ]
    }
   ],
   "source": [
    "GroupedByPat = train[[\"Pat\", \"WillWait\"]].groupby([\"Pat\"], as_index=False).mean()\n",
    "\n",
    "print(GroupedByPat)"
   ]
  },
  {
   "cell_type": "code",
   "execution_count": 558,
   "metadata": {},
   "outputs": [
    {
     "name": "stdout",
     "output_type": "stream",
     "text": [
      "    id  Alt  Bar  Fri  Hun  Pat  Price  Rain  Res  Type     Est  WillWait\n",
      "0    1    1    0    0    1  0.5      3     0    1     1    0-10         1\n",
      "1    2    1    0    0    1  1.0      1     0    0     2   30-60         0\n",
      "2    3    0    1    0    0  0.5      1     0    0     3    0-10         1\n",
      "3    4    1    0    1    1  1.0      1     1    0     2   10-30         1\n",
      "4    5    1    0    1    0  1.0      3     0    1     1     >60         0\n",
      "5    6    0    1    0    1  0.5      2     1    1     4    0-10         1\n",
      "6    7    0    1    0    0  NaN      1     1    0     3    0-10         0\n",
      "7    8    0    0    0    1  0.5      2     1    1     2    0-10         1\n",
      "8    9    0    1    1    0  1.0      1     1    0     3     >60         0\n",
      "9   10    1    1    1    1  1.0      3     0    1     4   10-30         0\n",
      "10  11    0    0    0    0  NaN      1     0    0     2    0-10         0\n",
      "11  12    1    1    1    1  1.0      1     0    0     3   30-60         1\n"
     ]
    }
   ],
   "source": [
    "print (train)"
   ]
  },
  {
   "cell_type": "code",
   "execution_count": 559,
   "metadata": {},
   "outputs": [],
   "source": [
    "def calculate_entropy(labels):\n",
    "    label_counts = np.bincount(labels)\n",
    "    label_probs = label_counts / len(labels)\n",
    "    entropy = -np.sum(label_probs * np.log2(label_probs + 1e-10))  # Add small value to avoid log(0)\n",
    "    return entropy"
   ]
  },
  {
   "cell_type": "code",
   "execution_count": 560,
   "metadata": {},
   "outputs": [],
   "source": [
    "def calculate_gini_index(labels):\n",
    "    label_counts = np.bincount(labels)\n",
    "    label_probs = label_counts / len(labels)\n",
    "    gini_index = 1 - np.sum(label_probs ** 2)\n",
    "    return gini_index"
   ]
  },
  {
   "cell_type": "code",
   "execution_count": 561,
   "metadata": {},
   "outputs": [],
   "source": [
    "# The most common value in the target attribute of the given examples\n",
    "# examples: A numpy arr containing the examples\n",
    "\n",
    "# from collections import Counter\n",
    "\n",
    "def PLURALITY_VALUE(examples):\n",
    "    # classes = examples[:, -1]\n",
    "    # counts = Counter(classes)\n",
    "    # return counts.most_common(1)[0][0]\n",
    "    return np.argmax(np.bincount(examples[:, -1]))"
   ]
  },
  {
   "cell_type": "code",
   "execution_count": 562,
   "metadata": {},
   "outputs": [],
   "source": [
    "def find_attribute_index (attribute, examples):\n",
    "    column_names = examples[0]\n",
    "    index = np.where(column_names == attribute)[0]\n",
    "    return index"
   ]
  },
  {
   "cell_type": "code",
   "execution_count": 563,
   "metadata": {},
   "outputs": [],
   "source": [
    "# Selects the best attribute to use for splitting the data based on entropy\n",
    "# attributes: A set containing the attributes to choose from\n",
    "# examples: A NumPy array containing the examples\n",
    "\n",
    "def select_best_attribute_entropy (attributes, examples):\n",
    "    best_attribute = None\n",
    "    # best_entropy = float('inf')\n",
    "    min_entropy = np.inf\n",
    "    \n",
    "    for attribute in attributes:\n",
    "        # examples = np.array(examples)\n",
    "        # attribute_values = np.unique(examples[:, attribute])\n",
    "        # attribute_entropy = 0\n",
    "        \n",
    "        # for value in attribute_values:\n",
    "        #     value_examples = examples[examples[:, attribute] == value]\n",
    "        #     value_prob = len(value_examples) / len(examples)\n",
    "        #     value_entropy = calculate_entropy(value_examples[:, -1])\n",
    "            \n",
    "        #     attribute_entropy += value_prob * value_entropy\n",
    "        \n",
    "        # if attribute_entropy < best_entropy:\n",
    "        #     best_entropy = attribute_entropy\n",
    "        #     best_attribute = attribute\n",
    "        entropy = entropy_help(examples[:, find_attribute_index(attribute, examples)])\n",
    "        if entropy < min_entropy:\n",
    "            best_attribute = attribute\n",
    "            min_entropy = entropy\n",
    "    \n",
    "    return best_attribute\n",
    "\n",
    "\n",
    "# Calculates the entropy of the given examples.\n",
    "# examples: A NumPy array containing the examples\n",
    "def entropy_help(examples):\n",
    "    unique_values, counts = np.unique(examples, return_counts=True)\n",
    "    probabilities = counts / len(examples)\n",
    "    entropy = -np.sum(probabilities * np.log2(probabilities))\n",
    "    return entropy"
   ]
  },
  {
   "cell_type": "code",
   "execution_count": 564,
   "metadata": {},
   "outputs": [],
   "source": [
    "def select_best_attribute_GiniIndex (attributes, examples):\n",
    "    best_attribute = None\n",
    "    best_gini_index = float('inf')\n",
    "    \n",
    "    for attribute in attributes:\n",
    "        # examples = np.array(examples)\n",
    "        attribute_values = np.unique(examples[:, find_attribute_index(attribute, examples)])\n",
    "        attribute_gini_index = 0\n",
    "        \n",
    "        for value in attribute_values:\n",
    "            value_examples = examples[examples[:, attribute] == value]\n",
    "            value_prob = len(value_examples) / len(examples)\n",
    "            value_gini_index = calculate_gini_index(value_examples[:, -1])\n",
    "            \n",
    "            attribute_gini_index += value_prob * value_gini_index\n",
    "        \n",
    "        if attribute_gini_index < best_gini_index:\n",
    "            best_gini_index = attribute_gini_index\n",
    "            best_attribute = attribute\n",
    "    \n",
    "    return best_attribute"
   ]
  },
  {
   "cell_type": "code",
   "execution_count": 565,
   "metadata": {},
   "outputs": [],
   "source": [
    "# Learns a decision tree from the given examples and attributes\n",
    "# examples: A numpy arr containing the dataset\n",
    "# attributes: A set containing the attributes\n",
    "# parent_examples: A numpy arr containing the parent examples\n",
    "# returns: A decision tree as a py dictionary\n",
    "\n",
    "def LEARN_DECISION_TREE (examples, attributes, parent_examples):\n",
    "    if len(examples) == 0:\n",
    "        return PLURALITY_VALUE(parent_examples)\n",
    "    \n",
    "    elif np.all(examples[:, -1] == examples[0, -1]):\n",
    "        return examples[0, -1]\n",
    "    \n",
    "    elif len(attributes) == 0:\n",
    "        return PLURALITY_VALUE(examples)\n",
    "    \n",
    "    else:\n",
    "        # A = select_best_attribute_entropy(attributes, examples)\n",
    "        A = select_best_attribute_GiniIndex(attributes, examples)\n",
    "        # examples_slice = np.array(examples[:, A])\n",
    "        A_index = find_attribute_index(A, examples)\n",
    "        attribute_values = np.unique(examples[:,A_index])\n",
    "        tree = {A: {}}\n",
    "        for value in np.unique(examples[:, A_index]):\n",
    "            exs = examples[examples[:, A] == value]\n",
    "            subtree = LEARN_DECISION_TREE(exs, attributes - {A}, examples)\n",
    "            tree[A][value] = subtree\n",
    "        return tree"
   ]
  },
  {
   "cell_type": "code",
   "execution_count": 566,
   "metadata": {},
   "outputs": [],
   "source": [
    "# def PRINT_DECISION_TREE(tree, indent=''):\n",
    "#     attribute = next(iter(tree))\n",
    "#     print(indent + attribute + ':')\n",
    "\n",
    "#     subtree = tree[attribute]\n",
    "#     for value in subtree:\n",
    "#         if isinstance(subtree[value], dict):\n",
    "#             print(indent + ' ' + value + ' =>')\n",
    "#             PRINT_DECISION_TREE(subtree[value, indent + '   '])\n",
    "#         else:\n",
    "#             print (indent + '   ' + value + ' => ' + subtree[value])\n",
    "\n",
    "import json\n",
    "\n",
    "def print_decision_tree(tree):\n",
    "  \"\"\"\n",
    "  Prints the decision tree to the console.\n",
    "\n",
    "  Args:\n",
    "    tree: A decision tree represented as a Python dictionary.\n",
    "  \"\"\"\n",
    "\n",
    "  print(json.dumps(tree, indent=4))\n",
    "\n",
    "\n",
    "\n",
    "import pydot\n",
    "\n",
    "def visualize_decision_tree(tree, filename='decision_tree.png'):\n",
    "  \"\"\"\n",
    "  Visualizes the decision tree using PyDot.\n",
    "\n",
    "  Args:\n",
    "    tree: A decision tree represented as a Python dictionary.\n",
    "    filename: The filename of the output PNG image.\n",
    "  \"\"\"\n",
    "\n",
    "  def create_subgraph(node):\n",
    "    node_id = pydot.Node(json.dumps(node))\n",
    "    subgraph = dot.subgraph(node_id)\n",
    "\n",
    "    for child, value in node.items():\n",
    "      if isinstance(value, dict):\n",
    "        create_subgraph(child, subgraph)\n",
    "      else:\n",
    "        edge = pydot.Edge(node_id, value)\n",
    "        subgraph.add_edge(edge)\n",
    "\n",
    "    return subgraph\n",
    "\n",
    "  dot = pydot.Dot()\n",
    "\n",
    "  root_subgraph = create_subgraph(tree)\n",
    "  dot.add_subgraph(root_subgraph)\n",
    "\n",
    "  dot.write_png(filename)"
   ]
  },
  {
   "cell_type": "code",
   "execution_count": 567,
   "metadata": {},
   "outputs": [
    {
     "name": "stdout",
     "output_type": "stream",
     "text": [
      "{\n",
      "    \"Est\": {}\n",
      "}\n"
     ]
    },
    {
     "ename": "AttributeError",
     "evalue": "'Dot' object has no attribute 'subgraph'",
     "output_type": "error",
     "traceback": [
      "\u001b[1;31m---------------------------------------------------------------------------\u001b[0m",
      "\u001b[1;31mAttributeError\u001b[0m                            Traceback (most recent call last)",
      "\u001b[1;32md:\\Bahareh\\7\\Files\\Artificial Intelligence\\Git\\Artificial-Intelligence\\Projects\\1 - Decision Tree\\DecisionTree.ipynb Cell 17\u001b[0m line \u001b[0;36m6\n\u001b[0;32m      <a href='vscode-notebook-cell:/d%3A/Bahareh/7/Files/Artificial%20Intelligence/Git/Artificial-Intelligence/Projects/1%20-%20Decision%20Tree/DecisionTree.ipynb#X20sZmlsZQ%3D%3D?line=3'>4</a>\u001b[0m \u001b[39m# PRINT_DECISION_TREE(DT)\u001b[39;00m\n\u001b[0;32m      <a href='vscode-notebook-cell:/d%3A/Bahareh/7/Files/Artificial%20Intelligence/Git/Artificial-Intelligence/Projects/1%20-%20Decision%20Tree/DecisionTree.ipynb#X20sZmlsZQ%3D%3D?line=4'>5</a>\u001b[0m print_decision_tree(DT)\n\u001b[1;32m----> <a href='vscode-notebook-cell:/d%3A/Bahareh/7/Files/Artificial%20Intelligence/Git/Artificial-Intelligence/Projects/1%20-%20Decision%20Tree/DecisionTree.ipynb#X20sZmlsZQ%3D%3D?line=5'>6</a>\u001b[0m visualize_decision_tree(DT)\n",
      "\u001b[1;32md:\\Bahareh\\7\\Files\\Artificial Intelligence\\Git\\Artificial-Intelligence\\Projects\\1 - Decision Tree\\DecisionTree.ipynb Cell 17\u001b[0m line \u001b[0;36m5\n\u001b[0;32m     <a href='vscode-notebook-cell:/d%3A/Bahareh/7/Files/Artificial%20Intelligence/Git/Artificial-Intelligence/Projects/1%20-%20Decision%20Tree/DecisionTree.ipynb#X20sZmlsZQ%3D%3D?line=48'>49</a>\u001b[0m   \u001b[39mreturn\u001b[39;00m subgraph\n\u001b[0;32m     <a href='vscode-notebook-cell:/d%3A/Bahareh/7/Files/Artificial%20Intelligence/Git/Artificial-Intelligence/Projects/1%20-%20Decision%20Tree/DecisionTree.ipynb#X20sZmlsZQ%3D%3D?line=50'>51</a>\u001b[0m dot \u001b[39m=\u001b[39m pydot\u001b[39m.\u001b[39mDot()\n\u001b[1;32m---> <a href='vscode-notebook-cell:/d%3A/Bahareh/7/Files/Artificial%20Intelligence/Git/Artificial-Intelligence/Projects/1%20-%20Decision%20Tree/DecisionTree.ipynb#X20sZmlsZQ%3D%3D?line=52'>53</a>\u001b[0m root_subgraph \u001b[39m=\u001b[39m create_subgraph(tree)\n\u001b[0;32m     <a href='vscode-notebook-cell:/d%3A/Bahareh/7/Files/Artificial%20Intelligence/Git/Artificial-Intelligence/Projects/1%20-%20Decision%20Tree/DecisionTree.ipynb#X20sZmlsZQ%3D%3D?line=53'>54</a>\u001b[0m dot\u001b[39m.\u001b[39madd_subgraph(root_subgraph)\n\u001b[0;32m     <a href='vscode-notebook-cell:/d%3A/Bahareh/7/Files/Artificial%20Intelligence/Git/Artificial-Intelligence/Projects/1%20-%20Decision%20Tree/DecisionTree.ipynb#X20sZmlsZQ%3D%3D?line=55'>56</a>\u001b[0m dot\u001b[39m.\u001b[39mwrite_png(filename)\n",
      "\u001b[1;32md:\\Bahareh\\7\\Files\\Artificial Intelligence\\Git\\Artificial-Intelligence\\Projects\\1 - Decision Tree\\DecisionTree.ipynb Cell 17\u001b[0m line \u001b[0;36m4\n\u001b[0;32m     <a href='vscode-notebook-cell:/d%3A/Bahareh/7/Files/Artificial%20Intelligence/Git/Artificial-Intelligence/Projects/1%20-%20Decision%20Tree/DecisionTree.ipynb#X20sZmlsZQ%3D%3D?line=37'>38</a>\u001b[0m \u001b[39mdef\u001b[39;00m \u001b[39mcreate_subgraph\u001b[39m(node):\n\u001b[0;32m     <a href='vscode-notebook-cell:/d%3A/Bahareh/7/Files/Artificial%20Intelligence/Git/Artificial-Intelligence/Projects/1%20-%20Decision%20Tree/DecisionTree.ipynb#X20sZmlsZQ%3D%3D?line=38'>39</a>\u001b[0m   node_id \u001b[39m=\u001b[39m pydot\u001b[39m.\u001b[39mNode(json\u001b[39m.\u001b[39mdumps(node))\n\u001b[1;32m---> <a href='vscode-notebook-cell:/d%3A/Bahareh/7/Files/Artificial%20Intelligence/Git/Artificial-Intelligence/Projects/1%20-%20Decision%20Tree/DecisionTree.ipynb#X20sZmlsZQ%3D%3D?line=39'>40</a>\u001b[0m   subgraph \u001b[39m=\u001b[39m dot\u001b[39m.\u001b[39;49msubgraph(node_id)\n\u001b[0;32m     <a href='vscode-notebook-cell:/d%3A/Bahareh/7/Files/Artificial%20Intelligence/Git/Artificial-Intelligence/Projects/1%20-%20Decision%20Tree/DecisionTree.ipynb#X20sZmlsZQ%3D%3D?line=41'>42</a>\u001b[0m   \u001b[39mfor\u001b[39;00m child, value \u001b[39min\u001b[39;00m node\u001b[39m.\u001b[39mitems():\n\u001b[0;32m     <a href='vscode-notebook-cell:/d%3A/Bahareh/7/Files/Artificial%20Intelligence/Git/Artificial-Intelligence/Projects/1%20-%20Decision%20Tree/DecisionTree.ipynb#X20sZmlsZQ%3D%3D?line=42'>43</a>\u001b[0m     \u001b[39mif\u001b[39;00m \u001b[39misinstance\u001b[39m(value, \u001b[39mdict\u001b[39m):\n",
      "\u001b[1;31mAttributeError\u001b[0m: 'Dot' object has no attribute 'subgraph'"
     ]
    }
   ],
   "source": [
    "train_data = np.array(train.head(10))\n",
    "attributes = {'Alt', 'Bar', 'Fri', 'Hun', 'Pat', 'Price', 'Rain', 'Res', 'Type', 'Est'}\n",
    "DT = LEARN_DECISION_TREE(train_data, attributes, np.array([]))\n",
    "# PRINT_DECISION_TREE(DT)\n",
    "print_decision_tree(DT)\n",
    "visualize_decision_tree(DT)"
   ]
  },
  {
   "cell_type": "code",
   "execution_count": null,
   "metadata": {},
   "outputs": [],
   "source": [
    "def Test_Decision_Tree (tree, test_data):\n",
    "    predictions = []\n",
    "    for example in test_data:\n",
    "        prediction = PREDICT(tree, example, test_data)\n",
    "        predictions.append(prediction)\n",
    "    return predictions\n",
    "\n",
    "def PREDICT(tree, example, examples):\n",
    "    attribute = next(iter(tree))\n",
    "    print (\"Checking attribute: \" + attribute)\n",
    "    attribute_index = find_attribute_index(attribute, examples)\n",
    "    value = tuple(example[attribute_index])\n",
    "    print (\"Values is: \")\n",
    "    print (value)\n",
    "    print (\"tree[attribute] is: \" )\n",
    "    print (tree[attribute])\n",
    "    if value in tree[attribute]:\n",
    "        subtree = tree[attribute][value]\n",
    "        if isinstance(subtree, dict):\n",
    "            prediction = PREDICT(subtree, example, examples)\n",
    "        else:\n",
    "            prediction = subtree\n",
    "    else:\n",
    "        # Missing Values ?\n",
    "        prediction = 20\n",
    "    return prediction"
   ]
  },
  {
   "cell_type": "code",
   "execution_count": null,
   "metadata": {},
   "outputs": [],
   "source": [
    "test_data = np.array(train.tail(2))[:, :-1]\n",
    "print (test_data)\n",
    "predictions = Test_Decision_Tree(DT, test_data)\n",
    "print(predictions)"
   ]
  }
 ],
 "metadata": {
  "kernelspec": {
   "display_name": "Python 3",
   "language": "python",
   "name": "python3"
  },
  "language_info": {
   "codemirror_mode": {
    "name": "ipython",
    "version": 3
   },
   "file_extension": ".py",
   "mimetype": "text/x-python",
   "name": "python",
   "nbconvert_exporter": "python",
   "pygments_lexer": "ipython3",
   "version": "3.11.0"
  }
 },
 "nbformat": 4,
 "nbformat_minor": 2
}
