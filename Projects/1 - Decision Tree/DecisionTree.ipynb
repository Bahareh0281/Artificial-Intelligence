{
 "cells": [
  {
   "cell_type": "code",
   "execution_count": 627,
   "metadata": {},
   "outputs": [],
   "source": [
    "import numpy as np\n",
    "import pandas as pd"
   ]
  },
  {
   "cell_type": "code",
   "execution_count": null,
   "metadata": {},
   "outputs": [],
   "source": [
    "train = pd.read_csv('Restaurant.csv')\n",
    "print (train.info())"
   ]
  },
  {
   "cell_type": "code",
   "execution_count": null,
   "metadata": {},
   "outputs": [],
   "source": [
    "print(train.head(10))"
   ]
  },
  {
   "cell_type": "code",
   "execution_count": null,
   "metadata": {},
   "outputs": [],
   "source": [
    "nptest = np.array(train[\"WillWait\"])\n",
    "# nptest.sort()\n",
    "nptest"
   ]
  },
  {
   "cell_type": "code",
   "execution_count": 634,
   "metadata": {},
   "outputs": [],
   "source": [
    "YesNo_Mapping = {\n",
    "    \"Yes\": 1,\n",
    "    \"No\": 0,\n",
    "}\n",
    "\n",
    "train[\"Alt\"] = train[\"Alt\"].replace(YesNo_Mapping)\n",
    "train[\"Bar\"] = train[\"Bar\"].replace(YesNo_Mapping)\n",
    "train[\"Fri\"] = train[\"Fri\"].replace(YesNo_Mapping)\n",
    "train[\"Hun\"] = train[\"Hun\"].replace(YesNo_Mapping)\n",
    "train[\"Rain\"] = train[\"Rain\"].replace(YesNo_Mapping)\n",
    "train[\"Res\"] = train[\"Res\"].replace(YesNo_Mapping)\n",
    "train[\"WillWait\"] = train[\"WillWait\"].replace(YesNo_Mapping)\n",
    "\n",
    "Pat_Mapping = {\n",
    "    \"None\": 0,\n",
    "    \"Some\": 0.5,\n",
    "    \"Full\": 1,\n",
    "}\n",
    "\n",
    "train[\"Pat\"] = train[\"Pat\"].replace(Pat_Mapping)\n",
    "\n",
    "Price_Mapping = {\n",
    "    \"$\": 1,\n",
    "    \"$$\": 2,\n",
    "    \"$$$\": 3,\n",
    "}\n",
    "train[\"Price\"] = train[\"Price\"].replace(Price_Mapping)\n",
    "\n",
    "Type_Mapping = {\n",
    "    \"French\": 1,\n",
    "    \"Thai\": 2,\n",
    "    \"Burger\": 3,\n",
    "    \"Italian\": 4,\n",
    "}\n",
    "train[\"Type\"] = train[\"Type\"].replace(Type_Mapping)\n",
    "\n",
    "Est_Mapping = {\n",
    "    \"0-10\": 1,\n",
    "    \" 10-30\": 2,\n",
    "    \"30-60\": 3,\n",
    "    \">60\": 4,\n",
    "}\n",
    "train[\"Est\"] = train[\"Est\"].replace(Est_Mapping)"
   ]
  },
  {
   "cell_type": "code",
   "execution_count": 635,
   "metadata": {},
   "outputs": [
    {
     "name": "stdout",
     "output_type": "stream",
     "text": [
      "   Type  WillWait\n",
      "0     1       0.5\n",
      "1     2       0.5\n",
      "2     3       0.5\n",
      "3     4       0.5\n"
     ]
    }
   ],
   "source": [
    "# print(train[[\"Type\", \"WillWait\"]].groupby([\"Type\"], as_index=False).mean())\n",
    "GroupedByType = train[[\"Type\", \"WillWait\"]].groupby([\"Type\"], as_index=False).mean()\n",
    "\n",
    "print(GroupedByType)"
   ]
  },
  {
   "cell_type": "code",
   "execution_count": 636,
   "metadata": {},
   "outputs": [
    {
     "name": "stdout",
     "output_type": "stream",
     "text": [
      "   Pat  WillWait\n",
      "0  0.5  1.000000\n",
      "1  1.0  0.333333\n"
     ]
    }
   ],
   "source": [
    "GroupedByPat = train[[\"Pat\", \"WillWait\"]].groupby([\"Pat\"], as_index=False).mean()\n",
    "\n",
    "print(GroupedByPat)"
   ]
  },
  {
   "cell_type": "code",
   "execution_count": 637,
   "metadata": {},
   "outputs": [
    {
     "name": "stdout",
     "output_type": "stream",
     "text": [
      "    id  Alt  Bar  Fri  Hun  Pat  Price  Rain  Res  Type  Est  WillWait\n",
      "0    1    1    0    0    1  0.5      3     0    1     1    1         1\n",
      "1    2    1    0    0    1  1.0      1     0    0     2    3         0\n",
      "2    3    0    1    0    0  0.5      1     0    0     3    1         1\n",
      "3    4    1    0    1    1  1.0      1     1    0     2    2         1\n",
      "4    5    1    0    1    0  1.0      3     0    1     1    4         0\n",
      "5    6    0    1    0    1  0.5      2     1    1     4    1         1\n",
      "6    7    0    1    0    0  NaN      1     1    0     3    1         0\n",
      "7    8    0    0    0    1  0.5      2     1    1     2    1         1\n",
      "8    9    0    1    1    0  1.0      1     1    0     3    4         0\n",
      "9   10    1    1    1    1  1.0      3     0    1     4    2         0\n",
      "10  11    0    0    0    0  NaN      1     0    0     2    1         0\n",
      "11  12    1    1    1    1  1.0      1     0    0     3    3         1\n"
     ]
    }
   ],
   "source": [
    "print (train)"
   ]
  },
  {
   "cell_type": "code",
   "execution_count": 638,
   "metadata": {},
   "outputs": [],
   "source": [
    "class Node:\n",
    "    def __init__(self, attribute=None, value=None, label=None):\n",
    "        self.attribute = attribute  # Attribute at this node\n",
    "        self.value = value  # Value of the attribute (for non-leaf nodes)\n",
    "        self.label = label  # Class label (for leaf nodes)\n",
    "        self.children = {}  # Dictionary to store child nodes\n",
    "\n",
    "    def add_child(self, value, child_node):\n",
    "        self.children[value] = child_node"
   ]
  },
  {
   "cell_type": "code",
   "execution_count": 639,
   "metadata": {},
   "outputs": [],
   "source": [
    "def PLURALITY_VALUE(examples):\n",
    "    return np.argmax(np.bincount(examples[:, -1]))"
   ]
  },
  {
   "cell_type": "code",
   "execution_count": 640,
   "metadata": {},
   "outputs": [],
   "source": [
    "def find_attribute_index(attribute, attributes):\n",
    "    attribute_list = list(attributes)\n",
    "    index = attribute_list.index(attribute)\n",
    "    return index"
   ]
  },
  {
   "cell_type": "code",
   "execution_count": 641,
   "metadata": {},
   "outputs": [],
   "source": [
    "def select_best_attribute_entropy(attributes, examples):\n",
    "    best_attribute = None\n",
    "    min_entropy = np.inf\n",
    "\n",
    "    for attribute in attributes:\n",
    "        entropy = entropy_help(examples[:, find_attribute_index(attribute, attributes)])\n",
    "        if entropy < min_entropy:\n",
    "            best_attribute = attribute\n",
    "            min_entropy = entropy\n",
    "\n",
    "    return best_attribute\n",
    "\n",
    "\n",
    "def entropy_help(examples):\n",
    "    unique_values, counts = np.unique(examples, return_counts=True)\n",
    "    probabilities = counts / len(examples)\n",
    "    entropy = -np.sum(probabilities * np.log2(probabilities))\n",
    "    return entropy"
   ]
  },
  {
   "cell_type": "code",
   "execution_count": 643,
   "metadata": {},
   "outputs": [],
   "source": [
    "def select_best_attribute_GiniIndex(attributes, examples):\n",
    "    best_attribute = None\n",
    "    best_gini_index = float('inf')\n",
    "\n",
    "    for attribute in attributes:\n",
    "        attribute_values = np.unique(examples[:, find_attribute_index(attribute, attributes)])\n",
    "        attribute_gini_index = 0\n",
    "\n",
    "        for value in attribute_values:\n",
    "            value_examples = examples[examples[:, find_attribute_index(attribute, attributes)] == value]\n",
    "            value_prob = len(value_examples) / len(examples)\n",
    "            value_gini_index = GiniIndex_help(value_examples[:, -1])\n",
    "\n",
    "            attribute_gini_index += value_prob * value_gini_index\n",
    "\n",
    "        if attribute_gini_index < best_gini_index:\n",
    "            best_gini_index = attribute_gini_index\n",
    "            best_attribute = attribute\n",
    "\n",
    "    return best_attribute\n",
    "\n",
    "def GiniIndex_help(labels):\n",
    "    label_counts = np.bincount(labels)\n",
    "    label_probs = label_counts / len(labels)\n",
    "    gini_index = 1 - np.sum(label_probs ** 2)\n",
    "    return gini_index"
   ]
  },
  {
   "cell_type": "code",
   "execution_count": 650,
   "metadata": {},
   "outputs": [],
   "source": [
    "def LEARN_DECISION_TREE(examples, attributes, parent_examples):\n",
    "    if len(examples) == 0:\n",
    "        return Node(label=PLURALITY_VALUE(parent_examples))\n",
    "    \n",
    "    elif np.all(examples[:, -1] == examples[0, -1]):\n",
    "        return Node(label=examples[0, -1])\n",
    "    \n",
    "    elif len(attributes) == 0:\n",
    "        return Node(label=PLURALITY_VALUE(examples))\n",
    "    \n",
    "    else:\n",
    "        # A = select_best_attribute_GiniIndex(attributes, examples)\n",
    "        A = select_best_attribute_entropy(attributes, examples)\n",
    "        print(A) \n",
    "        A_index = find_attribute_index(A, examples)\n",
    "        tree = Node(attribute=A)\n",
    "        \n",
    "        for value in np.unique(examples[:, A_index]):\n",
    "            exs = examples[examples[:, A_index] == value]\n",
    "            subtree = LEARN_DECISION_TREE(exs, attributes - {A}, examples)\n",
    "            tree.add_child(value, subtree)\n",
    "        \n",
    "        return tree"
   ]
  },
  {
   "cell_type": "code",
   "execution_count": 651,
   "metadata": {},
   "outputs": [],
   "source": [
    "def print_tree(node, indent=''):\n",
    "    if node.label is not None:\n",
    "        print(indent + \"Label:\", node.label)\n",
    "    else:\n",
    "        print(indent + \"Attribute:\", node.attribute)\n",
    "        for value, child_node in node.children.items():\n",
    "            print(indent + \"Value:\", value)\n",
    "            print_tree(child_node, indent + \"  \")"
   ]
  },
  {
   "cell_type": "code",
   "execution_count": 652,
   "metadata": {},
   "outputs": [
    {
     "name": "stdout",
     "output_type": "stream",
     "text": [
      "Pat\n"
     ]
    },
    {
     "ename": "ValueError",
     "evalue": "The truth value of an array with more than one element is ambiguous. Use a.any() or a.all()",
     "output_type": "error",
     "traceback": [
      "\u001b[1;31m---------------------------------------------------------------------------\u001b[0m",
      "\u001b[1;31mValueError\u001b[0m                                Traceback (most recent call last)",
      "\u001b[1;32md:\\Bahareh\\7\\Files\\Artificial Intelligence\\Git\\Artificial-Intelligence\\Projects\\1 - Decision Tree\\DecisionTree.ipynb Cell 16\u001b[0m line \u001b[0;36m3\n\u001b[0;32m      <a href='vscode-notebook-cell:/d%3A/Bahareh/7/Files/Artificial%20Intelligence/Git/Artificial-Intelligence/Projects/1%20-%20Decision%20Tree/DecisionTree.ipynb#X32sZmlsZQ%3D%3D?line=0'>1</a>\u001b[0m train_data \u001b[39m=\u001b[39m np\u001b[39m.\u001b[39marray(train\u001b[39m.\u001b[39mhead(\u001b[39m10\u001b[39m))\n\u001b[0;32m      <a href='vscode-notebook-cell:/d%3A/Bahareh/7/Files/Artificial%20Intelligence/Git/Artificial-Intelligence/Projects/1%20-%20Decision%20Tree/DecisionTree.ipynb#X32sZmlsZQ%3D%3D?line=1'>2</a>\u001b[0m attributes \u001b[39m=\u001b[39m {\u001b[39m'\u001b[39m\u001b[39mAlt\u001b[39m\u001b[39m'\u001b[39m, \u001b[39m'\u001b[39m\u001b[39mBar\u001b[39m\u001b[39m'\u001b[39m, \u001b[39m'\u001b[39m\u001b[39mFri\u001b[39m\u001b[39m'\u001b[39m, \u001b[39m'\u001b[39m\u001b[39mHun\u001b[39m\u001b[39m'\u001b[39m, \u001b[39m'\u001b[39m\u001b[39mPat\u001b[39m\u001b[39m'\u001b[39m, \u001b[39m'\u001b[39m\u001b[39mPrice\u001b[39m\u001b[39m'\u001b[39m, \u001b[39m'\u001b[39m\u001b[39mRain\u001b[39m\u001b[39m'\u001b[39m, \u001b[39m'\u001b[39m\u001b[39mRes\u001b[39m\u001b[39m'\u001b[39m, \u001b[39m'\u001b[39m\u001b[39mType\u001b[39m\u001b[39m'\u001b[39m, \u001b[39m'\u001b[39m\u001b[39mEst\u001b[39m\u001b[39m'\u001b[39m}\n\u001b[1;32m----> <a href='vscode-notebook-cell:/d%3A/Bahareh/7/Files/Artificial%20Intelligence/Git/Artificial-Intelligence/Projects/1%20-%20Decision%20Tree/DecisionTree.ipynb#X32sZmlsZQ%3D%3D?line=2'>3</a>\u001b[0m DT \u001b[39m=\u001b[39m LEARN_DECISION_TREE(train_data, attributes, np\u001b[39m.\u001b[39;49marray([]))\n\u001b[0;32m      <a href='vscode-notebook-cell:/d%3A/Bahareh/7/Files/Artificial%20Intelligence/Git/Artificial-Intelligence/Projects/1%20-%20Decision%20Tree/DecisionTree.ipynb#X32sZmlsZQ%3D%3D?line=4'>5</a>\u001b[0m \u001b[39mprint\u001b[39m(\u001b[39m\"\u001b[39m\u001b[39mDecision Tree:\u001b[39m\u001b[39m\"\u001b[39m)\n\u001b[0;32m      <a href='vscode-notebook-cell:/d%3A/Bahareh/7/Files/Artificial%20Intelligence/Git/Artificial-Intelligence/Projects/1%20-%20Decision%20Tree/DecisionTree.ipynb#X32sZmlsZQ%3D%3D?line=5'>6</a>\u001b[0m print_tree(DT)\n",
      "\u001b[1;32md:\\Bahareh\\7\\Files\\Artificial Intelligence\\Git\\Artificial-Intelligence\\Projects\\1 - Decision Tree\\DecisionTree.ipynb Cell 16\u001b[0m line \u001b[0;36m1\n\u001b[0;32m     <a href='vscode-notebook-cell:/d%3A/Bahareh/7/Files/Artificial%20Intelligence/Git/Artificial-Intelligence/Projects/1%20-%20Decision%20Tree/DecisionTree.ipynb#X32sZmlsZQ%3D%3D?line=12'>13</a>\u001b[0m A \u001b[39m=\u001b[39m select_best_attribute_entropy(attributes, examples)\n\u001b[0;32m     <a href='vscode-notebook-cell:/d%3A/Bahareh/7/Files/Artificial%20Intelligence/Git/Artificial-Intelligence/Projects/1%20-%20Decision%20Tree/DecisionTree.ipynb#X32sZmlsZQ%3D%3D?line=13'>14</a>\u001b[0m \u001b[39mprint\u001b[39m(A) \n\u001b[1;32m---> <a href='vscode-notebook-cell:/d%3A/Bahareh/7/Files/Artificial%20Intelligence/Git/Artificial-Intelligence/Projects/1%20-%20Decision%20Tree/DecisionTree.ipynb#X32sZmlsZQ%3D%3D?line=14'>15</a>\u001b[0m A_index \u001b[39m=\u001b[39m find_attribute_index(A, examples)\n\u001b[0;32m     <a href='vscode-notebook-cell:/d%3A/Bahareh/7/Files/Artificial%20Intelligence/Git/Artificial-Intelligence/Projects/1%20-%20Decision%20Tree/DecisionTree.ipynb#X32sZmlsZQ%3D%3D?line=15'>16</a>\u001b[0m tree \u001b[39m=\u001b[39m Node(attribute\u001b[39m=\u001b[39mA)\n\u001b[0;32m     <a href='vscode-notebook-cell:/d%3A/Bahareh/7/Files/Artificial%20Intelligence/Git/Artificial-Intelligence/Projects/1%20-%20Decision%20Tree/DecisionTree.ipynb#X32sZmlsZQ%3D%3D?line=17'>18</a>\u001b[0m \u001b[39mfor\u001b[39;00m value \u001b[39min\u001b[39;00m np\u001b[39m.\u001b[39munique(examples[:, A_index]):\n",
      "\u001b[1;32md:\\Bahareh\\7\\Files\\Artificial Intelligence\\Git\\Artificial-Intelligence\\Projects\\1 - Decision Tree\\DecisionTree.ipynb Cell 16\u001b[0m line \u001b[0;36m3\n\u001b[0;32m      <a href='vscode-notebook-cell:/d%3A/Bahareh/7/Files/Artificial%20Intelligence/Git/Artificial-Intelligence/Projects/1%20-%20Decision%20Tree/DecisionTree.ipynb#X32sZmlsZQ%3D%3D?line=0'>1</a>\u001b[0m \u001b[39mdef\u001b[39;00m \u001b[39mfind_attribute_index\u001b[39m(attribute, attributes):\n\u001b[0;32m      <a href='vscode-notebook-cell:/d%3A/Bahareh/7/Files/Artificial%20Intelligence/Git/Artificial-Intelligence/Projects/1%20-%20Decision%20Tree/DecisionTree.ipynb#X32sZmlsZQ%3D%3D?line=1'>2</a>\u001b[0m     attribute_list \u001b[39m=\u001b[39m \u001b[39mlist\u001b[39m(attributes)\n\u001b[1;32m----> <a href='vscode-notebook-cell:/d%3A/Bahareh/7/Files/Artificial%20Intelligence/Git/Artificial-Intelligence/Projects/1%20-%20Decision%20Tree/DecisionTree.ipynb#X32sZmlsZQ%3D%3D?line=2'>3</a>\u001b[0m     index \u001b[39m=\u001b[39m attribute_list\u001b[39m.\u001b[39mindex(attribute)\n\u001b[0;32m      <a href='vscode-notebook-cell:/d%3A/Bahareh/7/Files/Artificial%20Intelligence/Git/Artificial-Intelligence/Projects/1%20-%20Decision%20Tree/DecisionTree.ipynb#X32sZmlsZQ%3D%3D?line=3'>4</a>\u001b[0m     \u001b[39mreturn\u001b[39;00m index\n",
      "\u001b[1;31mValueError\u001b[0m: The truth value of an array with more than one element is ambiguous. Use a.any() or a.all()"
     ]
    }
   ],
   "source": [
    "train_data = np.array(train.head(10))\n",
    "attributes = {'Alt', 'Bar', 'Fri', 'Hun', 'Pat', 'Price', 'Rain', 'Res', 'Type', 'Est'}\n",
    "DT = LEARN_DECISION_TREE(train_data, attributes, np.array([]))\n",
    "\n",
    "print(\"Decision Tree:\")\n",
    "print_tree(DT)"
   ]
  }
 ],
 "metadata": {
  "kernelspec": {
   "display_name": "Python 3",
   "language": "python",
   "name": "python3"
  },
  "language_info": {
   "codemirror_mode": {
    "name": "ipython",
    "version": 3
   },
   "file_extension": ".py",
   "mimetype": "text/x-python",
   "name": "python",
   "nbconvert_exporter": "python",
   "pygments_lexer": "ipython3",
   "version": "3.11.0"
  }
 },
 "nbformat": 4,
 "nbformat_minor": 2
}
