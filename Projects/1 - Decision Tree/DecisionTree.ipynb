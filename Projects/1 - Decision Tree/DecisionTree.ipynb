{
 "cells": [
  {
   "cell_type": "code",
   "execution_count": 608,
   "metadata": {},
   "outputs": [],
   "source": [
    "import numpy as np\n",
    "import pandas as pd"
   ]
  },
  {
   "cell_type": "code",
   "execution_count": 609,
   "metadata": {},
   "outputs": [
    {
     "name": "stdout",
     "output_type": "stream",
     "text": [
      "<class 'pandas.core.frame.DataFrame'>\n",
      "RangeIndex: 12 entries, 0 to 11\n",
      "Data columns (total 12 columns):\n",
      " #   Column    Non-Null Count  Dtype \n",
      "---  ------    --------------  ----- \n",
      " 0   id        12 non-null     int64 \n",
      " 1   Alt       12 non-null     object\n",
      " 2   Bar       12 non-null     object\n",
      " 3   Fri       12 non-null     object\n",
      " 4   Hun       12 non-null     object\n",
      " 5   Pat       10 non-null     object\n",
      " 6   Price     12 non-null     object\n",
      " 7   Rain      12 non-null     object\n",
      " 8   Res       12 non-null     object\n",
      " 9   Type      12 non-null     object\n",
      " 10  Est       12 non-null     object\n",
      " 11  WillWait  12 non-null     object\n",
      "dtypes: int64(1), object(11)\n",
      "memory usage: 1.2+ KB\n",
      "None\n"
     ]
    }
   ],
   "source": [
    "train = pd.read_csv('Restaurant.csv')\n",
    "print (train.info())"
   ]
  },
  {
   "cell_type": "code",
   "execution_count": 610,
   "metadata": {},
   "outputs": [
    {
     "name": "stdout",
     "output_type": "stream",
     "text": [
      "   id  Alt  Bar  Fri  Hun   Pat Price Rain  Res     Type     Est WillWait\n",
      "0   1  Yes   No   No  Yes  Some   $$$   No  Yes   French    0-10      Yes\n",
      "1   2  Yes   No   No  Yes  Full     $   No   No     Thai   30-60       No\n",
      "2   3   No  Yes   No   No  Some     $   No   No   Burger    0-10      Yes\n",
      "3   4  Yes   No  Yes  Yes  Full     $  Yes   No     Thai   10-30      Yes\n",
      "4   5  Yes   No  Yes   No  Full   $$$   No  Yes   French     >60       No\n",
      "5   6   No  Yes   No  Yes  Some    $$  Yes  Yes  Italian    0-10      Yes\n",
      "6   7   No  Yes   No   No   NaN     $  Yes   No   Burger    0-10       No\n",
      "7   8   No   No   No  Yes  Some    $$  Yes  Yes     Thai    0-10      Yes\n",
      "8   9   No  Yes  Yes   No  Full     $  Yes   No   Burger     >60       No\n",
      "9  10  Yes  Yes  Yes  Yes  Full   $$$   No  Yes  Italian   10-30       No\n"
     ]
    }
   ],
   "source": [
    "print(train.head(10))"
   ]
  },
  {
   "cell_type": "code",
   "execution_count": 611,
   "metadata": {},
   "outputs": [
    {
     "data": {
      "text/plain": [
       "array(['Yes', 'No', 'Yes', 'Yes', 'No', 'Yes', 'No', 'Yes', 'No', 'No',\n",
       "       'No', 'Yes'], dtype=object)"
      ]
     },
     "execution_count": 611,
     "metadata": {},
     "output_type": "execute_result"
    }
   ],
   "source": [
    "nptest = np.array(train[\"WillWait\"])\n",
    "# nptest.sort()\n",
    "nptest"
   ]
  },
  {
   "cell_type": "code",
   "execution_count": 612,
   "metadata": {},
   "outputs": [],
   "source": [
    "YesNo_Mapping = {\n",
    "    \"Yes\": 1,\n",
    "    \"No\": 0,\n",
    "}\n",
    "\n",
    "train[\"Alt\"] = train[\"Alt\"].replace(YesNo_Mapping)\n",
    "train[\"Bar\"] = train[\"Bar\"].replace(YesNo_Mapping)\n",
    "train[\"Fri\"] = train[\"Fri\"].replace(YesNo_Mapping)\n",
    "train[\"Hun\"] = train[\"Hun\"].replace(YesNo_Mapping)\n",
    "train[\"Rain\"] = train[\"Rain\"].replace(YesNo_Mapping)\n",
    "train[\"Res\"] = train[\"Res\"].replace(YesNo_Mapping)\n",
    "train[\"WillWait\"] = train[\"WillWait\"].replace(YesNo_Mapping)\n",
    "\n",
    "Pat_Mapping = {\n",
    "    \"None\": 0,\n",
    "    \"Some\": 0.5,\n",
    "    \"Full\": 1,\n",
    "}\n",
    "\n",
    "train[\"Pat\"] = train[\"Pat\"].replace(Pat_Mapping)\n",
    "\n",
    "Price_Mapping = {\n",
    "    \"$\": 1,\n",
    "    \"$$\": 2,\n",
    "    \"$$$\": 3,\n",
    "}\n",
    "train[\"Price\"] = train[\"Price\"].replace(Price_Mapping)\n",
    "\n",
    "Type_Mapping = {\n",
    "    \"French\": 1,\n",
    "    \"Thai\": 2,\n",
    "    \"Burger\": 3,\n",
    "    \"Italian\": 4,\n",
    "}\n",
    "train[\"Type\"] = train[\"Type\"].replace(Type_Mapping)"
   ]
  },
  {
   "cell_type": "code",
   "execution_count": 613,
   "metadata": {},
   "outputs": [
    {
     "name": "stdout",
     "output_type": "stream",
     "text": [
      "   Type  WillWait\n",
      "0     1       0.5\n",
      "1     2       0.5\n",
      "2     3       0.5\n",
      "3     4       0.5\n"
     ]
    }
   ],
   "source": [
    "# print(train[[\"Type\", \"WillWait\"]].groupby([\"Type\"], as_index=False).mean())\n",
    "GroupedByType = train[[\"Type\", \"WillWait\"]].groupby([\"Type\"], as_index=False).mean()\n",
    "\n",
    "print(GroupedByType)"
   ]
  },
  {
   "cell_type": "code",
   "execution_count": 614,
   "metadata": {},
   "outputs": [
    {
     "name": "stdout",
     "output_type": "stream",
     "text": [
      "   Pat  WillWait\n",
      "0  0.5  1.000000\n",
      "1  1.0  0.333333\n"
     ]
    }
   ],
   "source": [
    "GroupedByPat = train[[\"Pat\", \"WillWait\"]].groupby([\"Pat\"], as_index=False).mean()\n",
    "\n",
    "print(GroupedByPat)"
   ]
  },
  {
   "cell_type": "code",
   "execution_count": 615,
   "metadata": {},
   "outputs": [
    {
     "name": "stdout",
     "output_type": "stream",
     "text": [
      "    id  Alt  Bar  Fri  Hun  Pat  Price  Rain  Res  Type     Est  WillWait\n",
      "0    1    1    0    0    1  0.5      3     0    1     1    0-10         1\n",
      "1    2    1    0    0    1  1.0      1     0    0     2   30-60         0\n",
      "2    3    0    1    0    0  0.5      1     0    0     3    0-10         1\n",
      "3    4    1    0    1    1  1.0      1     1    0     2   10-30         1\n",
      "4    5    1    0    1    0  1.0      3     0    1     1     >60         0\n",
      "5    6    0    1    0    1  0.5      2     1    1     4    0-10         1\n",
      "6    7    0    1    0    0  NaN      1     1    0     3    0-10         0\n",
      "7    8    0    0    0    1  0.5      2     1    1     2    0-10         1\n",
      "8    9    0    1    1    0  1.0      1     1    0     3     >60         0\n",
      "9   10    1    1    1    1  1.0      3     0    1     4   10-30         0\n",
      "10  11    0    0    0    0  NaN      1     0    0     2    0-10         0\n",
      "11  12    1    1    1    1  1.0      1     0    0     3   30-60         1\n"
     ]
    }
   ],
   "source": [
    "print (train)"
   ]
  },
  {
   "cell_type": "code",
   "execution_count": 616,
   "metadata": {},
   "outputs": [],
   "source": [
    "def PLURALITY_VALUE(examples):\n",
    "    return np.argmax(np.bincount(examples[:, -1]))\n",
    "\n",
    "# examples = np.array(train)\n",
    "# print (PLURALITY_VALUE(examples))"
   ]
  },
  {
   "cell_type": "code",
   "execution_count": 617,
   "metadata": {},
   "outputs": [],
   "source": [
    "# def find_attribute_index (attribute, examples):\n",
    "#     column_names = examples[0]\n",
    "#     index = np.where(column_names == attribute)[0]\n",
    "#     return index\n",
    "\n",
    "def find_attribute_index (attribute, attributes):\n",
    "    # column_names = examples[0]\n",
    "    index = np.where(attributes == attribute)[0]\n",
    "    return index"
   ]
  },
  {
   "cell_type": "code",
   "execution_count": 618,
   "metadata": {},
   "outputs": [],
   "source": [
    "# Selects the best attribute to use for splitting the data based on entropy\n",
    "# attributes: A set containing the attributes to choose from\n",
    "# examples: A NumPy array containing the examples\n",
    "\n",
    "def select_best_attribute_entropy (attributes, examples):\n",
    "    best_attribute = None\n",
    "    # best_entropy = float('inf')\n",
    "    min_entropy = np.inf\n",
    "    \n",
    "    for attribute in attributes:\n",
    "        entropy = entropy_help(examples[:, find_attribute_index(attribute, attributes)])\n",
    "        if entropy < min_entropy:\n",
    "            best_attribute = attribute\n",
    "            min_entropy = entropy\n",
    "    \n",
    "    return best_attribute\n",
    "\n",
    "\n",
    "# Calculates the entropy of the given examples.\n",
    "# examples: A NumPy array containing the examples\n",
    "def entropy_help(examples):\n",
    "    unique_values, counts = np.unique(examples, return_counts=True)\n",
    "    probabilities = counts / len(examples)\n",
    "    entropy = -np.sum(probabilities * np.log2(probabilities))\n",
    "    return entropy\n",
    "\n",
    "# def calculate_entropy(labels):\n",
    "#     label_counts = np.bincount(labels)\n",
    "#     label_probs = label_counts / len(labels)\n",
    "#     entropy = -np.sum(label_probs * np.log2(label_probs + 1e-10))  # Add small value to avoid log(0)\n",
    "#     return entropy"
   ]
  },
  {
   "cell_type": "code",
   "execution_count": 619,
   "metadata": {},
   "outputs": [],
   "source": [
    "def select_best_attribute_GiniIndex (attributes, examples):\n",
    "    best_attribute = None\n",
    "    best_gini_index = float('inf')\n",
    "    \n",
    "    for attribute in attributes:\n",
    "        # examples = np.array(examples)\n",
    "        attribute_values = np.unique(examples[:, find_attribute_index(attribute, examples)])\n",
    "        attribute_gini_index = 0\n",
    "        \n",
    "        for value in attribute_values:\n",
    "            value_examples = examples[examples[:, attribute] == value]\n",
    "            value_prob = len(value_examples) / len(examples)\n",
    "            value_gini_index = GiniIndex_help(value_examples[:, -1])\n",
    "            \n",
    "            attribute_gini_index += value_prob * value_gini_index\n",
    "        \n",
    "        if attribute_gini_index < best_gini_index:\n",
    "            best_gini_index = attribute_gini_index\n",
    "            best_attribute = attribute\n",
    "    \n",
    "    return best_attribute\n",
    "\n",
    "def GiniIndex_help(labels):\n",
    "    label_counts = np.bincount(labels)\n",
    "    label_probs = label_counts / len(labels)\n",
    "    gini_index = 1 - np.sum(label_probs ** 2)\n",
    "    return gini_index"
   ]
  },
  {
   "cell_type": "code",
   "execution_count": 620,
   "metadata": {},
   "outputs": [],
   "source": [
    "# Learns a decision tree from the given examples and attributes\n",
    "# examples: A numpy arr containing the dataset\n",
    "# attributes: A set containing the attributes\n",
    "# parent_examples: A numpy arr containing the parent examples\n",
    "# returns: A decision tree as a py dictionary\n",
    "\n",
    "def LEARN_DECISION_TREE (examples, attributes, parent_examples):\n",
    "    if len(examples) == 0:\n",
    "        return PLURALITY_VALUE(parent_examples)\n",
    "    \n",
    "    elif np.all(examples[:, -1] == examples[0, -1]):\n",
    "        return examples[0, -1]\n",
    "    \n",
    "    elif len(attributes) == 0:\n",
    "        return PLURALITY_VALUE(examples)\n",
    "    \n",
    "    else:\n",
    "        # A = select_best_attribute_entropy(attributes, examples)\n",
    "        A = select_best_attribute_GiniIndex(attributes, examples)\n",
    "        # examples_slice = np.array(examples[:, A])\n",
    "        A_index = find_attribute_index(A, attributes)\n",
    "        attribute_values = np.unique(examples[:,A_index])\n",
    "        tree = {A: {}}\n",
    "        for value in np.unique(examples[:, A_index]):\n",
    "            exs = examples[examples[:, A] == value]\n",
    "            subtree = LEARN_DECISION_TREE(exs, attributes - {A}, examples)\n",
    "            tree[A][value] = subtree\n",
    "        return tree"
   ]
  },
  {
   "cell_type": "code",
   "execution_count": 621,
   "metadata": {},
   "outputs": [],
   "source": [
    "# def PRINT_DECISION_TREE(tree, indent=''):\n",
    "#     attribute = next(iter(tree))\n",
    "#     print(indent + attribute + ':')\n",
    "\n",
    "#     subtree = tree[attribute]\n",
    "#     for value in subtree:\n",
    "#         if isinstance(subtree[value], dict):\n",
    "#             print(indent + ' ' + value + ' =>')\n",
    "#             PRINT_DECISION_TREE(subtree[value, indent + '   '])\n",
    "#         else:\n",
    "#             print (indent + '   ' + value + ' => ' + subtree[value])\n",
    "\n",
    "import json\n",
    "\n",
    "def print_decision_tree(tree):\n",
    "  \"\"\"\n",
    "  Prints the decision tree to the console.\n",
    "\n",
    "  Args:\n",
    "    tree: A decision tree represented as a Python dictionary.\n",
    "  \"\"\"\n",
    "\n",
    "  print(json.dumps(tree, indent=4))\n",
    "\n",
    "\n",
    "\n",
    "import pydot\n",
    "\n",
    "def visualize_decision_tree(tree, filename='decision_tree.png'):\n",
    "  \"\"\"\n",
    "  Visualizes the decision tree using PyDot.\n",
    "\n",
    "  Args:\n",
    "    tree: A decision tree represented as a Python dictionary.\n",
    "    filename: The filename of the output PNG image.\n",
    "  \"\"\"\n",
    "\n",
    "  def create_subgraph(node):\n",
    "    node_id = pydot.Node(json.dumps(node))\n",
    "    subgraph = dot.subgraph(node_id)\n",
    "\n",
    "    for child, value in node.items():\n",
    "      if isinstance(value, dict):\n",
    "        create_subgraph(child, subgraph)\n",
    "      else:\n",
    "        edge = pydot.Edge(node_id, value)\n",
    "        subgraph.add_edge(edge)\n",
    "\n",
    "    return subgraph\n",
    "\n",
    "  dot = pydot.Dot()\n",
    "\n",
    "  root_subgraph = create_subgraph(tree)\n",
    "  dot.add_subgraph(root_subgraph)\n",
    "\n",
    "  dot.write_png(filename)"
   ]
  },
  {
   "cell_type": "code",
   "execution_count": 622,
   "metadata": {},
   "outputs": [
    {
     "name": "stderr",
     "output_type": "stream",
     "text": [
      "C:\\Users\\KavousiNejad\\AppData\\Local\\Temp\\ipykernel_18552\\804085739.py:8: DeprecationWarning: Calling nonzero on 0d arrays is deprecated, as it behaves surprisingly. Use `atleast_1d(cond).nonzero()` if the old behavior was intended. If the context of this warning is of the form `arr[nonzero(cond)]`, just use `arr[cond]`.\n",
      "  index = np.where(attributes == attribute)[0]\n"
     ]
    }
   ],
   "source": [
    "train_data = np.array(train.head(10))\n",
    "attributes = {'Alt', 'Bar', 'Fri', 'Hun', 'Pat', 'Price', 'Rain', 'Res', 'Type', 'Est'}\n",
    "DT = LEARN_DECISION_TREE(train_data, attributes, np.array([]))\n",
    "# PRINT_DECISION_TREE(DT)\n",
    "# print_decision_tree(DT)\n",
    "# visualize_decision_tree(DT)"
   ]
  },
  {
   "cell_type": "code",
   "execution_count": 625,
   "metadata": {},
   "outputs": [
    {
     "name": "stderr",
     "output_type": "stream",
     "text": [
      "C:\\Users\\KavousiNejad\\AppData\\Local\\Temp\\ipykernel_18552\\804085739.py:8: DeprecationWarning: Calling nonzero on 0d arrays is deprecated, as it behaves surprisingly. Use `atleast_1d(cond).nonzero()` if the old behavior was intended. If the context of this warning is of the form `arr[nonzero(cond)]`, just use `arr[cond]`.\n",
      "  index = np.where(attributes == attribute)[0]\n"
     ]
    },
    {
     "ename": "TypeError",
     "evalue": "unhashable type: 'numpy.ndarray'",
     "output_type": "error",
     "traceback": [
      "\u001b[1;31m---------------------------------------------------------------------------\u001b[0m",
      "\u001b[1;31mTypeError\u001b[0m                                 Traceback (most recent call last)",
      "\u001b[1;32md:\\Bahareh\\7\\Files\\Artificial Intelligence\\Git\\Artificial-Intelligence\\Projects\\1 - Decision Tree\\DecisionTree.ipynb Cell 16\u001b[0m line \u001b[0;36m2\n\u001b[0;32m     <a href='vscode-notebook-cell:/d%3A/Bahareh/7/Files/Artificial%20Intelligence/Git/Artificial-Intelligence/Projects/1%20-%20Decision%20Tree/DecisionTree.ipynb#X26sZmlsZQ%3D%3D?line=21'>22</a>\u001b[0m predictions \u001b[39m=\u001b[39m []\n\u001b[0;32m     <a href='vscode-notebook-cell:/d%3A/Bahareh/7/Files/Artificial%20Intelligence/Git/Artificial-Intelligence/Projects/1%20-%20Decision%20Tree/DecisionTree.ipynb#X26sZmlsZQ%3D%3D?line=22'>23</a>\u001b[0m \u001b[39mfor\u001b[39;00m example \u001b[39min\u001b[39;00m test_data:\n\u001b[1;32m---> <a href='vscode-notebook-cell:/d%3A/Bahareh/7/Files/Artificial%20Intelligence/Git/Artificial-Intelligence/Projects/1%20-%20Decision%20Tree/DecisionTree.ipynb#X26sZmlsZQ%3D%3D?line=23'>24</a>\u001b[0m     prediction \u001b[39m=\u001b[39m traverse(DT, example)\n\u001b[0;32m     <a href='vscode-notebook-cell:/d%3A/Bahareh/7/Files/Artificial%20Intelligence/Git/Artificial-Intelligence/Projects/1%20-%20Decision%20Tree/DecisionTree.ipynb#X26sZmlsZQ%3D%3D?line=24'>25</a>\u001b[0m     predictions\u001b[39m.\u001b[39mappend(prediction)\n\u001b[0;32m     <a href='vscode-notebook-cell:/d%3A/Bahareh/7/Files/Artificial%20Intelligence/Git/Artificial-Intelligence/Projects/1%20-%20Decision%20Tree/DecisionTree.ipynb#X26sZmlsZQ%3D%3D?line=26'>27</a>\u001b[0m \u001b[39m# Calculate the accuracy of the decision tree\u001b[39;00m\n",
      "\u001b[1;32md:\\Bahareh\\7\\Files\\Artificial Intelligence\\Git\\Artificial-Intelligence\\Projects\\1 - Decision Tree\\DecisionTree.ipynb Cell 16\u001b[0m line \u001b[0;36m7\n\u001b[0;32m      <a href='vscode-notebook-cell:/d%3A/Bahareh/7/Files/Artificial%20Intelligence/Git/Artificial-Intelligence/Projects/1%20-%20Decision%20Tree/DecisionTree.ipynb#X26sZmlsZQ%3D%3D?line=4'>5</a>\u001b[0m attribute \u001b[39m=\u001b[39m \u001b[39mlist\u001b[39m(tree\u001b[39m.\u001b[39mkeys())[\u001b[39m0\u001b[39m]\n\u001b[0;32m      <a href='vscode-notebook-cell:/d%3A/Bahareh/7/Files/Artificial%20Intelligence/Git/Artificial-Intelligence/Projects/1%20-%20Decision%20Tree/DecisionTree.ipynb#X26sZmlsZQ%3D%3D?line=5'>6</a>\u001b[0m value \u001b[39m=\u001b[39m example[attribute]\n\u001b[1;32m----> <a href='vscode-notebook-cell:/d%3A/Bahareh/7/Files/Artificial%20Intelligence/Git/Artificial-Intelligence/Projects/1%20-%20Decision%20Tree/DecisionTree.ipynb#X26sZmlsZQ%3D%3D?line=6'>7</a>\u001b[0m subtree \u001b[39m=\u001b[39m \u001b[39mtuple\u001b[39m(tree[find_attribute_index(attribute, attributes)][value])\n\u001b[0;32m      <a href='vscode-notebook-cell:/d%3A/Bahareh/7/Files/Artificial%20Intelligence/Git/Artificial-Intelligence/Projects/1%20-%20Decision%20Tree/DecisionTree.ipynb#X26sZmlsZQ%3D%3D?line=8'>9</a>\u001b[0m \u001b[39mif\u001b[39;00m subtree \u001b[39mis\u001b[39;00m \u001b[39mNone\u001b[39;00m:\n\u001b[0;32m     <a href='vscode-notebook-cell:/d%3A/Bahareh/7/Files/Artificial%20Intelligence/Git/Artificial-Intelligence/Projects/1%20-%20Decision%20Tree/DecisionTree.ipynb#X26sZmlsZQ%3D%3D?line=9'>10</a>\u001b[0m     \u001b[39mreturn\u001b[39;00m \u001b[39mNone\u001b[39;00m\n",
      "\u001b[1;31mTypeError\u001b[0m: unhashable type: 'numpy.ndarray'"
     ]
    }
   ],
   "source": [
    "def traverse(tree, example):\n",
    "    if not tree:\n",
    "        return None\n",
    "\n",
    "    attribute = list(tree.keys())[0]\n",
    "    value = example[attribute]\n",
    "    subtree = tree[find_attribute_index(attribute, attributes)][value]\n",
    "\n",
    "    if subtree is None:\n",
    "        return None\n",
    "\n",
    "    return traverse(subtree, example)\n",
    "\n",
    "\n",
    "# Create a new example set\n",
    "test_data = np.array([\n",
    "    {'Alt': 1, 'Bar': 0, 'Fri': 1, 'Hun': 0, 'Pat': 0.5, 'Price': 1, 'Rain': 0, 'Res': 0, 'Type': 1, 'Est': 0-10},\n",
    "    {'Alt': 0, 'Bar': 1, 'Fri': 0, 'Hun': 1, 'Pat': 0.5, 'Price': 3, 'Rain': 1, 'Res': 0, 'Type': 2, 'Est': 10-30},\n",
    "])\n",
    "\n",
    "# Predict the target value for each example\n",
    "predictions = []\n",
    "for example in test_data:\n",
    "    prediction = traverse(DT, example)\n",
    "    predictions.append(prediction)\n",
    "\n",
    "# Calculate the accuracy of the decision tree\n",
    "accuracy = np.sum(predictions == 1) / len(test_data)\n",
    "\n",
    "# Print the accuracy\n",
    "print(\"Accuracy:\", accuracy)\n",
    "\n"
   ]
  },
  {
   "cell_type": "code",
   "execution_count": null,
   "metadata": {},
   "outputs": [],
   "source": [
    "def Test_Decision_Tree (tree, test_data):\n",
    "    predictions = []\n",
    "    for example in test_data:\n",
    "        prediction = PREDICT(tree, example, test_data)\n",
    "        predictions.append(prediction)\n",
    "    return predictions\n",
    "\n",
    "def PREDICT(tree, example, examples):\n",
    "    attribute = next(iter(tree))\n",
    "    print (\"Checking attribute: \" + attribute)\n",
    "    attribute_index = find_attribute_index(attribute, attributes)\n",
    "    value = tuple(example[attribute_index])\n",
    "    print (\"Values is: \")\n",
    "    print (value)\n",
    "    print (\"tree[attribute] is: \" )\n",
    "    print (tree[attribute])\n",
    "    if value in tree[attribute]:\n",
    "        subtree = tree[attribute][value]\n",
    "        if isinstance(subtree, dict):\n",
    "            prediction = PREDICT(subtree, example, examples)\n",
    "        else:\n",
    "            prediction = subtree\n",
    "    else:\n",
    "        # Missing Values ?\n",
    "        prediction = 20\n",
    "    return prediction"
   ]
  },
  {
   "cell_type": "code",
   "execution_count": null,
   "metadata": {},
   "outputs": [],
   "source": [
    "test_data = np.array(train.tail(2))[:, :-1]\n",
    "print (test_data)\n",
    "predictions = Test_Decision_Tree(DT, test_data)\n",
    "print(predictions)"
   ]
  }
 ],
 "metadata": {
  "kernelspec": {
   "display_name": "Python 3",
   "language": "python",
   "name": "python3"
  },
  "language_info": {
   "codemirror_mode": {
    "name": "ipython",
    "version": 3
   },
   "file_extension": ".py",
   "mimetype": "text/x-python",
   "name": "python",
   "nbconvert_exporter": "python",
   "pygments_lexer": "ipython3",
   "version": "3.11.0"
  }
 },
 "nbformat": 4,
 "nbformat_minor": 2
}
