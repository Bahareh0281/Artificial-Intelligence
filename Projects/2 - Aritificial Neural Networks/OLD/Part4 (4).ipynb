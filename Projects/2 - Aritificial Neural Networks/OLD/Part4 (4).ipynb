{
  "nbformat": 4,
  "nbformat_minor": 0,
  "metadata": {
    "colab": {
      "provenance": []
    },
    "kernelspec": {
      "name": "python3",
      "display_name": "Python 3"
    },
    "language_info": {
      "name": "python"
    }
  },
  "cells": [
    {
      "cell_type": "code",
      "execution_count": 5,
      "metadata": {
        "id": "zCIwvSqcae6U"
      },
      "outputs": [],
      "source": [
        "import cv2\n",
        "import numpy as np\n",
        "from scipy.optimize import curve_fit\n",
        "import matplotlib.pyplot as plt\n",
        "from keras.models import Sequential\n",
        "from keras.layers import Dense\n",
        "from sklearn.model_selection import train_test_split"
      ]
    },
    {
      "cell_type": "code",
      "source": [
        "# Load the image\n",
        "image = cv2.imread('red_line_image.jpg')"
      ],
      "metadata": {
        "id": "_U8Kgajlapag"
      },
      "execution_count": 6,
      "outputs": []
    },
    {
      "cell_type": "code",
      "source": [
        "# Convert image to HSV color space\n",
        "hsv_image = cv2.cvtColor(image, cv2.COLOR_BGR2HSV)"
      ],
      "metadata": {
        "colab": {
          "base_uri": "https://localhost:8080/",
          "height": 192
        },
        "id": "5Al_3BXzh_44",
        "outputId": "c369a2cc-bc09-473f-ac9f-c17929158476"
      },
      "execution_count": 7,
      "outputs": [
        {
          "output_type": "error",
          "ename": "error",
          "evalue": "ignored",
          "traceback": [
            "\u001b[0;31m---------------------------------------------------------------------------\u001b[0m",
            "\u001b[0;31merror\u001b[0m                                     Traceback (most recent call last)",
            "\u001b[0;32m<ipython-input-7-027ff8d75c4b>\u001b[0m in \u001b[0;36m<cell line: 2>\u001b[0;34m()\u001b[0m\n\u001b[1;32m      1\u001b[0m \u001b[0;31m# Convert image to HSV color space\u001b[0m\u001b[0;34m\u001b[0m\u001b[0;34m\u001b[0m\u001b[0m\n\u001b[0;32m----> 2\u001b[0;31m \u001b[0mhsv_image\u001b[0m \u001b[0;34m=\u001b[0m \u001b[0mcv2\u001b[0m\u001b[0;34m.\u001b[0m\u001b[0mcvtColor\u001b[0m\u001b[0;34m(\u001b[0m\u001b[0mimage\u001b[0m\u001b[0;34m,\u001b[0m \u001b[0mcv2\u001b[0m\u001b[0;34m.\u001b[0m\u001b[0mCOLOR_BGR2HSV\u001b[0m\u001b[0;34m)\u001b[0m\u001b[0;34m\u001b[0m\u001b[0;34m\u001b[0m\u001b[0m\n\u001b[0m",
            "\u001b[0;31merror\u001b[0m: OpenCV(4.8.0) /io/opencv/modules/imgproc/src/color.cpp:182: error: (-215:Assertion failed) !_src.empty() in function 'cvtColor'\n"
          ]
        }
      ]
    },
    {
      "cell_type": "code",
      "source": [
        "# Define lower and upper thresholds for red color in HSV\n",
        "lower_red1 = np.array([0, 50, 50])\n",
        "upper_red1 = np.array([10, 255, 255])\n",
        "lower_red2 = np.array([170, 50, 50])\n",
        "upper_red2 = np.array([180, 255, 255])\n",
        "\n",
        "# Create masks for red pixels using the thresholds\n",
        "red_mask1 = cv2.inRange(hsv_image, lower_red1, upper_red1)\n",
        "red_mask2 = cv2.inRange(hsv_image, lower_red2, upper_red2)\n",
        "red_mask = cv2.bitwise_or(red_mask1, red_mask2)\n",
        "\n",
        "# Apply Canny edge detection on the red mask\n",
        "edges = cv2.Canny(red_mask, 50, 150, apertureSize=3)\n",
        "\n",
        "# Find contours in the edge image\n",
        "contours, _ = cv2.findContours(edges, cv2.RETR_EXTERNAL, cv2.CHAIN_APPROX_SIMPLE)"
      ],
      "metadata": {
        "id": "gOQ5_lN0aqEO"
      },
      "execution_count": null,
      "outputs": []
    },
    {
      "cell_type": "code",
      "source": [
        "# Check if contours were found\n",
        "if contours:\n",
        "    # Extract the largest contour (assuming it corresponds to the red line)\n",
        "    largest_contour = max(contours, key=cv2.contourArea)\n",
        "\n",
        "    # Extract the coordinates of the red line\n",
        "    x_coords = largest_contour[:, 0, 0]\n",
        "    y_coords = largest_contour[:, 0, 1]\n",
        "\n",
        "    # Print the coordinates of the red dots\n",
        "    for x, y in zip(x_coords, y_coords):\n",
        "        print(f\"Red dot coordinates: ({x}, {y})\")\n",
        "\n",
        "    # Fit a polynomial curve to the coordinates\n",
        "    degree = 3  # Degree of the polynomial curve\n",
        "    coeffs = np.polyfit(x_coords, y_coords, degree)\n",
        "    poly_func = np.poly1d(coeffs)\n",
        "\n",
        "    # Generate x values for plotting the curve\n",
        "    x_plot = np.linspace(min(x_coords), max(x_coords), 100)\n",
        "\n",
        "    # Evaluate the polynomial function for the plotted x values\n",
        "    y_plot = poly_func(x_plot)\n",
        "\n",
        "    # Plot the original image with the detected red line and the fitted curve\n",
        "    plt.figure(figsize=(8, 6))\n",
        "    plt.imshow(cv2.cvtColor(image, cv2.COLOR_BGR2RGB))\n",
        "    plt.plot(x_coords, y_coords, 'ro', label='Detected Red Line')\n",
        "    # plt.plot(x_plot, y_plot, 'b-', label='Fitted Curve')\n",
        "    plt.xlabel('x')\n",
        "    plt.ylabel('y')\n",
        "    plt.title('Fitting a Function to the Detected Red Line')\n",
        "    plt.legend()\n",
        "    plt.show()\n",
        "else:\n",
        "    print(\"No red line detected.\")"
      ],
      "metadata": {
        "id": "V6KT6D1vntZW"
      },
      "execution_count": null,
      "outputs": []
    },
    {
      "cell_type": "code",
      "source": [
        "# Define the MLP model\n",
        "model = Sequential()\n",
        "model.add(Dense(8, input_dim=1, activation='relu'))  # Hidden layer with 8 neurons\n",
        "model.add(Dense(1))  # Output layer\n",
        "\n",
        "# Compile the model\n",
        "model.compile(loss='mean_squared_error', optimizer='adam')"
      ],
      "metadata": {
        "id": "gycSGvzmql8E"
      },
      "execution_count": null,
      "outputs": []
    },
    {
      "cell_type": "code",
      "source": [
        "# Split the coordinates into training and test data\n",
        "    x_train, x_test, y_train, y_test = train_test_split(x_coords, y_coords, test_size=0.25, random_state=42)"
      ],
      "metadata": {
        "id": "kxJ8EI8GFXJa"
      },
      "execution_count": null,
      "outputs": []
    },
    {
      "cell_type": "code",
      "source": [
        "# Train the model\n",
        "history = model.fit(x_train, y_train, epochs=100, batch_size=32, verbose=0)"
      ],
      "metadata": {
        "id": "blACSC0Iqxpi"
      },
      "execution_count": null,
      "outputs": []
    },
    {
      "cell_type": "code",
      "source": [
        "# Make predictions\n",
        "predictions = model.predict(x_test)"
      ],
      "metadata": {
        "id": "_M__l56xFyVj"
      },
      "execution_count": null,
      "outputs": []
    },
    {
      "cell_type": "code",
      "source": [
        "# Plot the results\n",
        "plt.figure(figsize=(8, 6))\n",
        "plt.scatter(x_test, y_test, color='blue', label='Actual')\n",
        "plt.plot(x_test, predictions, color='red', label='Predicted')\n",
        "plt.xlabel('x')\n",
        "plt.ylabel('y')\n",
        "plt.title('Approximation of Sine Function')\n",
        "plt.legend()\n",
        "plt.show()"
      ],
      "metadata": {
        "id": "KId7iTamEx90"
      },
      "execution_count": null,
      "outputs": []
    }
  ]
}