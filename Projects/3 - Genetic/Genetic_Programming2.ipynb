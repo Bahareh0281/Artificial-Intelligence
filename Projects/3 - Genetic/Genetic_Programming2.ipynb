{
  "nbformat": 4,
  "nbformat_minor": 0,
  "metadata": {
    "colab": {
      "provenance": []
    },
    "kernelspec": {
      "name": "python3",
      "display_name": "Python 3"
    },
    "language_info": {
      "name": "python"
    }
  },
  "cells": [
    {
      "cell_type": "code",
      "execution_count": 346,
      "metadata": {
        "id": "JFPgAtoMJ9vd"
      },
      "outputs": [],
      "source": [
        "import matplotlib.pyplot as plt\n",
        "import random\n",
        "import math"
      ]
    },
    {
      "cell_type": "code",
      "source": [
        "class Node:\n",
        "    def __init__(self, type=None, value=None):\n",
        "        self.type = type\n",
        "        self.value = value\n",
        "        self.children = []\n",
        "\n",
        "    def evaluate(self, input_values, available_variables):\n",
        "      if self.value is None:\n",
        "          return 0\n",
        "      elif isinstance(self.value, str):  # Handle operators and functions\n",
        "          if self.value == '+':\n",
        "              return self.children[0].evaluate(input_values, available_variables) + self.children[1].evaluate(input_values, available_variables)\n",
        "          elif self.value == '-':\n",
        "              return self.children[0].evaluate(input_values, available_variables) - self.children[1].evaluate(input_values, available_variables)\n",
        "          elif self.value == '*':\n",
        "              return self.children[0].evaluate(input_values, available_variables) * self.children[1].evaluate(input_values, available_variables)\n",
        "          elif self.value == '/':\n",
        "              divisor = self.children[1].evaluate(input_values, available_variables)\n",
        "              if divisor != 0:\n",
        "                  return self.children[0].evaluate(input_values, available_variables) / divisor\n",
        "              else:\n",
        "                  return 0\n",
        "          elif self.value == '^':\n",
        "              base = self.children[0].evaluate(input_values, available_variables)\n",
        "              exponent = self.children[1].evaluate(input_values, available_variables)\n",
        "              if base != 0 or (exponent >= 0 and exponent.imag == 0):\n",
        "                  return base ** exponent\n",
        "              else:\n",
        "                  return 0\n",
        "          elif self.value == 'sin':\n",
        "              return math.sin(self.children[0].evaluate(input_values, available_variables))\n",
        "          elif self.value == 'cos':\n",
        "              return math.cos(self.children[0].evaluate(input_values, available_variables))\n",
        "          else:\n",
        "              return 0  # Return 0 for unknown operators/functions\n",
        "      elif isinstance(self.value, (int, float)):  # Handle numeric constants\n",
        "          return float(self.value)\n",
        "      elif isinstance(self.value, dict):  # Handle variables\n",
        "          variable_name = self.value['symbol']\n",
        "          if variable_name in available_variables:\n",
        "              index = available_variables.index(variable_name)\n",
        "              return input_values[index]\n",
        "      else:\n",
        "          return 0  # Return 0 for unknown value types\n",
        "\n",
        "    def print_function(self):\n",
        "        if self.value is None:\n",
        "            return '0'\n",
        "        elif isinstance(self.value, str):\n",
        "            if self.value in ('+', '-', '*', '/', '^'):\n",
        "                return f\"({self.children[0].print_function()} {self.value} {self.children[1].print_function()})\"\n",
        "            elif self.value in ('sin', 'cos'):\n",
        "                return f\"{self.value}({self.children[0].print_function()})\"\n",
        "            else:\n",
        "                return '0'  # Return '0' for unknown operators/functions\n",
        "        elif isinstance(self.value, (int, float)):\n",
        "            return str(self.value)\n",
        "        elif isinstance(self.value, dict):\n",
        "            return self.value['symbol']\n",
        "        else:\n",
        "            return '0'  # Return '0' for unknown value types"
      ],
      "metadata": {
        "id": "H1CQ5weZKD8y"
      },
      "execution_count": 347,
      "outputs": []
    },
    {
      "cell_type": "code",
      "source": [
        "def create_random_individual(max_depth, available_operators, available_variables):\n",
        "    if max_depth <= 0 or random.random() < 0.1:  # Terminal node (constant or variable)\n",
        "        if random.random() < 0.5:  # Generate constant\n",
        "            value = random.uniform(-10, 10)\n",
        "        else:  # Generate variable\n",
        "            symbol = random.choice(available_variables)\n",
        "            value = {'symbol': symbol}\n",
        "        return Node(value=value)\n",
        "    else:  # Function node (operator)\n",
        "        operator = random.choice(available_operators)\n",
        "        individual = Node(value=operator)\n",
        "        individual.children = [create_random_individual(max_depth - 1, available_operators, available_variables) for _ in range(operator['arity'])]\n",
        "        return individual"
      ],
      "metadata": {
        "id": "oz30ZjJIKHOo"
      },
      "execution_count": 348,
      "outputs": []
    },
    {
      "cell_type": "code",
      "source": [
        "def crossover(parent1, parent2):\n",
        "    child = Node(value=parent1.value)\n",
        "    child.children = [crossover(child1, child2) for child1, child2 in zip(parent1.children, parent2.children)]\n",
        "    return child"
      ],
      "metadata": {
        "id": "33SHxGdcKJSA"
      },
      "execution_count": 349,
      "outputs": []
    },
    {
      "cell_type": "code",
      "source": [
        "def mutation(individual, max_depth, available_operators, available_variables):\n",
        "    if max_depth > 0:\n",
        "        for idx, child in enumerate(individual.children):\n",
        "            individual.children[idx] = mutation(child, max_depth - 1, available_operators, available_variables)\n",
        "    else:  # Mutate leaf node\n",
        "        if isinstance(individual.value, str):\n",
        "            if individual.value in available_operators:\n",
        "                individual.value = random.choice(available_operators)\n",
        "            elif individual.value in available_variables:\n",
        "                individual.value = random.choice(available_variables)\n",
        "            else:\n",
        "                individual.value = random.uniform(-10, 10)\n",
        "        else:\n",
        "            individual.value = random.uniform(-10, 10)\n",
        "\n",
        "    return individual"
      ],
      "metadata": {
        "id": "GQNP3NE2KLDe"
      },
      "execution_count": 350,
      "outputs": []
    },
    {
      "cell_type": "code",
      "source": [
        "def evaluate_fitness(individual, input_data, target_outputs, available_variables):\n",
        "    \"\"\"Evaluate the fitness of an individual.\n",
        "\n",
        "    Args:\n",
        "        individual: The individual to evaluate.\n",
        "        input_data: A list of input data.\n",
        "        target_outputs: A list of target outputs.\n",
        "        available_variables: A list of available variables.\n",
        "\n",
        "    Returns:\n",
        "        The fitness of the individual.\n",
        "    \"\"\"\n",
        "\n",
        "    total_error = 0\n",
        "    for input_values, target_output in zip(input_data, target_outputs):\n",
        "        output = individual.evaluate(input_values, available_variables)\n",
        "        if output is not None:\n",
        "            error = abs(output - target_output)\n",
        "            total_error += error\n",
        "    return total_error"
      ],
      "metadata": {
        "id": "QvkQrZoOKMmA"
      },
      "execution_count": 351,
      "outputs": []
    },
    {
      "cell_type": "code",
      "source": [
        "def select_parents(population, input_data, target_outputs, available_variables):\n",
        "    fitness_scores = [evaluate_fitness(individual, input_data, target_outputs, available_variables) for individual in population]\n",
        "    total_fitness = sum(fitness_scores)\n",
        "    probabilities = [fitness / total_fitness for fitness in fitness_scores]\n",
        "    parents = random.choices(population, probabilities, k=2)\n",
        "    return parents"
      ],
      "metadata": {
        "id": "UWx9WjRjKOzf"
      },
      "execution_count": 352,
      "outputs": []
    },
    {
      "cell_type": "code",
      "source": [
        "def calculate_mse(individual, input_data, target_outputs, available_variables):\n",
        "    predictions = individual.evaluate(input_data, available_variables)\n",
        "    mse = np.mean((predictions - target_outputs) ** 2)\n",
        "    return mse"
      ],
      "metadata": {
        "id": "EsPo1YbelsLS"
      },
      "execution_count": null,
      "outputs": []
    },
    {
      "cell_type": "code",
      "source": [
        "def genetic_programming(input_data, target_outputs, available_operators, available_variables, population_size=100, max_generations=100, max_depth=5, unchanged_threshold=10):\n",
        "    population = [create_random_individual(max_depth, available_operators, available_variables) for _ in range(population_size)]\n",
        "    best_individual = None\n",
        "    best_fitness = float('inf')\n",
        "    unchanged_iterations = 0\n",
        "    best_fitness_history = []  # Store the best fitness value for each generation\n",
        "\n",
        "    for generation in range(max_generations):\n",
        "        new_population = []\n",
        "\n",
        "        while len(new_population) < population_size:\n",
        "            parents = select_parents(population, input_data, target_outputs, available_variables)\n",
        "            offspring = crossover(parents[0], parents[1])\n",
        "            offspring = mutation(offspring, max_depth, available_operators, available_variables)\n",
        "            new_population.append(offspring)\n",
        "\n",
        "        population = new_population\n",
        "\n",
        "        for individual in population:\n",
        "            fitness = evaluate_fitness(individual, input_data, target_outputs, available_variables)\n",
        "            if fitness < best_fitness:\n",
        "                best_individual = individual\n",
        "                best_fitness = fitness\n",
        "                unchanged_iterations = 0\n",
        "            else:\n",
        "                unchanged_iterations += 1\n",
        "\n",
        "        best_fitness_history.append(best_fitness)  # Store the best fitness value for the current generation\n",
        "\n",
        "        if best_fitness == 0:\n",
        "            break\n",
        "\n",
        "        if unchanged_iterations >= unchanged_threshold:\n",
        "            best_individual = mutation(best_individual, max_depth, available_operators, available_variables)\n",
        "            unchanged_iterations = 0\n",
        "\n",
        "    plot_fitness_history(best_fitness_history)\n",
        "\n",
        "    return best_individual"
      ],
      "metadata": {
        "id": "32qjN5E8KS-Q"
      },
      "execution_count": 353,
      "outputs": []
    },
    {
      "cell_type": "code",
      "source": [
        "def plot_fitness_history(fitness_history):\n",
        "    plt.plot(fitness_history)\n",
        "    plt.xlabel('Generation')\n",
        "    plt.ylabel('Best Fitness')\n",
        "    plt.title('Genetic Programming Progress')\n",
        "    plt.show()"
      ],
      "metadata": {
        "id": "r8tXCED3i_0b"
      },
      "execution_count": 354,
      "outputs": []
    },
    {
      "cell_type": "code",
      "source": [
        "def plot_mse_history(mse_history):\n",
        "    plt.plot(mse_history)\n",
        "    plt.xlabel('Generation')\n",
        "    plt.ylabel('Mean Squared Error (MSE)')\n",
        "    plt.title('MSE Change over Generations')\n",
        "    plt.show()"
      ],
      "metadata": {
        "id": "myMp2rNIloW5"
      },
      "execution_count": null,
      "outputs": []
    },
    {
      "cell_type": "code",
      "source": [
        "def generate_inputs(num_inputs):\n",
        "    inputs = []\n",
        "    for _ in range(num_inputs):\n",
        "        x = random.uniform(-10, 10)\n",
        "        inputs.append((x,))\n",
        "    return inputs"
      ],
      "metadata": {
        "id": "xmeLhySkTS8k"
      },
      "execution_count": 355,
      "outputs": []
    },
    {
      "cell_type": "code",
      "source": [
        "def generate2D_inputs(num_inputs):\n",
        "    inputs = []\n",
        "    for _ in range(num_inputs):\n",
        "        x = random.uniform(-10, 10)\n",
        "        y = random.uniform(-10, 10)\n",
        "        inputs.append((x, y))\n",
        "    return inputs"
      ],
      "metadata": {
        "id": "0JFCJWCCZWM4"
      },
      "execution_count": 356,
      "outputs": []
    },
    {
      "cell_type": "code",
      "source": [
        "# Example usage:\n",
        "# input_data = [(1,), (2,), (3,), (4,)]\n",
        "# target_outputs = [3, 5, 7, 9]\n",
        "\n",
        "# Part 1\n",
        "input_data = generate_inputs(100)  # Generate 100 input data points\n",
        "target_outputs = [math.atan(x[0]) + 5 for x in input_data]  # Define target outputs for the inputs\n",
        "available_variables = ['x']\n",
        "\n",
        "# Part 2\n",
        "# input_data = generate_inputs(500)  # Generate 500 input data points\n",
        "# target_outputs = [(x[0]/5 + 1) if x[0] > 0 else (x[0] ** 3 + 5) for x in input_data]  # Define target outputs for the inputs\n",
        "# available_variables = ['x']\n",
        "\n",
        "# Part 4\n",
        "input_data = generate2D_inputs(500)  # Generate 500 input data points\n",
        "# target_outputs = [2 * x[0] + 3 * x[1] for x in input_data]  # Define target outputs for the inputs\n",
        "# available_variables = ['x', 'y']\n",
        "\n",
        "available_operators = [\n",
        "    {'symbol': '+', 'arity': 2},\n",
        "    {'symbol': '-', 'arity': 2},\n",
        "    {'symbol': '*', 'arity': 2},\n",
        "    {'symbol': '/', 'arity': 2},\n",
        "    {'symbol': '^', 'arity': 2},\n",
        "    {'symbol': 'sin', 'arity': 1},\n",
        "    {'symbol': 'cos', 'arity': 1}\n",
        "]\n",
        "\n",
        "\n",
        "best_function = genetic_programming(input_data, target_outputs, available_operators, available_variables)\n",
        "print(\"Best function:\", best_function.print_function())"
      ],
      "metadata": {
        "colab": {
          "base_uri": "https://localhost:8080/",
          "height": 489
        },
        "id": "puyggx2rKeH-",
        "outputId": "bf7e5893-032e-4612-cfae-5778ff09bb0a"
      },
      "execution_count": 357,
      "outputs": [
        {
          "output_type": "display_data",
          "data": {
            "text/plain": [
              "<Figure size 640x480 with 1 Axes>"
            ],
            "image/png": "[encoded data removed]"
          },
          "metadata": {}
        },
        {
          "output_type": "stream",
          "name": "stdout",
          "text": [
            "Best function: 8.720490679163298\n"
          ]
        }
      ]
    }
  ]
}