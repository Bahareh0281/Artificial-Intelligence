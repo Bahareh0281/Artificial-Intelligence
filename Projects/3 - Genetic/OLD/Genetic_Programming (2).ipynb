{
  "nbformat": 4,
  "nbformat_minor": 0,
  "metadata": {
    "colab": {
      "provenance": []
    },
    "kernelspec": {
      "name": "python3",
      "display_name": "Python 3"
    },
    "language_info": {
      "name": "python"
    }
  },
  "cells": [
    {
      "cell_type": "code",
      "execution_count": null,
      "metadata": {
        "id": "nHZGMLfMV5zz"
      },
      "outputs": [],
      "source": [
        "import random\n",
        "import math\n",
        "import cmath"
      ]
    },
    {
      "cell_type": "code",
      "source": [
        "# Define the Node Structure\n",
        "class Node:\n",
        "    def __init__(self, type, value=None):\n",
        "        self.type = type\n",
        "        self.value = value\n",
        "        self.children = []\n",
        "\n",
        "    def evaluate(self, input_values, available_variables):\n",
        "      if self.value is None:\n",
        "          return None  # Return None for nodes with no value (such as non-terminal nodes)\n",
        "      elif isinstance(self.value, str):\n",
        "          if self.value == '+':\n",
        "              return self.children[0].evaluate(input_values, available_variables) + self.children[1].evaluate(input_values, available_variables)\n",
        "          elif self.value == '-':\n",
        "              return self.children[0].evaluate(input_values, available_variables) - self.children[1].evaluate(input_values, available_variables)\n",
        "          elif self.value == '*':\n",
        "              return self.children[0].evaluate(input_values, available_variables) * self.children[1].evaluate(input_values, available_variables)\n",
        "          elif self.value == '/':\n",
        "              divisor = self.children[1].evaluate(input_values, available_variables)\n",
        "              if divisor != 0:\n",
        "                  return self.children[0].evaluate(input_values, available_variables) / divisor\n",
        "              else:\n",
        "                  return 0  # Return a default value for division by zero\n",
        "          elif self.value == '^':\n",
        "              base = self.children[0].evaluate(input_values, available_variables)\n",
        "              exponent = self.children[1].evaluate(input_values, available_variables)\n",
        "              if base != 0 or (exponent >= 0 and exponent.imag == 0):\n",
        "                  return base ** exponent\n",
        "              else:\n",
        "                  return 0  # Return a default value for zero base raised to negative or complex exponent\n",
        "          elif self.value == 'sin':\n",
        "              return math.sin(self.children[0].evaluate(input_values, available_variables))\n",
        "          elif self.value == 'cos':\n",
        "              return math.cos(self.children[0].evaluate(input_values, available_variables))\n",
        "          elif self.value in available_variables:\n",
        "              return input_values[available_variables.index(self.value)]\n",
        "      else:\n",
        "          return float(self.value)\n",
        "\n",
        "    def print_function(self):\n",
        "        if self.value == '+':\n",
        "            return f\"({self.children[0].print_function()} + {self.children[1].print_function()})\"\n",
        "        elif self.value == '-':\n",
        "            return f\"({self.children[0].print_function()} - {self.children[1].print_function()})\"\n",
        "        elif self.value == '*':\n",
        "            return f\"{self.children[0].print_function()} * {self.children[1].print_function()}\"\n",
        "        elif self.value == '/':\n",
        "            return f\"{self.children[0].print_function()} / {self.children[1].print_function()}\"\n",
        "        elif self.value == '^':\n",
        "            return f\"{self.children[0].print_function()} ^ {self.children[1].print_function()}\"\n",
        "        elif self.value == 'sin':\n",
        "            return f\"sin({self.children[0].print_function()})\"\n",
        "        elif self.value == 'cos':\n",
        "            return f\"cos({self.children[0].print_function()})\"\n",
        "        elif self.value in available_variables:\n",
        "            return self.value\n",
        "        else:\n",
        "            return str(float(self.value))"
      ],
      "metadata": {
        "id": "rcUuPKzvJHaC"
      },
      "execution_count": null,
      "outputs": []
    },
    {
      "cell_type": "code",
      "source": [
        "# Generate Initial Population\n",
        "def generate_tree(max_depth, available_operators, available_variables):\n",
        "    if max_depth == 0 or random.random() < 0.1:\n",
        "        if random.random() < 0.5:\n",
        "            return Node('constant', value=random.uniform(-10, 10))\n",
        "        else:\n",
        "            return Node('variable', value=random.choice(available_variables))\n",
        "    else:\n",
        "        node = Node('operator', value=random.choice(available_operators))\n",
        "        num_children = 2 if node.value not in ['sin', 'cos'] else 1\n",
        "        for _ in range(num_children):\n",
        "            node.children.append(generate_tree(max_depth - 1, available_operators, available_variables))\n",
        "        return node"
      ],
      "metadata": {
        "id": "TZjwbBjPJUEi"
      },
      "execution_count": null,
      "outputs": []
    },
    {
      "cell_type": "code",
      "source": [
        "# Define the Fitness Function\n",
        "def fitness_function(tree, input_data, target_outputs, available_variables):\n",
        "    total_error = 0.0\n",
        "    for input_values, target_output in zip(input_data, target_outputs):\n",
        "        output = tree.evaluate(input_values, available_variables)\n",
        "        error = abs(output - target_output)\n",
        "        total_error += error\n",
        "    return total_error"
      ],
      "metadata": {
        "id": "L7ONIBiJJxE0"
      },
      "execution_count": null,
      "outputs": []
    },
    {
      "cell_type": "code",
      "source": [
        "# Genetic Operators\n",
        "def crossover(parent1, parent2):\n",
        "    child = parent1\n",
        "    if parent1.children and parent2.children:\n",
        "        node1 = random.choice(parent1.children)\n",
        "        node2 = random.choice(parent2.children)\n",
        "        node1_index = parent1.children.index(node1)\n",
        "        node2_index = parent2.children.index(node2)\n",
        "\n",
        "        # Extend child's children list if needed\n",
        "        if node1_index >= len(child.children):\n",
        "            child.children.extend([None] * (node1_index - len(child.children) + 1))\n",
        "        if node2_index >= len(child.children):\n",
        "            child.children.extend([None] * (node2_index - len(child.children) + 1))\n",
        "\n",
        "        child.children[node1_index] = node2\n",
        "        child.children[node2_index] = node1\n",
        "    return child"
      ],
      "metadata": {
        "id": "MUonGyWhJzta"
      },
      "execution_count": null,
      "outputs": []
    },
    {
      "cell_type": "code",
      "source": [
        "def mutation(tree, max_depth, available_operators, available_variables):\n",
        "    mutated_tree = tree\n",
        "    if mutated_tree.children:\n",
        "        node = random.choice(mutated_tree.children)\n",
        "        node_index = mutated_tree.children.index(node)\n",
        "        mutated_tree.children[node_index] = generate_tree(max_depth, available_operators, available_variables)\n",
        "    return mutated_tree"
      ],
      "metadata": {
        "id": "J_1BT0cCJ15Z"
      },
      "execution_count": null,
      "outputs": []
    },
    {
      "cell_type": "code",
      "source": [
        "def create_random_individual(max_depth, available_operators, available_variables):\n",
        "    if max_depth == 0 or random.random() < 0.3:\n",
        "        # Create a terminal node\n",
        "        if random.random() < 0.5:\n",
        "            # Generate a random variable\n",
        "            return Node(random.choice(available_variables))\n",
        "        else:\n",
        "            # Generate a random constant\n",
        "            return Node(random.uniform(-10, 10))\n",
        "    else:\n",
        "        # Create an operator node\n",
        "        operator = random.choice(available_operators)\n",
        "        children = [\n",
        "            create_random_individual(max_depth - 1, available_operators, available_variables),\n",
        "            create_random_individual(max_depth - 1, available_operators, available_variables)\n",
        "        ]\n",
        "        return Node(operator, children)"
      ],
      "metadata": {
        "id": "Il5X6II0Tamd"
      },
      "execution_count": null,
      "outputs": []
    },
    {
      "cell_type": "code",
      "source": [
        "# Evolutionary Loop\n",
        "def genetic_programming(input_data, target_outputs, available_operators, available_variables, population_size, max_depth, num_generations):\n",
        "    population = []\n",
        "    for _ in range(population_size):\n",
        "        individual = create_random_individual(max_depth, available_operators, available_variables)\n",
        "        population.append(individual)\n",
        "\n",
        "    for generation in range(num_generations):\n",
        "        fitness_scores = []\n",
        "        for individual in population:\n",
        "            fitness_scores.append(fitness_function(individual, input_data, target_outputs, available_variables))\n",
        "\n",
        "        # Select parents for reproduction\n",
        "        parents = select_parents(population, fitness_scores)\n",
        "\n",
        "        # Create the next generation\n",
        "        population = []\n",
        "        for _ in range(population_size):\n",
        "            parent1, parent2 = random.choices(parents, k=2)\n",
        "            child = crossover(parent1, parent2)\n",
        "            child = mutate(child, available_operators, available_variables)\n",
        "            population.append(child)\n",
        "\n",
        "    best_individual = min(population, key=lambda individual: fitness_function(individual, input_data, target_outputs, available_variables))\n",
        "    return best_individual"
      ],
      "metadata": {
        "id": "PZT-0FjOJ6eI"
      },
      "execution_count": null,
      "outputs": []
    },
    {
      "cell_type": "code",
      "source": [
        "# Example Usage\n",
        "input_data = [[1], [2], [3], [4], [5]]\n",
        "target_outputs = [3, 5, 7, 9, 11]\n",
        "available_operators = ['+', '-', '*', '/', '^', 'sin', 'cos']  # Available operators in the genetic program\n",
        "available_variables = ['x', 'y', 'z']  # Available variables in the genetic program\n",
        "\n",
        "population_size = 100\n",
        "max_depth = 5\n",
        "num_generations = 50\n",
        "\n",
        "best_individual = genetic_programming(input_data, target_outputs, available_operators, available_variables, population_size, max_depth, num_generations)\n",
        "\n",
        "# Print the best individual and its fitness score\n",
        "print(\"Best Individual:\", best_individual)\n",
        "fitness_score = fitness_function(best_individual, input_data, target_outputs)\n",
        "print(\"Best Individual:\")\n",
        "print(best_individual.print_function())\n",
        "print(\"Fitness Score:\", fitness_score)"
      ],
      "metadata": {
        "colab": {
          "base_uri": "https://localhost:8080/",
          "height": 442
        },
        "id": "HW9jNarbJ8Oe",
        "outputId": "88f60a43-2130-4f6f-f548-72c729c6c02a"
      },
      "execution_count": null,
      "outputs": [
        {
          "output_type": "error",
          "ename": "TypeError",
          "evalue": "ignored",
          "traceback": [
            "\u001b[0;31m---------------------------------------------------------------------------\u001b[0m",
            "\u001b[0;31mTypeError\u001b[0m                                 Traceback (most recent call last)",
            "\u001b[0;32m<ipython-input-233-850004063679>\u001b[0m in \u001b[0;36m<cell line: 11>\u001b[0;34m()\u001b[0m\n\u001b[1;32m      9\u001b[0m \u001b[0mnum_generations\u001b[0m \u001b[0;34m=\u001b[0m \u001b[0;36m50\u001b[0m\u001b[0;34m\u001b[0m\u001b[0;34m\u001b[0m\u001b[0m\n\u001b[1;32m     10\u001b[0m \u001b[0;34m\u001b[0m\u001b[0m\n\u001b[0;32m---> 11\u001b[0;31m \u001b[0mbest_individual\u001b[0m \u001b[0;34m=\u001b[0m \u001b[0mgenetic_programming\u001b[0m\u001b[0;34m(\u001b[0m\u001b[0minput_data\u001b[0m\u001b[0;34m,\u001b[0m \u001b[0mtarget_outputs\u001b[0m\u001b[0;34m,\u001b[0m \u001b[0mavailable_operators\u001b[0m\u001b[0;34m,\u001b[0m \u001b[0mavailable_variables\u001b[0m\u001b[0;34m,\u001b[0m \u001b[0mpopulation_size\u001b[0m\u001b[0;34m,\u001b[0m \u001b[0mmax_depth\u001b[0m\u001b[0;34m,\u001b[0m \u001b[0mnum_generations\u001b[0m\u001b[0;34m)\u001b[0m\u001b[0;34m\u001b[0m\u001b[0;34m\u001b[0m\u001b[0m\n\u001b[0m\u001b[1;32m     12\u001b[0m \u001b[0;34m\u001b[0m\u001b[0m\n\u001b[1;32m     13\u001b[0m \u001b[0;31m# Print the best individual and its fitness score\u001b[0m\u001b[0;34m\u001b[0m\u001b[0;34m\u001b[0m\u001b[0m\n",
            "\u001b[0;32m<ipython-input-232-c258afd230ab>\u001b[0m in \u001b[0;36mgenetic_programming\u001b[0;34m(input_data, target_outputs, available_operators, available_variables, population_size, max_depth, num_generations)\u001b[0m\n\u001b[1;32m      9\u001b[0m         \u001b[0mfitness_scores\u001b[0m \u001b[0;34m=\u001b[0m \u001b[0;34m[\u001b[0m\u001b[0;34m]\u001b[0m\u001b[0;34m\u001b[0m\u001b[0;34m\u001b[0m\u001b[0m\n\u001b[1;32m     10\u001b[0m         \u001b[0;32mfor\u001b[0m \u001b[0mindividual\u001b[0m \u001b[0;32min\u001b[0m \u001b[0mpopulation\u001b[0m\u001b[0;34m:\u001b[0m\u001b[0;34m\u001b[0m\u001b[0;34m\u001b[0m\u001b[0m\n\u001b[0;32m---> 11\u001b[0;31m             \u001b[0mfitness_scores\u001b[0m\u001b[0;34m.\u001b[0m\u001b[0mappend\u001b[0m\u001b[0;34m(\u001b[0m\u001b[0mfitness_function\u001b[0m\u001b[0;34m(\u001b[0m\u001b[0mindividual\u001b[0m\u001b[0;34m,\u001b[0m \u001b[0minput_data\u001b[0m\u001b[0;34m,\u001b[0m \u001b[0mtarget_outputs\u001b[0m\u001b[0;34m,\u001b[0m \u001b[0mavailable_variables\u001b[0m\u001b[0;34m)\u001b[0m\u001b[0;34m)\u001b[0m\u001b[0;34m\u001b[0m\u001b[0;34m\u001b[0m\u001b[0m\n\u001b[0m\u001b[1;32m     12\u001b[0m \u001b[0;34m\u001b[0m\u001b[0m\n\u001b[1;32m     13\u001b[0m         \u001b[0;31m# Select parents for reproduction\u001b[0m\u001b[0;34m\u001b[0m\u001b[0;34m\u001b[0m\u001b[0m\n",
            "\u001b[0;32m<ipython-input-228-d53d86543d68>\u001b[0m in \u001b[0;36mfitness_function\u001b[0;34m(tree, input_data, target_outputs, available_variables)\u001b[0m\n\u001b[1;32m      3\u001b[0m     \u001b[0mtotal_error\u001b[0m \u001b[0;34m=\u001b[0m \u001b[0;36m0.0\u001b[0m\u001b[0;34m\u001b[0m\u001b[0;34m\u001b[0m\u001b[0m\n\u001b[1;32m      4\u001b[0m     \u001b[0;32mfor\u001b[0m \u001b[0minput_values\u001b[0m\u001b[0;34m,\u001b[0m \u001b[0mtarget_output\u001b[0m \u001b[0;32min\u001b[0m \u001b[0mzip\u001b[0m\u001b[0;34m(\u001b[0m\u001b[0minput_data\u001b[0m\u001b[0;34m,\u001b[0m \u001b[0mtarget_outputs\u001b[0m\u001b[0;34m)\u001b[0m\u001b[0;34m:\u001b[0m\u001b[0;34m\u001b[0m\u001b[0;34m\u001b[0m\u001b[0m\n\u001b[0;32m----> 5\u001b[0;31m         \u001b[0moutput\u001b[0m \u001b[0;34m=\u001b[0m \u001b[0mtree\u001b[0m\u001b[0;34m.\u001b[0m\u001b[0mevaluate\u001b[0m\u001b[0;34m(\u001b[0m\u001b[0minput_values\u001b[0m\u001b[0;34m,\u001b[0m \u001b[0mavailable_variables\u001b[0m\u001b[0;34m)\u001b[0m\u001b[0;34m\u001b[0m\u001b[0;34m\u001b[0m\u001b[0m\n\u001b[0m\u001b[1;32m      6\u001b[0m         \u001b[0merror\u001b[0m \u001b[0;34m=\u001b[0m \u001b[0mabs\u001b[0m\u001b[0;34m(\u001b[0m\u001b[0moutput\u001b[0m \u001b[0;34m-\u001b[0m \u001b[0mtarget_output\u001b[0m\u001b[0;34m)\u001b[0m\u001b[0;34m\u001b[0m\u001b[0;34m\u001b[0m\u001b[0m\n\u001b[1;32m      7\u001b[0m         \u001b[0mtotal_error\u001b[0m \u001b[0;34m+=\u001b[0m \u001b[0merror\u001b[0m\u001b[0;34m\u001b[0m\u001b[0;34m\u001b[0m\u001b[0m\n",
            "\u001b[0;32m<ipython-input-226-c65dc6f364bd>\u001b[0m in \u001b[0;36mevaluate\u001b[0;34m(self, input_values, available_variables)\u001b[0m\n\u001b[1;32m     36\u001b[0m               \u001b[0;32mreturn\u001b[0m \u001b[0minput_values\u001b[0m\u001b[0;34m[\u001b[0m\u001b[0mavailable_variables\u001b[0m\u001b[0;34m.\u001b[0m\u001b[0mindex\u001b[0m\u001b[0;34m(\u001b[0m\u001b[0mself\u001b[0m\u001b[0;34m.\u001b[0m\u001b[0mvalue\u001b[0m\u001b[0;34m)\u001b[0m\u001b[0;34m]\u001b[0m\u001b[0;34m\u001b[0m\u001b[0;34m\u001b[0m\u001b[0m\n\u001b[1;32m     37\u001b[0m       \u001b[0;32melse\u001b[0m\u001b[0;34m:\u001b[0m\u001b[0;34m\u001b[0m\u001b[0;34m\u001b[0m\u001b[0m\n\u001b[0;32m---> 38\u001b[0;31m           \u001b[0;32mreturn\u001b[0m \u001b[0mfloat\u001b[0m\u001b[0;34m(\u001b[0m\u001b[0mself\u001b[0m\u001b[0;34m.\u001b[0m\u001b[0mvalue\u001b[0m\u001b[0;34m)\u001b[0m\u001b[0;34m\u001b[0m\u001b[0;34m\u001b[0m\u001b[0m\n\u001b[0m\u001b[1;32m     39\u001b[0m \u001b[0;34m\u001b[0m\u001b[0m\n\u001b[1;32m     40\u001b[0m     \u001b[0;32mdef\u001b[0m \u001b[0mprint_function\u001b[0m\u001b[0;34m(\u001b[0m\u001b[0mself\u001b[0m\u001b[0;34m)\u001b[0m\u001b[0;34m:\u001b[0m\u001b[0;34m\u001b[0m\u001b[0;34m\u001b[0m\u001b[0m\n",
            "\u001b[0;31mTypeError\u001b[0m: float() argument must be a string or a real number, not 'list'"
          ]
        }
      ]
    },
    {
      "cell_type": "code",
      "source": [
        "# # Generate training data\n",
        "# np.random.seed(1)\n",
        "# X = np.random.uniform(-2*np.pi, 2*np.pi, 1000)  # Input features with 1000 samples\n",
        "# y = np.sin(X)  # Target variable is the sine of X"
      ],
      "metadata": {
        "id": "ZAkBLiPQ-uvI"
      },
      "execution_count": null,
      "outputs": []
    }
  ]
}