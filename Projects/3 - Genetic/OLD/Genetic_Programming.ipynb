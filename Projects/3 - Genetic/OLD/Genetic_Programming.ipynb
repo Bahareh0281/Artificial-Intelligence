{
  "nbformat": 4,
  "nbformat_minor": 0,
  "metadata": {
    "colab": {
      "provenance": []
    },
    "kernelspec": {
      "name": "python3",
      "display_name": "Python 3"
    },
    "language_info": {
      "name": "python"
    }
  },
  "cells": [
    {
      "cell_type": "code",
      "execution_count": 75,
      "metadata": {
        "id": "nHZGMLfMV5zz"
      },
      "outputs": [],
      "source": [
        "import random\n",
        "import math\n",
        "import cmath"
      ]
    },
    {
      "cell_type": "code",
      "source": [
        "# Define the Node Structure\n",
        "class Node:\n",
        "    def __init__(self, type, value=None):\n",
        "        self.type = type\n",
        "        self.value = value\n",
        "        self.children = []\n",
        "\n",
        "    def evaluate(self, input_values):\n",
        "        if self.value == '+':\n",
        "            return self.children[0].evaluate(input_values) + self.children[1].evaluate(input_values)\n",
        "        elif self.value == '-':\n",
        "            return self.children[0].evaluate(input_values) - self.children[1].evaluate(input_values)\n",
        "        elif self.value == '*':\n",
        "            return self.children[0].evaluate(input_values) * self.children[1].evaluate(input_values)\n",
        "        elif self.value == '/':\n",
        "            denominator = self.children[1].evaluate(input_values)\n",
        "            if denominator == 0:\n",
        "                return 0  # Handle division by zero\n",
        "            return self.children[0].evaluate(input_values) / denominator\n",
        "        elif self.value == '^':\n",
        "            base = self.children[0].evaluate(input_values)\n",
        "            exponent = self.children[1].evaluate(input_values)\n",
        "            if isinstance(base, complex) or isinstance(exponent, complex):\n",
        "                return complex(base) ** complex(exponent)\n",
        "            elif base == 0 and (exponent < 0 or exponent.imag != 0):\n",
        "                return 0  # Return a default value for zero base raised to negative or complex exponent\n",
        "            try:\n",
        "                return base ** exponent\n",
        "            except OverflowError:\n",
        "                return 0  # Handle overflow error\n",
        "        elif self.value == 'sin':\n",
        "            argument = self.children[0].evaluate(input_values)\n",
        "            try:\n",
        "                return math.sin(argument) if isinstance(argument, float) else cmath.sin(argument)\n",
        "            except OverflowError:\n",
        "                return 0  # Handle overflow error\n",
        "        elif self.value == 'cos':\n",
        "            argument = self.children[0].evaluate(input_values)\n",
        "            try:\n",
        "                return math.cos(argument) if isinstance(argument, float) else cmath.cos(argument)\n",
        "            except OverflowError:\n",
        "                return 0  # Handle overflow error\n",
        "        elif self.value in input_values:\n",
        "            return input_values[self.value]\n",
        "        else:\n",
        "            return float(self.value)"
      ],
      "metadata": {
        "id": "rcUuPKzvJHaC"
      },
      "execution_count": 76,
      "outputs": []
    },
    {
      "cell_type": "code",
      "source": [
        "# Generate Initial Population\n",
        "def generate_tree(max_depth, available_operators, available_variables):\n",
        "    if max_depth == 0 or random.random() < 0.1:\n",
        "        if random.random() < 0.5:\n",
        "            return Node('constant', value=random.uniform(-10, 10))\n",
        "        else:\n",
        "            return Node('variable', value=random.choice(available_variables))\n",
        "    else:\n",
        "        node = Node('operator', value=random.choice(available_operators))\n",
        "        num_children = 2 if node.value not in ['sin', 'cos'] else 1\n",
        "        for _ in range(num_children):\n",
        "            node.children.append(generate_tree(max_depth - 1, available_operators, available_variables))\n",
        "        return node"
      ],
      "metadata": {
        "id": "TZjwbBjPJUEi"
      },
      "execution_count": 77,
      "outputs": []
    },
    {
      "cell_type": "code",
      "source": [
        "# Define the Fitness Function\n",
        "def fitness_function(tree, input_data, target_outputs):\n",
        "    total_error = 0.0\n",
        "    for input_values, target_output in zip(input_data, target_outputs):\n",
        "        output = tree.evaluate(input_values)\n",
        "        error = abs(output - target_output)\n",
        "        total_error += error\n",
        "    return total_error"
      ],
      "metadata": {
        "id": "L7ONIBiJJxE0"
      },
      "execution_count": 78,
      "outputs": []
    },
    {
      "cell_type": "code",
      "source": [
        "# Genetic Operators\n",
        "def crossover(parent1, parent2):\n",
        "    child = parent1\n",
        "    if parent1.children and parent2.children:\n",
        "        node1 = random.choice(parent1.children)\n",
        "        node2 = random.choice(parent2.children)\n",
        "        node1_index = parent1.children.index(node1)\n",
        "        node2_index = parent2.children.index(node2)\n",
        "        child.children[node1_index] = node2\n",
        "        child.children[node2_index] = node1\n",
        "    return child"
      ],
      "metadata": {
        "id": "MUonGyWhJzta"
      },
      "execution_count": 79,
      "outputs": []
    },
    {
      "cell_type": "code",
      "source": [
        "def mutation(tree, max_depth, available_operators, available_variables):\n",
        "    mutated_tree = tree\n",
        "    node = random.choice(mutated_tree.children)\n",
        "    node_index = mutated_tree.children.index(node)\n",
        "    mutated_tree.children[node_index] = generate_tree(max_depth, available_operators, available_variables)\n",
        "    return mutated_tree"
      ],
      "metadata": {
        "id": "J_1BT0cCJ15Z"
      },
      "execution_count": 80,
      "outputs": []
    },
    {
      "cell_type": "code",
      "source": [
        "# Evolutionary Loop\n",
        "def genetic_programming(input_data, target_outputs, available_operators, available_variables, population_size, max_depth, num_generations):\n",
        "    population = []\n",
        "    for _ in range(population_size):\n",
        "        tree = generate_tree(max_depth, available_operators, available_variables)\n",
        "        population.append(tree)\n",
        "\n",
        "    for generation in range(num_generations):\n",
        "        # Evaluate fitness for each individual\n",
        "        fitness_scores = []\n",
        "        for individual in population:\n",
        "            fitness_scores.append(fitness_function(individual, input_data, target_outputs))\n",
        "\n",
        "        # Select parents for reproduction\n",
        "        parents = random.choices(population, weights=[1 / (score + 1) for score in fitness_scores], k=2)\n",
        "\n",
        "        # Create offspring through crossover and mutation\n",
        "        offspring = []\n",
        "        for _ in range(population_size - 1):\n",
        "            child = crossover(parents[0], parents[1])\n",
        "            child = mutation(child, max_depth, available_operators, available_variables)\n",
        "            offspring.append(child)\n",
        "\n",
        "        # Replace the least fit individual with the best individual to maintain diversity\n",
        "        best_individual_index = fitness_scores.index(min(fitness_scores))\n",
        "        offspring.append(population[best_individual_index])\n",
        "\n",
        "        population = offspring\n",
        "\n",
        "    # Get the best individual from the final population\n",
        "    fitness_scores = [fitness_function(individual, input_data, target_outputs) for individual in population]\n",
        "    best_individual_index = fitness_scores.index(min(fitness_scores))\n",
        "    best_individual = population[best_individual_index]\n",
        "\n",
        "    return best_individual"
      ],
      "metadata": {
        "id": "PZT-0FjOJ6eI"
      },
      "execution_count": 81,
      "outputs": []
    },
    {
      "cell_type": "code",
      "source": [
        "# Example Usage\n",
        "input_data = [[1], [2], [3], [4], [5]]\n",
        "target_outputs = [3, 5, 7, 9, 11]\n",
        "available_operators = ['+', '-', '*', '/', '^', 'sin', 'cos']\n",
        "available_variables = [0]  # Assuming only one variable 'x'\n",
        "population_size = 100\n",
        "max_depth = 3\n",
        "num_generations = 50\n",
        "\n",
        "best_individual = genetic_programming(input_data, target_outputs, available_operators, available_variables, population_size, max_depth, num_generations)\n",
        "\n",
        "# Print the best individual and its fitness score\n",
        "print(\"Best Individual:\", best_individual)\n",
        "fitness_score = fitness_function(best_individual, input_data, target_outputs)\n",
        "print(\"Fitness Score:\", fitness_score)"
      ],
      "metadata": {
        "colab": {
          "base_uri": "https://localhost:8080/"
        },
        "id": "HW9jNarbJ8Oe",
        "outputId": "2f739d9e-3715-4d87-ac77-070b61be4985"
      },
      "execution_count": 82,
      "outputs": [
        {
          "output_type": "stream",
          "name": "stdout",
          "text": [
            "Best Individual: <__main__.Node object at 0x7a9352aae9e0>\n",
            "Fitness Score: 34.82781847388725\n"
          ]
        }
      ]
    },
    {
      "cell_type": "code",
      "source": [
        "# # Generate training data\n",
        "# np.random.seed(1)\n",
        "# X = np.random.uniform(-2*np.pi, 2*np.pi, 1000)  # Input features with 1000 samples\n",
        "# y = np.sin(X)  # Target variable is the sine of X"
      ],
      "metadata": {
        "id": "ZAkBLiPQ-uvI"
      },
      "execution_count": 83,
      "outputs": []
    }
  ]
}